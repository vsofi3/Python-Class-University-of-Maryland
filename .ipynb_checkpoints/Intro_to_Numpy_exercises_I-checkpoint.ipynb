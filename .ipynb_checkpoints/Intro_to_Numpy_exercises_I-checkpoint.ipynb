{
 "cells": [
  {
   "cell_type": "markdown",
   "metadata": {
    "pycharm": {
     "name": "#%% md\n"
    }
   },
   "source": [
    "## EXERCISE 4.1\n",
    "###  1. Your first NumPy array\n",
    "\n",
    "Once you're comfortable with NumPy, you'll find yourself converting Python lists into NumPy arrays all the time for increased speed and access to NumPy's excellent array methods.\n",
    "\n",
    "`sudoku_list` is a Python list containing a sudoku game: \n",
    "\n",
    "```python\n",
    "[[0, 0, 4, 3, 0, 0, 2, 0, 9],\n",
    " [0, 0, 5, 0, 0, 9, 0, 0, 1],\n",
    " [0, 7, 0, 0, 6, 0, 0, 4, 3],\n",
    " [0, 0, 6, 0, 0, 2, 0, 8, 7],\n",
    " [1, 9, 0, 0, 0, 7, 4, 0, 0],\n",
    " [0, 5, 0, 0, 8, 3, 0, 0, 0],\n",
    " [6, 0, 0, 0, 0, 0, 1, 0, 5],\n",
    " [0, 0, 3, 5, 0, 8, 6, 9, 0],\n",
    " [0, 4, 2, 9, 1, 0, 3, 0, 0]]\n",
    "```\n",
    "\n",
    "You're going to change `sudoku_list` into a NumPy array so you can practice with it in later lessons.\n",
    "\n",
    "\n",
    "####  Instructions (2 points)\n",
    "\n",
    "- Import NumPy using its generally accepted alias.\n",
    "- Convert `sudoku_list` into a NumPy array called `sudoku_array`.\n",
    "- Print the `type()` of `sudoku_array` to check that your code has worked properly."
   ]
  },
  {
   "cell_type": "code",
   "execution_count": 1,
   "metadata": {
    "pycharm": {
     "name": "#%%\n"
    }
   },
   "outputs": [
    {
     "name": "stdout",
     "output_type": "stream",
     "text": [
      "<class 'numpy.ndarray'>\n"
     ]
    }
   ],
   "source": [
    "sudoku_list = [[0, 0, 4, 3, 0, 0, 2, 0, 9],\n",
    "               [0, 0, 5, 0, 0, 9, 0, 0, 1],\n",
    "               [0, 7, 0, 0, 6, 0, 0, 4, 3],\n",
    "               [0, 0, 6, 0, 0, 2, 0, 8, 7],\n",
    "               [1, 9, 0, 0, 0, 7, 4, 0, 0],\n",
    "               [0, 5, 0, 0, 8, 3, 0, 0, 0],\n",
    "               [6, 0, 0, 0, 0, 0, 1, 0, 5],\n",
    "               [0, 0, 3, 5, 0, 8, 6, 9, 0],\n",
    "               [0, 4, 2, 9, 1, 0, 3, 0, 0]]\n",
    "\n",
    "# Import NumPy\n",
    "import numpy as np\n",
    "\n",
    "# Convert sudoku_list into an array\n",
    "sudoku_array = np.array(sudoku_list)\n",
    "\n",
    "# Print the type of sudoku_array \n",
    "print(type(sudoku_array))"
   ]
  },
  {
   "cell_type": "markdown",
   "metadata": {
    "pycharm": {
     "name": "#%% md\n"
    }
   },
   "source": [
    "### 2. Creating arrays from scratch\n",
    "\n",
    "It can be helpful to know how to create quick NumPy arrays from scratch in order to test your code. For example, when you are doing math with large multi-dimensional arrays, it's nice to check whether the math works as expected on small test arrays before applying your code to the larger arrays. NumPy has many options for creating smaller synthetic arrays.\n",
    "\n",
    "With this in mind, it's time for you to create some arrays from scratch! `numpy` is imported for you as `np`.\n",
    "\n",
    "####  Instructions (1 point)\n",
    "\n",
    "- Create and print an array filled with zeros called `zero_array`, which has <span style=\"color:blue\">two</span> rows and <span style=\"color:blue\">four</span> columns."
   ]
  },
  {
   "cell_type": "code",
   "execution_count": 2,
   "metadata": {
    "pycharm": {
     "name": "#%%\n"
    }
   },
   "outputs": [
    {
     "name": "stdout",
     "output_type": "stream",
     "text": [
      "[[0. 0. 0. 0.]\n",
      " [0. 0. 0. 0.]]\n"
     ]
    }
   ],
   "source": [
    "# Create an array of zeros which has four columns and two rows\n",
    "zero_array = np.zeros((2,4))\n",
    "print(zero_array)\n"
   ]
  },
  {
   "cell_type": "markdown",
   "metadata": {
    "pycharm": {
     "name": "#%% md\n"
    }
   },
   "source": [
    "####  Instructions (1 point)\n",
    "\n",
    "- Create and print an array of random floats between `0` and `1` called `random_array`, which has <span style=\"color:blue\">three</span> rows and <span style=\"color:blue\">six</span> columns."
   ]
  },
  {
   "cell_type": "code",
   "execution_count": 4,
   "metadata": {
    "pycharm": {
     "name": "#%%\n"
    }
   },
   "outputs": [
    {
     "name": "stdout",
     "output_type": "stream",
     "text": [
      "[[0.47510436 0.39198227 0.87333044 0.42257861 0.30644721 0.14964979]\n",
      " [0.951944   0.62197264 0.90523505 0.66891576 0.60531019 0.9429805 ]\n",
      " [0.35651103 0.06238466 0.43123821 0.69609959 0.70442115 0.27254205]]\n"
     ]
    }
   ],
   "source": [
    "# Create an array of random floats which has six columns and three rows\n",
    "random_array = np.random.random((3,6))\n",
    "print(random_array)"
   ]
  },
  {
   "cell_type": "markdown",
   "metadata": {
    "pycharm": {
     "name": "#%% md\n"
    }
   },
   "source": [
    "### 3. A range array\n",
    "\n",
    "`np.arange()` has especially useful applications in graphing. Your task is to create a scatter plot with the values from `doubling_array` on the y-axis.\n",
    "```python\n",
    "doubling_array = [1, 2, 4, 8, 16, 32, 64, 128, 256, 512]\n",
    "```\n",
    "Recall that a scatter plot can be created using the following code:\n",
    "```py\n",
    "plt.scatter(x_values, y_values)\n",
    "plt.show()\n",
    "```\n",
    "With `doubling_array` on the y-axis, you now need values for the x-axis, which you can create with `np.arange()`! \n",
    "\n",
    "`numpy` is loaded for you as `np`, and `matplotlib.pyplot` is imported as `plt`.\n",
    "\n",
    "####  Instructions (2 points)\n",
    "\n",
    "- Using `np.arange()`, create a 1D array called `one_to_ten` which holds all integers from one to ten (inclusive).\n",
    "- Create a scatterplot with `doubling_array` as the y values and `one_to_ten` as the x values."
   ]
  },
  {
   "cell_type": "code",
   "execution_count": 2,
   "metadata": {
    "pycharm": {
     "name": "#%%\n"
    }
   },
   "outputs": [
    {
     "data": {
      "image/png": "[encoded data removed]",
      "text/plain": [
       "<Figure size 640x480 with 1 Axes>"
      ]
     },
     "metadata": {},
     "output_type": "display_data"
    }
   ],
   "source": [
    "from matplotlib import pyplot as plt\n",
    "import numpy as np\n",
    "doubling_array = np.array([1, 2, 4, 8, 16, 32, 64, 128, 256, 512])\n",
    "\n",
    "# Create an array of integers from one to ten\n",
    "one_to_ten = np.arange(10)\n",
    "\n",
    "# Create your scatterplot\n",
    "plt.scatter(one_to_ten, doubling_array)\n",
    "plt.show()"
   ]
  },
  {
   "cell_type": "markdown",
   "metadata": {
    "pycharm": {
     "name": "#%% md\n"
    }
   },
   "source": [
    "## EXERCISE 4.2\n",
    "### 1. 3D array creation\n",
    "\n",
    "In the first lesson, you created a `sudoku_game` two-dimensional NumPy array. Perhaps you have hundreds of sudoku game arrays, and you'd like to save the solution for this one, `sudoku_solution`, as part of the same array as its corresponding game in order to organize your sudoku data better. You could accomplish this by stacking the two 2D arrays on top of each other to create a 3D array.\n",
    "\n",
    "`numpy` is loaded as `np`, and the `sudoku_game` and `sudoku_solution` arrays are available.\n",
    "\n",
    "####  Instructions (2 points)\n",
    "\n",
    "- Create a 3D array called `game_and_solution` by stacking the two 2D arrays, `sudoku_game` and `sudoku_solution`, on top of one another; in the final array, `sudoku_game` should appear before `sudoku_solution`.\n",
    "- Print `game_and_solution`."
   ]
  },
  {
   "cell_type": "code",
   "execution_count": 4,
   "metadata": {
    "pycharm": {
     "name": "#%%\n"
    }
   },
   "outputs": [
    {
     "name": "stdout",
     "output_type": "stream",
     "text": [
      "[[[0 0 4 3 0 0 2 0 9]\n",
      "  [0 0 5 0 0 9 0 0 1]\n",
      "  [0 7 0 0 6 0 0 4 3]\n",
      "  [0 0 6 0 0 2 0 8 7]\n",
      "  [1 9 0 0 0 7 4 0 0]\n",
      "  [0 5 0 0 8 3 0 0 0]\n",
      "  [6 0 0 0 0 0 1 0 5]\n",
      "  [0 0 3 5 0 8 6 9 0]\n",
      "  [0 4 2 9 1 0 3 0 0]]\n",
      "\n",
      " [[8 6 4 3 7 1 2 5 9]\n",
      "  [3 2 5 8 4 9 7 6 1]\n",
      "  [9 7 1 2 6 5 8 4 3]\n",
      "  [4 3 6 1 9 2 5 8 7]\n",
      "  [1 9 8 6 5 7 4 3 2]\n",
      "  [2 5 7 4 8 3 9 1 6]\n",
      "  [6 8 9 7 3 4 1 2 5]\n",
      "  [7 1 3 5 2 8 6 9 4]\n",
      "  [5 4 2 9 1 6 3 7 8]]]\n"
     ]
    }
   ],
   "source": [
    "import numpy as np\n",
    "from urllib.request import urlretrieve\n",
    "\n",
    "url1 = 'https://github.com/huangpen77/BUDT704/raw/main/Chapter05/sudoku_game.npy'\n",
    "urlretrieve(url1, 'sudoku_game.npy')\n",
    "\n",
    "url2 = 'https://github.com/huangpen77/BUDT704/raw/main/Chapter05/sudoku_solution.npy'\n",
    "urlretrieve(url2, 'sudoku_solution.npy')\n",
    "\n",
    "sudoku_game = np.load('sudoku_game.npy')\n",
    "sudoku_solution = np.load('sudoku_solution.npy')\n",
    "\n",
    "# Create the game_and_solution 3D array\n",
    "game_and_solution = np.array([sudoku_game, sudoku_solution])\n",
    "\n",
    "# Print game_and_solution\n",
    "print(game_and_solution) "
   ]
  },
  {
   "cell_type": "markdown",
   "metadata": {
    "pycharm": {
     "name": "#%% md\n"
    }
   },
   "source": [
    "### 2. Flattening and reshaping\n",
    "\n",
    "You've learned to change not only array shape but also the number of dimensions that an array has. To test these skills, you'll change `sudoku_game` from a 2D array to a 1D array and back again. Can we trust NumPy to keep the array elements in the same order after being flattened and reshaped? Time to find out.\n",
    "\n",
    "`numpy` is imported as `np`, and `sudoku_game` is loaded for you.\n",
    "\n",
    "####  Instructions (2 points)\n",
    "- Flatten `sudoku_game` so that it is a 1D array, and save it as `flattened_game`.\n",
    "- Print the `.shape` of `flattened_game`."
   ]
  },
  {
   "cell_type": "code",
   "execution_count": 6,
   "metadata": {
    "pycharm": {
     "name": "#%%\n"
    }
   },
   "outputs": [
    {
     "name": "stdout",
     "output_type": "stream",
     "text": [
      "(81,)\n"
     ]
    }
   ],
   "source": [
    "# Flatten sudoku_game\n",
    "flattened_game = sudoku_game.flatten()\n",
    "\n",
    "# Print the shape of flattened_game\n",
    "print(flattened_game.shape)"
   ]
  },
  {
   "cell_type": "markdown",
   "metadata": {
    "pycharm": {
     "name": "#%% md\n"
    }
   },
   "source": [
    "####  Instructions (2 points)\n",
    "\n",
    "- Reshape the `flattened_game` back to its original shape of nine rows and nine columns; save the new array as `reshaped_game`.\n",
    "- Print the shape of `reshaped_game`.\n",
    "- Print `reshaped_game`."
   ]
  },
  {
   "cell_type": "code",
   "execution_count": 9,
   "metadata": {
    "pycharm": {
     "name": "#%%\n"
    }
   },
   "outputs": [
    {
     "name": "stdout",
     "output_type": "stream",
     "text": [
      "(9, 9)\n",
      "[[0 0 4 3 0 0 2 0 9]\n",
      " [0 0 5 0 0 9 0 0 1]\n",
      " [0 7 0 0 6 0 0 4 3]\n",
      " [0 0 6 0 0 2 0 8 7]\n",
      " [1 9 0 0 0 7 4 0 0]\n",
      " [0 5 0 0 8 3 0 0 0]\n",
      " [6 0 0 0 0 0 1 0 5]\n",
      " [0 0 3 5 0 8 6 9 0]\n",
      " [0 4 2 9 1 0 3 0 0]] \n",
      "\n",
      "[[0 0 4 3 0 0 2 0 9]\n",
      " [0 0 5 0 0 9 0 0 1]\n",
      " [0 7 0 0 6 0 0 4 3]\n",
      " [0 0 6 0 0 2 0 8 7]\n",
      " [1 9 0 0 0 7 4 0 0]\n",
      " [0 5 0 0 8 3 0 0 0]\n",
      " [6 0 0 0 0 0 1 0 5]\n",
      " [0 0 3 5 0 8 6 9 0]\n",
      " [0 4 2 9 1 0 3 0 0]]\n"
     ]
    }
   ],
   "source": [
    "# Reshape flattened_game back to a nine by nine array\n",
    "reshaped_game = flattened_game.reshape(9,9)\n",
    "\n",
    "# print the shape of reshaped_game\n",
    "print(reshaped_game.shape)\n",
    "\n",
    "# Print sudoku_game \n",
    "print(sudoku_game, '\\n')\n",
    "\n",
    "# Print reshaped_game\n",
    "print(reshaped_game)"
   ]
  },
  {
   "cell_type": "markdown",
   "metadata": {
    "pycharm": {
     "name": "#%% md\n"
    }
   },
   "source": [
    "## EXERCISE 4.3\n",
    "### 1. The dtype argument\n",
    "\n",
    "One way to control the data type of a NumPy array is to declare it when the array is created using the `dtype` keyword argument. Take a look at the data type NumPy uses by default when creating an array with `np.zeros()`. Could it be updated?\n",
    "`numpy` is loaded as `np`.\n",
    "\n",
    "####  Instructions (2 points)\n",
    "\n",
    "- Using `np.zeros()`, create an array of zeros that has three rows and two columns; call it `zero_array`.\n",
    "- Print the data type of `zero_array`."
   ]
  },
  {
   "cell_type": "code",
   "execution_count": 28,
   "metadata": {
    "pycharm": {
     "name": "#%%\n"
    }
   },
   "outputs": [
    {
     "name": "stdout",
     "output_type": "stream",
     "text": [
      "float64\n"
     ]
    }
   ],
   "source": [
    "import numpy as np\n",
    "\n",
    "# Create an array of zeros with three rows and two columns\n",
    "zero_array = np.zeros((3,2))\n",
    "\n",
    "# Print the data type of zero_array\n",
    "print(zero_array.dtype)"
   ]
  },
  {
   "cell_type": "markdown",
   "metadata": {
    "pycharm": {
     "name": "#%% md\n"
    }
   },
   "source": [
    "####  Instructions (2 points)\n",
    "\n",
    "- Create a new array of zeros called `zero_int_array`, which will also have three rows and two columns, but the data type should be `np.int32`. Use the `dtype` argument of `np.zeros()` for this exercise.\n",
    "- Print the data type of `zero_int_array`."
   ]
  },
  {
   "cell_type": "code",
   "execution_count": 27,
   "metadata": {
    "pycharm": {
     "name": "#%%\n"
    }
   },
   "outputs": [
    {
     "name": "stdout",
     "output_type": "stream",
     "text": [
      "int32\n"
     ]
    }
   ],
   "source": [
    "# Create a new array of int32 zeros with three rows and two columns\n",
    "zero_int_array = np.zeros((3,2), dtype=np.int32)\n",
    "\n",
    "# Print the data type of zero_int_array\n",
    "print(zero_int_array.dtype)"
   ]
  },
  {
   "cell_type": "markdown",
   "metadata": {
    "pycharm": {
     "name": "#%% md\n"
    }
   },
   "source": [
    "####  Instructions (2 points)\n",
    "\n",
    "- Create a new array of zeros called `zero_int_array2`, which will also have three rows and two columns, but the data type should be `np.int32`. Use `astype()` method for this exercise.\n",
    "- Print the data type of `zero_int_array2`."
   ]
  },
  {
   "cell_type": "code",
   "execution_count": 29,
   "metadata": {
    "pycharm": {
     "name": "#%%\n"
    }
   },
   "outputs": [
    {
     "name": "stdout",
     "output_type": "stream",
     "text": [
      "int32\n"
     ]
    }
   ],
   "source": [
    "# Create a new array of int32 zeros with three rows and two columns\n",
    "zero_int_array2 = np.zeros((3, 2)).astype(np.int32)\n",
    "\n",
    "# Print the data type of zero_int_array\n",
    "print(zero_int_array2.dtype)"
   ]
  },
  {
   "cell_type": "markdown",
   "metadata": {
    "pycharm": {
     "name": "#%% md\n"
    }
   },
   "source": [
    "### 2. A smaller sudoku game\n",
    "\n",
    "NumPy data types, which emphasize speed, are more specific than Python data types, which emphasize flexibility. When working with large amounts of data in NumPy, it's good practice to check the data type and consider whether a smaller data type is large enough for your data, since smaller data types use less memory.\n",
    "\n",
    "It's time to make your sudoku game more memory-efficient using your knowledge of data types! `sudoku_game` has been loaded for you as a NumPy array. `numpy` is imported as `np`.\n",
    "\n",
    "####  Instructions (2 points)\n",
    "\n",
    "- Print the data type of the elements in `sudoku_game`.\n",
    "- Change the data type of `sudoku_game` to be `int8`, an 8-bit integer; name the new array `small_sudoku_game`. Use `astype()` method for this exercise.\n",
    "- Print the data type of `small_sudoku_game` to be sure that your change to `int8` is reflected."
   ]
  },
  {
   "cell_type": "code",
   "execution_count": 30,
   "metadata": {
    "pycharm": {
     "name": "#%%\n"
    }
   },
   "outputs": [
    {
     "name": "stdout",
     "output_type": "stream",
     "text": [
      "int64\n",
      "int8\n"
     ]
    }
   ],
   "source": [
    "import numpy as np\n",
    "from urllib.request import urlretrieve\n",
    "\n",
    "url = 'https://github.com/huangpen77/BUDT704/raw/main/Chapter05/sudoku_game.npy'\n",
    "urlretrieve(url, 'sudoku_game.npy')\n",
    "sudoku_game = np.load('sudoku_game.npy')\n",
    "\n",
    "# Print the data type of sudoku_game\n",
    "print(sudoku_game.dtype)\n",
    "\n",
    "# Change the data type of sudoku_game to int8\n",
    "small_sudoku_game = sudoku_game.astype(np.int8)\n",
    "\n",
    "# Print the data type of small_sudoku_game\n",
    "print(small_sudoku_game.dtype)"
   ]
  }
 ],
 "metadata": {
  "kernelspec": {
   "display_name": "Python 3 (ipykernel)",
   "language": "python",
   "name": "python3"
  },
  "language_info": {
   "codemirror_mode": {
    "name": "ipython",
    "version": 3
   },
   "file_extension": ".py",
   "mimetype": "text/x-python",
   "name": "python",
   "nbconvert_exporter": "python",
   "pygments_lexer": "ipython3",
   "version": "3.9.12"
  },
  "vscode": {
   "interpreter": {
    "hash": "3d597f4c481aa0f25dceb95d2a0067e73c0966dcbd003d741d821a7208527ecf"
   }
  }
 },
 "nbformat": 4,
 "nbformat_minor": 2
}
