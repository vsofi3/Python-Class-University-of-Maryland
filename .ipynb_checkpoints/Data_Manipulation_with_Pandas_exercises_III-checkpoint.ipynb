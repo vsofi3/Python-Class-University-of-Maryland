{
 "cells": [
  {
   "cell_type": "markdown",
   "metadata": {},
   "source": [
    "## Exercise 6.7\n",
    "### 1: Going from wide to long\n",
    "\n",
    "You can move multiple columns into a single column (making the data long and skinny) by \"melting\" multiple columns. In this exercise, you will practice doing this.\n",
    "\n",
    "The `users` DataFrame has been pre-loaded for you. \n",
    "\n",
    "#### Instructions (1 points)\n",
    "\n",
    "* Define a DataFrame `skinny` where you melt the `'visitors'` and `'staff'` columns of `users` into a single column."
   ]
  },
  {
   "cell_type": "code",
   "execution_count": 1,
   "metadata": {},
   "outputs": [
    {
     "data": {
      "text/html": [
       "<div>\n",
       "<style scoped>\n",
       "    .dataframe tbody tr th:only-of-type {\n",
       "        vertical-align: middle;\n",
       "    }\n",
       "\n",
       "    .dataframe tbody tr th {\n",
       "        vertical-align: top;\n",
       "    }\n",
       "\n",
       "    .dataframe thead th {\n",
       "        text-align: right;\n",
       "    }\n",
       "</style>\n",
       "<table border=\"1\" class=\"dataframe\">\n",
       "  <thead>\n",
       "    <tr style=\"text-align: right;\">\n",
       "      <th></th>\n",
       "      <th>weekday</th>\n",
       "      <th>city</th>\n",
       "      <th>visitors</th>\n",
       "      <th>staff</th>\n",
       "    </tr>\n",
       "  </thead>\n",
       "  <tbody>\n",
       "    <tr>\n",
       "      <th>0</th>\n",
       "      <td>Sun</td>\n",
       "      <td>Austin</td>\n",
       "      <td>139</td>\n",
       "      <td>7</td>\n",
       "    </tr>\n",
       "    <tr>\n",
       "      <th>1</th>\n",
       "      <td>Sun</td>\n",
       "      <td>Dallas</td>\n",
       "      <td>237</td>\n",
       "      <td>12</td>\n",
       "    </tr>\n",
       "    <tr>\n",
       "      <th>2</th>\n",
       "      <td>Mon</td>\n",
       "      <td>Austin</td>\n",
       "      <td>326</td>\n",
       "      <td>3</td>\n",
       "    </tr>\n",
       "    <tr>\n",
       "      <th>3</th>\n",
       "      <td>Mon</td>\n",
       "      <td>Dallas</td>\n",
       "      <td>456</td>\n",
       "      <td>5</td>\n",
       "    </tr>\n",
       "  </tbody>\n",
       "</table>\n",
       "</div>"
      ],
      "text/plain": [
       "  weekday    city  visitors  staff\n",
       "0     Sun  Austin       139      7\n",
       "1     Sun  Dallas       237     12\n",
       "2     Mon  Austin       326      3\n",
       "3     Mon  Dallas       456      5"
      ]
     },
     "execution_count": 1,
     "metadata": {},
     "output_type": "execute_result"
    }
   ],
   "source": [
    "import pandas as pd\n",
    "users = pd.read_csv('https://github.com/huangpen77/BUDT704/raw/main/Chapter07/users.csv', index_col=0)\n",
    "users"
   ]
  },
  {
   "cell_type": "code",
   "execution_count": 2,
   "metadata": {},
   "outputs": [
    {
     "data": {
      "text/html": [
       "<div>\n",
       "<style scoped>\n",
       "    .dataframe tbody tr th:only-of-type {\n",
       "        vertical-align: middle;\n",
       "    }\n",
       "\n",
       "    .dataframe tbody tr th {\n",
       "        vertical-align: top;\n",
       "    }\n",
       "\n",
       "    .dataframe thead th {\n",
       "        text-align: right;\n",
       "    }\n",
       "</style>\n",
       "<table border=\"1\" class=\"dataframe\">\n",
       "  <thead>\n",
       "    <tr style=\"text-align: right;\">\n",
       "      <th></th>\n",
       "      <th>visitors</th>\n",
       "      <th>staff</th>\n",
       "      <th>variable</th>\n",
       "      <th>value</th>\n",
       "    </tr>\n",
       "  </thead>\n",
       "  <tbody>\n",
       "    <tr>\n",
       "      <th>0</th>\n",
       "      <td>139</td>\n",
       "      <td>7</td>\n",
       "      <td>weekday</td>\n",
       "      <td>Sun</td>\n",
       "    </tr>\n",
       "    <tr>\n",
       "      <th>1</th>\n",
       "      <td>237</td>\n",
       "      <td>12</td>\n",
       "      <td>weekday</td>\n",
       "      <td>Sun</td>\n",
       "    </tr>\n",
       "    <tr>\n",
       "      <th>2</th>\n",
       "      <td>326</td>\n",
       "      <td>3</td>\n",
       "      <td>weekday</td>\n",
       "      <td>Mon</td>\n",
       "    </tr>\n",
       "    <tr>\n",
       "      <th>3</th>\n",
       "      <td>456</td>\n",
       "      <td>5</td>\n",
       "      <td>weekday</td>\n",
       "      <td>Mon</td>\n",
       "    </tr>\n",
       "    <tr>\n",
       "      <th>4</th>\n",
       "      <td>139</td>\n",
       "      <td>7</td>\n",
       "      <td>city</td>\n",
       "      <td>Austin</td>\n",
       "    </tr>\n",
       "    <tr>\n",
       "      <th>5</th>\n",
       "      <td>237</td>\n",
       "      <td>12</td>\n",
       "      <td>city</td>\n",
       "      <td>Dallas</td>\n",
       "    </tr>\n",
       "    <tr>\n",
       "      <th>6</th>\n",
       "      <td>326</td>\n",
       "      <td>3</td>\n",
       "      <td>city</td>\n",
       "      <td>Austin</td>\n",
       "    </tr>\n",
       "    <tr>\n",
       "      <th>7</th>\n",
       "      <td>456</td>\n",
       "      <td>5</td>\n",
       "      <td>city</td>\n",
       "      <td>Dallas</td>\n",
       "    </tr>\n",
       "  </tbody>\n",
       "</table>\n",
       "</div>"
      ],
      "text/plain": [
       "   visitors  staff variable   value\n",
       "0       139      7  weekday     Sun\n",
       "1       237     12  weekday     Sun\n",
       "2       326      3  weekday     Mon\n",
       "3       456      5  weekday     Mon\n",
       "4       139      7     city  Austin\n",
       "5       237     12     city  Dallas\n",
       "6       326      3     city  Austin\n",
       "7       456      5     city  Dallas"
      ]
     },
     "execution_count": 2,
     "metadata": {},
     "output_type": "execute_result"
    }
   ],
   "source": [
    "# Melt users: skinny\n",
    "skinny = users.melt(id_vars=['visitors','staff'], value_vars=['weekday','city'])\n",
    "skinny"
   ]
  },
  {
   "cell_type": "markdown",
   "metadata": {},
   "source": [
    "Because `var_name` or `value_name` parameters weren't specified, the melted DataFrame has the default variable and value column names."
   ]
  },
  {
   "cell_type": "markdown",
   "metadata": {},
   "source": [
    "#### Instructions (1 points)\n",
    "This time use the `var_name` and set it to 'user_type', and `value_name` as 'count'"
   ]
  },
  {
   "cell_type": "code",
   "execution_count": 8,
   "metadata": {},
   "outputs": [
    {
     "data": {
      "text/html": [
       "<div>\n",
       "<style scoped>\n",
       "    .dataframe tbody tr th:only-of-type {\n",
       "        vertical-align: middle;\n",
       "    }\n",
       "\n",
       "    .dataframe tbody tr th {\n",
       "        vertical-align: top;\n",
       "    }\n",
       "\n",
       "    .dataframe thead th {\n",
       "        text-align: right;\n",
       "    }\n",
       "</style>\n",
       "<table border=\"1\" class=\"dataframe\">\n",
       "  <thead>\n",
       "    <tr style=\"text-align: right;\">\n",
       "      <th></th>\n",
       "      <th>weekday</th>\n",
       "      <th>city</th>\n",
       "      <th>user_type</th>\n",
       "      <th>count</th>\n",
       "    </tr>\n",
       "  </thead>\n",
       "  <tbody>\n",
       "    <tr>\n",
       "      <th>0</th>\n",
       "      <td>Sun</td>\n",
       "      <td>Austin</td>\n",
       "      <td>visitors</td>\n",
       "      <td>139</td>\n",
       "    </tr>\n",
       "    <tr>\n",
       "      <th>1</th>\n",
       "      <td>Sun</td>\n",
       "      <td>Dallas</td>\n",
       "      <td>visitors</td>\n",
       "      <td>237</td>\n",
       "    </tr>\n",
       "    <tr>\n",
       "      <th>2</th>\n",
       "      <td>Mon</td>\n",
       "      <td>Austin</td>\n",
       "      <td>visitors</td>\n",
       "      <td>326</td>\n",
       "    </tr>\n",
       "    <tr>\n",
       "      <th>3</th>\n",
       "      <td>Mon</td>\n",
       "      <td>Dallas</td>\n",
       "      <td>visitors</td>\n",
       "      <td>456</td>\n",
       "    </tr>\n",
       "    <tr>\n",
       "      <th>4</th>\n",
       "      <td>Sun</td>\n",
       "      <td>Austin</td>\n",
       "      <td>staff</td>\n",
       "      <td>7</td>\n",
       "    </tr>\n",
       "    <tr>\n",
       "      <th>5</th>\n",
       "      <td>Sun</td>\n",
       "      <td>Dallas</td>\n",
       "      <td>staff</td>\n",
       "      <td>12</td>\n",
       "    </tr>\n",
       "    <tr>\n",
       "      <th>6</th>\n",
       "      <td>Mon</td>\n",
       "      <td>Austin</td>\n",
       "      <td>staff</td>\n",
       "      <td>3</td>\n",
       "    </tr>\n",
       "    <tr>\n",
       "      <th>7</th>\n",
       "      <td>Mon</td>\n",
       "      <td>Dallas</td>\n",
       "      <td>staff</td>\n",
       "      <td>5</td>\n",
       "    </tr>\n",
       "  </tbody>\n",
       "</table>\n",
       "</div>"
      ],
      "text/plain": [
       "  weekday    city user_type  count\n",
       "0     Sun  Austin  visitors    139\n",
       "1     Sun  Dallas  visitors    237\n",
       "2     Mon  Austin  visitors    326\n",
       "3     Mon  Dallas  visitors    456\n",
       "4     Sun  Austin     staff      7\n",
       "5     Sun  Dallas     staff     12\n",
       "6     Mon  Austin     staff      3\n",
       "7     Mon  Dallas     staff      5"
      ]
     },
     "execution_count": 8,
     "metadata": {},
     "output_type": "execute_result"
    }
   ],
   "source": [
    "# Melt users: skinny\n",
    "skinny = users.melt(id_vars=['weekday','city'], value_vars=['visitors','staff'], var_name = 'user_type', value_name='count')\n",
    "skinny"
   ]
  },
  {
   "cell_type": "markdown",
   "metadata": {},
   "source": [
    "### 2: Going back to wide from long\n",
    "\n",
    "#### instructions (1 points)\n",
    "Use `.pivot()` method, convert skinny dataframe back to long format. You will use both `weekday` and `city` as the `index`, `user_type` as `columns`, and `count` as `values`. "
   ]
  },
  {
   "cell_type": "code",
   "execution_count": 9,
   "metadata": {},
   "outputs": [
    {
     "data": {
      "text/html": [
       "<div>\n",
       "<style scoped>\n",
       "    .dataframe tbody tr th:only-of-type {\n",
       "        vertical-align: middle;\n",
       "    }\n",
       "\n",
       "    .dataframe tbody tr th {\n",
       "        vertical-align: top;\n",
       "    }\n",
       "\n",
       "    .dataframe thead th {\n",
       "        text-align: right;\n",
       "    }\n",
       "</style>\n",
       "<table border=\"1\" class=\"dataframe\">\n",
       "  <thead>\n",
       "    <tr style=\"text-align: right;\">\n",
       "      <th></th>\n",
       "      <th>user_type</th>\n",
       "      <th>staff</th>\n",
       "      <th>visitors</th>\n",
       "    </tr>\n",
       "    <tr>\n",
       "      <th>weekday</th>\n",
       "      <th>city</th>\n",
       "      <th></th>\n",
       "      <th></th>\n",
       "    </tr>\n",
       "  </thead>\n",
       "  <tbody>\n",
       "    <tr>\n",
       "      <th rowspan=\"2\" valign=\"top\">Mon</th>\n",
       "      <th>Austin</th>\n",
       "      <td>3</td>\n",
       "      <td>326</td>\n",
       "    </tr>\n",
       "    <tr>\n",
       "      <th>Dallas</th>\n",
       "      <td>5</td>\n",
       "      <td>456</td>\n",
       "    </tr>\n",
       "    <tr>\n",
       "      <th rowspan=\"2\" valign=\"top\">Sun</th>\n",
       "      <th>Austin</th>\n",
       "      <td>7</td>\n",
       "      <td>139</td>\n",
       "    </tr>\n",
       "    <tr>\n",
       "      <th>Dallas</th>\n",
       "      <td>12</td>\n",
       "      <td>237</td>\n",
       "    </tr>\n",
       "  </tbody>\n",
       "</table>\n",
       "</div>"
      ],
      "text/plain": [
       "user_type       staff  visitors\n",
       "weekday city                   \n",
       "Mon     Austin      3       326\n",
       "        Dallas      5       456\n",
       "Sun     Austin      7       139\n",
       "        Dallas     12       237"
      ]
     },
     "execution_count": 9,
     "metadata": {},
     "output_type": "execute_result"
    }
   ],
   "source": [
    "df = skinny.pivot(index=['weekday','city'], columns='user_type', values='count')\n",
    "df"
   ]
  },
  {
   "cell_type": "markdown",
   "metadata": {},
   "source": [
    "Note that the `df` dataframe is not exactly the same as `users` dataframe. It has a MultiIndex for the row, and a columns name for the columns. We can remedy that. \n",
    "\n",
    "#### Instructions (1 points)\n",
    "- set the `columns.name` property of `df` to an empty string.\n",
    "- reset the index of `df` by calling the `reset_index()` method."
   ]
  },
  {
   "cell_type": "code",
   "execution_count": 10,
   "metadata": {},
   "outputs": [
    {
     "data": {
      "text/html": [
       "<div>\n",
       "<style scoped>\n",
       "    .dataframe tbody tr th:only-of-type {\n",
       "        vertical-align: middle;\n",
       "    }\n",
       "\n",
       "    .dataframe tbody tr th {\n",
       "        vertical-align: top;\n",
       "    }\n",
       "\n",
       "    .dataframe thead th {\n",
       "        text-align: right;\n",
       "    }\n",
       "</style>\n",
       "<table border=\"1\" class=\"dataframe\">\n",
       "  <thead>\n",
       "    <tr style=\"text-align: right;\">\n",
       "      <th></th>\n",
       "      <th>weekday</th>\n",
       "      <th>city</th>\n",
       "      <th>staff</th>\n",
       "      <th>visitors</th>\n",
       "    </tr>\n",
       "  </thead>\n",
       "  <tbody>\n",
       "    <tr>\n",
       "      <th>0</th>\n",
       "      <td>Mon</td>\n",
       "      <td>Austin</td>\n",
       "      <td>3</td>\n",
       "      <td>326</td>\n",
       "    </tr>\n",
       "    <tr>\n",
       "      <th>1</th>\n",
       "      <td>Mon</td>\n",
       "      <td>Dallas</td>\n",
       "      <td>5</td>\n",
       "      <td>456</td>\n",
       "    </tr>\n",
       "    <tr>\n",
       "      <th>2</th>\n",
       "      <td>Sun</td>\n",
       "      <td>Austin</td>\n",
       "      <td>7</td>\n",
       "      <td>139</td>\n",
       "    </tr>\n",
       "    <tr>\n",
       "      <th>3</th>\n",
       "      <td>Sun</td>\n",
       "      <td>Dallas</td>\n",
       "      <td>12</td>\n",
       "      <td>237</td>\n",
       "    </tr>\n",
       "  </tbody>\n",
       "</table>\n",
       "</div>"
      ],
      "text/plain": [
       "  weekday    city  staff  visitors\n",
       "0     Mon  Austin      3       326\n",
       "1     Mon  Dallas      5       456\n",
       "2     Sun  Austin      7       139\n",
       "3     Sun  Dallas     12       237"
      ]
     },
     "execution_count": 10,
     "metadata": {},
     "output_type": "execute_result"
    }
   ],
   "source": [
    "df.columns.name = \"\"\n",
    "df.reset_index()"
   ]
  },
  {
   "cell_type": "markdown",
   "metadata": {},
   "source": [
    "## Exercise 6.8\n",
    "### 1: Grouping by columns\n",
    "\n",
    "In this exercise, you will be working with the Titanic dataset and use `.groupby()` to analyze the distribution of passengers who boarded the Titanic.\n",
    "\n",
    "The `'pclass'` column identifies which class of ticket was purchased by the passenger and the `'embarked'` column indicates at which of the three ports the passenger boarded the Titanic. `'S'` stands for Southampton, England, `'C'` for Cherbourg, France and `'Q'` for Queenstown, Ireland.\n",
    "\n",
    "The DataFrame has been pre-loaded as `titanic`."
   ]
  },
  {
   "cell_type": "markdown",
   "metadata": {},
   "source": [
    "#### Titanic Data"
   ]
  },
  {
   "cell_type": "code",
   "execution_count": 11,
   "metadata": {},
   "outputs": [
    {
     "data": {
      "text/html": [
       "<div>\n",
       "<style scoped>\n",
       "    .dataframe tbody tr th:only-of-type {\n",
       "        vertical-align: middle;\n",
       "    }\n",
       "\n",
       "    .dataframe tbody tr th {\n",
       "        vertical-align: top;\n",
       "    }\n",
       "\n",
       "    .dataframe thead th {\n",
       "        text-align: right;\n",
       "    }\n",
       "</style>\n",
       "<table border=\"1\" class=\"dataframe\">\n",
       "  <thead>\n",
       "    <tr style=\"text-align: right;\">\n",
       "      <th></th>\n",
       "      <th>pclass</th>\n",
       "      <th>survived</th>\n",
       "      <th>sex</th>\n",
       "      <th>age</th>\n",
       "      <th>sibsp</th>\n",
       "      <th>parch</th>\n",
       "      <th>ticket</th>\n",
       "      <th>fare</th>\n",
       "      <th>cabin</th>\n",
       "      <th>embarked</th>\n",
       "      <th>boat</th>\n",
       "      <th>body</th>\n",
       "      <th>home.dest</th>\n",
       "    </tr>\n",
       "    <tr>\n",
       "      <th>name</th>\n",
       "      <th></th>\n",
       "      <th></th>\n",
       "      <th></th>\n",
       "      <th></th>\n",
       "      <th></th>\n",
       "      <th></th>\n",
       "      <th></th>\n",
       "      <th></th>\n",
       "      <th></th>\n",
       "      <th></th>\n",
       "      <th></th>\n",
       "      <th></th>\n",
       "      <th></th>\n",
       "    </tr>\n",
       "  </thead>\n",
       "  <tbody>\n",
       "    <tr>\n",
       "      <th>Allen, Miss. Elisabeth Walton</th>\n",
       "      <td>1</td>\n",
       "      <td>1</td>\n",
       "      <td>female</td>\n",
       "      <td>29.00</td>\n",
       "      <td>0</td>\n",
       "      <td>0</td>\n",
       "      <td>24160</td>\n",
       "      <td>211.3375</td>\n",
       "      <td>B5</td>\n",
       "      <td>S</td>\n",
       "      <td>2</td>\n",
       "      <td>NaN</td>\n",
       "      <td>St Louis, MO</td>\n",
       "    </tr>\n",
       "    <tr>\n",
       "      <th>Allison, Master. Hudson Trevor</th>\n",
       "      <td>1</td>\n",
       "      <td>1</td>\n",
       "      <td>male</td>\n",
       "      <td>0.92</td>\n",
       "      <td>1</td>\n",
       "      <td>2</td>\n",
       "      <td>113781</td>\n",
       "      <td>151.5500</td>\n",
       "      <td>C22 C26</td>\n",
       "      <td>S</td>\n",
       "      <td>11</td>\n",
       "      <td>NaN</td>\n",
       "      <td>Montreal, PQ / Chesterville, ON</td>\n",
       "    </tr>\n",
       "    <tr>\n",
       "      <th>Allison, Miss. Helen Loraine</th>\n",
       "      <td>1</td>\n",
       "      <td>0</td>\n",
       "      <td>female</td>\n",
       "      <td>2.00</td>\n",
       "      <td>1</td>\n",
       "      <td>2</td>\n",
       "      <td>113781</td>\n",
       "      <td>151.5500</td>\n",
       "      <td>C22 C26</td>\n",
       "      <td>S</td>\n",
       "      <td>NaN</td>\n",
       "      <td>NaN</td>\n",
       "      <td>Montreal, PQ / Chesterville, ON</td>\n",
       "    </tr>\n",
       "  </tbody>\n",
       "</table>\n",
       "</div>"
      ],
      "text/plain": [
       "                                pclass  survived     sex    age  sibsp  parch  \\\n",
       "name                                                                            \n",
       "Allen, Miss. Elisabeth Walton        1         1  female  29.00      0      0   \n",
       "Allison, Master. Hudson Trevor       1         1    male   0.92      1      2   \n",
       "Allison, Miss. Helen Loraine         1         0  female   2.00      1      2   \n",
       "\n",
       "                                ticket      fare    cabin embarked boat  body  \\\n",
       "name                                                                            \n",
       "Allen, Miss. Elisabeth Walton    24160  211.3375       B5        S    2   NaN   \n",
       "Allison, Master. Hudson Trevor  113781  151.5500  C22 C26        S   11   NaN   \n",
       "Allison, Miss. Helen Loraine    113781  151.5500  C22 C26        S  NaN   NaN   \n",
       "\n",
       "                                                      home.dest  \n",
       "name                                                             \n",
       "Allen, Miss. Elisabeth Walton                      St Louis, MO  \n",
       "Allison, Master. Hudson Trevor  Montreal, PQ / Chesterville, ON  \n",
       "Allison, Miss. Helen Loraine    Montreal, PQ / Chesterville, ON  "
      ]
     },
     "execution_count": 11,
     "metadata": {},
     "output_type": "execute_result"
    }
   ],
   "source": [
    "import pandas as pd\n",
    "titanic = pd.read_csv('https://github.com/huangpen77/BUDT704/raw/main/Chapter07/titanic.csv', index_col='name')\n",
    "titanic.head(3)"
   ]
  },
  {
   "cell_type": "code",
   "execution_count": 12,
   "metadata": {},
   "outputs": [
    {
     "name": "stdout",
     "output_type": "stream",
     "text": [
      "<class 'pandas.core.frame.DataFrame'>\n",
      "Index: 1309 entries, Allen, Miss. Elisabeth Walton to Zimmerman, Mr. Leo\n",
      "Data columns (total 13 columns):\n",
      " #   Column     Non-Null Count  Dtype  \n",
      "---  ------     --------------  -----  \n",
      " 0   pclass     1309 non-null   int64  \n",
      " 1   survived   1309 non-null   int64  \n",
      " 2   sex        1309 non-null   object \n",
      " 3   age        1046 non-null   float64\n",
      " 4   sibsp      1309 non-null   int64  \n",
      " 5   parch      1309 non-null   int64  \n",
      " 6   ticket     1309 non-null   object \n",
      " 7   fare       1308 non-null   float64\n",
      " 8   cabin      295 non-null    object \n",
      " 9   embarked   1307 non-null   object \n",
      " 10  boat       486 non-null    object \n",
      " 11  body       121 non-null    float64\n",
      " 12  home.dest  745 non-null    object \n",
      "dtypes: float64(3), int64(4), object(6)\n",
      "memory usage: 143.2+ KB\n"
     ]
    }
   ],
   "source": [
    "titanic.info()"
   ]
  },
  {
   "cell_type": "markdown",
   "metadata": {},
   "source": [
    "#### Instructions (2 points)\n",
    "\n",
    "* Group by the `'pclass'` column and then aggregate the `'ticket'` column using `.count()`. Save the result as `passengers_by_class`. Print it out."
   ]
  },
  {
   "cell_type": "code",
   "execution_count": 13,
   "metadata": {},
   "outputs": [
    {
     "data": {
      "text/plain": [
       "pclass\n",
       "1    323\n",
       "2    277\n",
       "3    709\n",
       "Name: ticket, dtype: int64"
      ]
     },
     "execution_count": 13,
     "metadata": {},
     "output_type": "execute_result"
    }
   ],
   "source": [
    "# Group by the `'pclass'` column and then aggregate the `'ticket'` column using `.count()`.\n",
    "passengers_by_class = titanic.groupby('pclass')['ticket'].count()\n",
    "passengers_by_class"
   ]
  },
  {
   "cell_type": "markdown",
   "metadata": {},
   "source": [
    "#### Instructions (2 points)\n",
    "- Group by the `'pclass'` column and then aggregate `'survived'` column using `sum()`, and save the result in `survived_by_class`. Print it out."
   ]
  },
  {
   "cell_type": "code",
   "execution_count": 14,
   "metadata": {},
   "outputs": [
    {
     "data": {
      "text/plain": [
       "pclass\n",
       "1    200\n",
       "2    119\n",
       "3    181\n",
       "Name: survived, dtype: int64"
      ]
     },
     "execution_count": 14,
     "metadata": {},
     "output_type": "execute_result"
    }
   ],
   "source": [
    "# Group by the `'pclass'` column and then aggregate `survived` column `sum()`\n",
    "survived_by_class = titanic.groupby('pclass')['survived'].sum()\n",
    "survived_by_class"
   ]
  },
  {
   "cell_type": "markdown",
   "metadata": {},
   "source": [
    "#### Instructions (2 points)\n",
    "- we can use the two pandas Series, `passengers_by_class` and `survived_by_class`, to calculate the survival rate of each passenger class. Divide `survived_by_class` by `passengers_by_class`, and store the result in `prob_by_class`. Print it out to see the survival rates."
   ]
  },
  {
   "cell_type": "code",
   "execution_count": 15,
   "metadata": {},
   "outputs": [
    {
     "data": {
      "text/plain": [
       "pclass\n",
       "1    0.619195\n",
       "2    0.429603\n",
       "3    0.255289\n",
       "dtype: float64"
      ]
     },
     "execution_count": 15,
     "metadata": {},
     "output_type": "execute_result"
    }
   ],
   "source": [
    "# Divide `survived_by_class` by `passengers_by_class`, and store the result in `prob_by_class`\n",
    "prob_by_class = survived_by_class/passengers_by_class\n",
    "prob_by_class"
   ]
  },
  {
   "cell_type": "markdown",
   "metadata": {},
   "source": [
    "### 2: Grouping by multiple columns\n",
    "In this exercise, you will practice group by multiple columns.\n",
    "#### Instructions (2 points)\n",
    "- Group titanic by `'embarked'` and `'survived'`, and aggregate the `ticket` column by `count()`. Store the result in `count_multi`"
   ]
  },
  {
   "cell_type": "code",
   "execution_count": 16,
   "metadata": {},
   "outputs": [
    {
     "data": {
      "text/plain": [
       "embarked  survived\n",
       "C         0           120\n",
       "          1           150\n",
       "Q         0            79\n",
       "          1            44\n",
       "S         0           610\n",
       "          1           304\n",
       "Name: ticket, dtype: int64"
      ]
     },
     "execution_count": 16,
     "metadata": {},
     "output_type": "execute_result"
    }
   ],
   "source": [
    "# Group titanic by `'embarked'` and `'survived'`, and aggregate the `ticket` column by `count()`.\n",
    "count_mult = titanic.groupby(['embarked','survived'])['ticket'].count()\n",
    "count_mult"
   ]
  },
  {
   "cell_type": "markdown",
   "metadata": {},
   "source": [
    "#### Instructions (2 points)\n",
    "- as we see from the previous output, `count_mult` is a pandas Series. We can find out its index by using its `index` property."
   ]
  },
  {
   "cell_type": "code",
   "execution_count": 17,
   "metadata": {},
   "outputs": [
    {
     "data": {
      "text/plain": [
       "MultiIndex([('C', 0),\n",
       "            ('C', 1),\n",
       "            ('Q', 0),\n",
       "            ('Q', 1),\n",
       "            ('S', 0),\n",
       "            ('S', 1)],\n",
       "           names=['embarked', 'survived'])"
      ]
     },
     "execution_count": 17,
     "metadata": {},
     "output_type": "execute_result"
    }
   ],
   "source": [
    "# use the `index` property to find out the index of `count_multi`\n",
    "count_mult.index"
   ]
  },
  {
   "cell_type": "markdown",
   "metadata": {},
   "source": [
    "#### Instructions (2 points)\n",
    "- Now we can use the index to retrieve the values in `count_multi`. For example, `count_mult[('C', 1)]` tells you how many passengers departing from Cherbourg, France had survived, and `count_mult[('C', 0)]` tells you how many passengers departing from Cherbourg, France had deseased. Using this information, write the code to calculate the survival rate of passengers departing from Cherbourg, France. Store the result in `prob_C`."
   ]
  },
  {
   "cell_type": "code",
   "execution_count": 42,
   "metadata": {},
   "outputs": [
    {
     "name": "stdout",
     "output_type": "stream",
     "text": [
      "The survival rate of passengers departing from Cherbourg, France is 55.56 percent.\n"
     ]
    }
   ],
   "source": [
    "# calculate the survival rate of passengers departing from Cherbourg, France, and store the result in `prob_C`.\n",
    "# survived / survived + deceased\n",
    "prob_C = count_mult[('C', 1)]/(count_mult[('C', 1)] + count_mult[('C', 0)])\n",
    "\n",
    "print('The survival rate of passengers departing from Cherbourg, France is {:.2f} percent.'.format(prob_C * 100))"
   ]
  },
  {
   "cell_type": "markdown",
   "metadata": {},
   "source": [
    "## Exercise 6.9\n",
    "### 1: transformations with .apply()\n",
    "\n",
    "The `.apply()` method, when used on a groupby object, performs a predefined function on each of the groups. These functions can be aggregations, transformations or more complex workflows. The `.apply()` method will then combine the results in an intelligent way.\n",
    "\n",
    "In this exercise, you're going to analyze economic disparity within regions of the world using the Gapminder data set for 2010. To do this you'll define a function to compute the aggregate spread of per capita GDP in each region and the individual country's z-score of the regional per capita GDP. You'll then select six countries - United States, Mexico, United Kingdom, Poland, China and Japan - to see a summary of the regional GDP and that country's z-score against the regional mean.\n",
    "\n",
    "The 2010 Gapminder DataFrame is provided for you as `gapminder_2010`. Pandas has been imported as `pd`.\n",
    "\n",
    "The function `disparity()` has been defined for your use.\n",
    "\n",
    "#### Instructions (4 points)\n",
    "\n",
    "* Group `gapminder_2010` by `'region'`. Save the result as `regional`.\n",
    "* Apply the provided `disparity` function on `regional`, and save the result as `reg_disp`.\n",
    "* Use `.loc[]` to select `['United States', 'Mexico', 'United Kingdom', 'Poland', 'China', 'Japan']` from `reg_disp` and print the results."
   ]
  },
  {
   "cell_type": "code",
   "execution_count": 24,
   "metadata": {},
   "outputs": [
    {
     "data": {
      "text/html": [
       "<div>\n",
       "<style scoped>\n",
       "    .dataframe tbody tr th:only-of-type {\n",
       "        vertical-align: middle;\n",
       "    }\n",
       "\n",
       "    .dataframe tbody tr th {\n",
       "        vertical-align: top;\n",
       "    }\n",
       "\n",
       "    .dataframe thead th {\n",
       "        text-align: right;\n",
       "    }\n",
       "</style>\n",
       "<table border=\"1\" class=\"dataframe\">\n",
       "  <thead>\n",
       "    <tr style=\"text-align: right;\">\n",
       "      <th></th>\n",
       "      <th>fertility</th>\n",
       "      <th>life</th>\n",
       "      <th>population</th>\n",
       "      <th>child_mortality</th>\n",
       "      <th>gdp</th>\n",
       "      <th>region</th>\n",
       "    </tr>\n",
       "    <tr>\n",
       "      <th>Country</th>\n",
       "      <th></th>\n",
       "      <th></th>\n",
       "      <th></th>\n",
       "      <th></th>\n",
       "      <th></th>\n",
       "      <th></th>\n",
       "    </tr>\n",
       "  </thead>\n",
       "  <tbody>\n",
       "    <tr>\n",
       "      <th>Afghanistan</th>\n",
       "      <td>5.659</td>\n",
       "      <td>59.612</td>\n",
       "      <td>31411743.0</td>\n",
       "      <td>105.0</td>\n",
       "      <td>1637.0</td>\n",
       "      <td>South Asia</td>\n",
       "    </tr>\n",
       "    <tr>\n",
       "      <th>Albania</th>\n",
       "      <td>1.741</td>\n",
       "      <td>76.780</td>\n",
       "      <td>3204284.0</td>\n",
       "      <td>16.6</td>\n",
       "      <td>9374.0</td>\n",
       "      <td>Europe &amp; Central Asia</td>\n",
       "    </tr>\n",
       "    <tr>\n",
       "      <th>Algeria</th>\n",
       "      <td>2.817</td>\n",
       "      <td>70.615</td>\n",
       "      <td>35468208.0</td>\n",
       "      <td>27.4</td>\n",
       "      <td>12494.0</td>\n",
       "      <td>Middle East &amp; North Africa</td>\n",
       "    </tr>\n",
       "    <tr>\n",
       "      <th>Angola</th>\n",
       "      <td>6.218</td>\n",
       "      <td>50.689</td>\n",
       "      <td>19081912.0</td>\n",
       "      <td>182.5</td>\n",
       "      <td>7047.0</td>\n",
       "      <td>Sub-Saharan Africa</td>\n",
       "    </tr>\n",
       "    <tr>\n",
       "      <th>Antigua and Barbuda</th>\n",
       "      <td>2.130</td>\n",
       "      <td>75.437</td>\n",
       "      <td>88710.0</td>\n",
       "      <td>9.9</td>\n",
       "      <td>20567.0</td>\n",
       "      <td>America</td>\n",
       "    </tr>\n",
       "  </tbody>\n",
       "</table>\n",
       "</div>"
      ],
      "text/plain": [
       "                     fertility    life  population  child_mortality      gdp  \\\n",
       "Country                                                                        \n",
       "Afghanistan              5.659  59.612  31411743.0            105.0   1637.0   \n",
       "Albania                  1.741  76.780   3204284.0             16.6   9374.0   \n",
       "Algeria                  2.817  70.615  35468208.0             27.4  12494.0   \n",
       "Angola                   6.218  50.689  19081912.0            182.5   7047.0   \n",
       "Antigua and Barbuda      2.130  75.437     88710.0              9.9  20567.0   \n",
       "\n",
       "                                         region  \n",
       "Country                                          \n",
       "Afghanistan                          South Asia  \n",
       "Albania                   Europe & Central Asia  \n",
       "Algeria              Middle East & North Africa  \n",
       "Angola                       Sub-Saharan Africa  \n",
       "Antigua and Barbuda                     America  "
      ]
     },
     "execution_count": 24,
     "metadata": {},
     "output_type": "execute_result"
    }
   ],
   "source": [
    "def disparity(gr):\n",
    "    # Compute the spread of gr['gdp']: s\n",
    "    s = gr['gdp'].max() - gr['gdp'].min()\n",
    "    # Compute the z-score of gr['gdp'] as (gr['gdp']-gr['gdp'].mean())/gr['gdp'].std(): z\n",
    "    z = (gr['gdp'] - gr['gdp'].mean())/gr['gdp'].std()\n",
    "    # Return a DataFrame with the inputs {'z(gdp)':z, 'regional spread(gdp)':s}\n",
    "    return pd.DataFrame({'regional standardized(gdp)':z , 'regional spread(gdp)':s, 'region':gr.region})\n",
    "\n",
    "import pandas as pd\n",
    "gapminder = pd.read_csv('https://github.com/huangpen77/BUDT704/raw/main/Chapter07/gapminder_tidy.csv', index_col='Country')\n",
    "gapminder_mask = gapminder['Year'] == 2010\n",
    "gapminder_2010 = gapminder[gapminder_mask].copy()\n",
    "gapminder_2010.drop('Year', axis=1, inplace=True)\n",
    "gapminder_2010.head()"
   ]
  },
  {
   "cell_type": "code",
   "execution_count": 37,
   "metadata": {},
   "outputs": [
    {
     "name": "stderr",
     "output_type": "stream",
     "text": [
      "/var/folders/1w/b_mz30sd1qx678p0b29bk6z40000gn/T/ipykernel_5124/1107966484.py:5: FutureWarning: Not prepending group keys to the result index of transform-like apply. In the future, the group keys will be included in the index, regardless of whether the applied function returns a like-indexed object.\n",
      "To preserve the previous behavior, use\n",
      "\n",
      "\t>>> .groupby(..., group_keys=False)\n",
      "\n",
      "To adopt the future behavior and silence this warning, use \n",
      "\n",
      "\t>>> .groupby(..., group_keys=True)\n",
      "  reg_disp = regional.apply(disparity)\n"
     ]
    },
    {
     "data": {
      "text/html": [
       "<div>\n",
       "<style scoped>\n",
       "    .dataframe tbody tr th:only-of-type {\n",
       "        vertical-align: middle;\n",
       "    }\n",
       "\n",
       "    .dataframe tbody tr th {\n",
       "        vertical-align: top;\n",
       "    }\n",
       "\n",
       "    .dataframe thead th {\n",
       "        text-align: right;\n",
       "    }\n",
       "</style>\n",
       "<table border=\"1\" class=\"dataframe\">\n",
       "  <thead>\n",
       "    <tr style=\"text-align: right;\">\n",
       "      <th></th>\n",
       "      <th>regional standardized(gdp)</th>\n",
       "      <th>regional spread(gdp)</th>\n",
       "      <th>region</th>\n",
       "    </tr>\n",
       "    <tr>\n",
       "      <th>Country</th>\n",
       "      <th></th>\n",
       "      <th></th>\n",
       "      <th></th>\n",
       "    </tr>\n",
       "  </thead>\n",
       "  <tbody>\n",
       "    <tr>\n",
       "      <th>United States</th>\n",
       "      <td>3.013374</td>\n",
       "      <td>47855.0</td>\n",
       "      <td>America</td>\n",
       "    </tr>\n",
       "    <tr>\n",
       "      <th>Mexico</th>\n",
       "      <td>-0.026505</td>\n",
       "      <td>47855.0</td>\n",
       "      <td>America</td>\n",
       "    </tr>\n",
       "    <tr>\n",
       "      <th>United Kingdom</th>\n",
       "      <td>0.572873</td>\n",
       "      <td>89037.0</td>\n",
       "      <td>Europe &amp; Central Asia</td>\n",
       "    </tr>\n",
       "    <tr>\n",
       "      <th>Poland</th>\n",
       "      <td>-0.292486</td>\n",
       "      <td>89037.0</td>\n",
       "      <td>Europe &amp; Central Asia</td>\n",
       "    </tr>\n",
       "    <tr>\n",
       "      <th>China</th>\n",
       "      <td>-0.432756</td>\n",
       "      <td>96993.0</td>\n",
       "      <td>East Asia &amp; Pacific</td>\n",
       "    </tr>\n",
       "    <tr>\n",
       "      <th>Japan</th>\n",
       "      <td>0.514261</td>\n",
       "      <td>96993.0</td>\n",
       "      <td>East Asia &amp; Pacific</td>\n",
       "    </tr>\n",
       "  </tbody>\n",
       "</table>\n",
       "</div>"
      ],
      "text/plain": [
       "                regional standardized(gdp)  regional spread(gdp)  \\\n",
       "Country                                                            \n",
       "United States                     3.013374               47855.0   \n",
       "Mexico                           -0.026505               47855.0   \n",
       "United Kingdom                    0.572873               89037.0   \n",
       "Poland                           -0.292486               89037.0   \n",
       "China                            -0.432756               96993.0   \n",
       "Japan                             0.514261               96993.0   \n",
       "\n",
       "                               region  \n",
       "Country                                \n",
       "United States                 America  \n",
       "Mexico                        America  \n",
       "United Kingdom  Europe & Central Asia  \n",
       "Poland          Europe & Central Asia  \n",
       "China             East Asia & Pacific  \n",
       "Japan             East Asia & Pacific  "
      ]
     },
     "execution_count": 37,
     "metadata": {},
     "output_type": "execute_result"
    }
   ],
   "source": [
    "# Group gapminder_2010 by 'region': regional\n",
    "regional = gapminder_2010.groupby('region')\n",
    "\n",
    "# Apply the disparity function on regional: reg_disp\n",
    "reg_disp = regional.apply(disparity)\n",
    "\n",
    "# Print the disparity of United States, Mexico, United Kingdom, Poland, China and Japan\n",
    "reg_disp.loc[['United States', 'Mexico', 'United Kingdom', 'Poland', 'China', 'Japan']]"
   ]
  }
 ],
 "metadata": {
  "kernelspec": {
   "display_name": "Python 3 (ipykernel)",
   "language": "python",
   "name": "python3"
  },
  "language_info": {
   "codemirror_mode": {
    "name": "ipython",
    "version": 3
   },
   "file_extension": ".py",
   "mimetype": "text/x-python",
   "name": "python",
   "nbconvert_exporter": "python",
   "pygments_lexer": "ipython3",
   "version": "3.9.12"
  },
  "vscode": {
   "interpreter": {
    "hash": "3d597f4c481aa0f25dceb95d2a0067e73c0966dcbd003d741d821a7208527ecf"
   }
  }
 },
 "nbformat": 4,
 "nbformat_minor": 2
}
