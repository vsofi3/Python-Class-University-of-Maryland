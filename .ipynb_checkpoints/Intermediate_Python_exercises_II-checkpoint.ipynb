{
 "cells": [
  {
   "cell_type": "markdown",
   "metadata": {},
   "source": [
    "## EXERCISE 2.5\n",
    "### 1. Use while loop to calculate a cumulative sum\n",
    "\n",
    "The while loop is like a repeated if statement. The code is executed over and over again, as long as the condition is `True`. Have another look at its recipe.\n",
    "\n",
    "```\n",
    "while condition :\n",
    "    expression\n",
    "```\n",
    "While loops are often used to calculate a cumulative sum. In such code, an ***accumulator*** variable keeps track of the cumulative sum, while an ***counter*** variable keeps track of the number of iterations.\n",
    "\n",
    "#### Instructions (2 points)\n",
    "In this exercise, we will calculate the cumulative sum of 1+2+3+...+n, where `n` is input by the user. A simple algorithm is to use `i` as the counter variable (which starts at 1--the first number to be added), and add `i` to an accumulator variable, `sum`, in each iteration. The counter variable is then incremented by 1 in each iteration. The loop stops when the counter variable is greater than `n`.\n",
    "- fill in the condition after keyword `while'."
   ]
  },
  {
   "cell_type": "code",
   "execution_count": 1,
   "metadata": {},
   "outputs": [
    {
     "name": "stdout",
     "output_type": "stream",
     "text": [
      "Enter n: 4\n",
      "The sum is 10\n"
     ]
    }
   ],
   "source": [
    "# Program to add natural numbers up to n\n",
    "# sum = 1+2+3+...+n\n",
    "\n",
    "# To take input from the user, use function input()\n",
    "n = int(input(\"Enter n: \"))\n",
    "\n",
    "# initialize sum (the accumulator) and i (the counter)\n",
    "sum = 0\n",
    "i = 1 # the first number to be added\n",
    "\n",
    "# Loop through 1 to n and add each number to the accumulator\n",
    "while i <= n:\n",
    "    sum = sum + i\n",
    "    i = i + 1    # update counter\n",
    "\n",
    "# print the sum\n",
    "print(\"The sum is\", sum)"
   ]
  },
  {
   "cell_type": "markdown",
   "metadata": {},
   "source": [
    "## EXERCISE 2.6\n",
    "### 1. Loop over a list \n",
    "The `areas` variable, containing the area of different rooms in your house, is already defined.\n",
    "\n",
    "#### Instructions (2 points)\n",
    "\n",
    "Write a `for` loop that iterates over all elements of the `areas` list and prints out every element separately."
   ]
  },
  {
   "cell_type": "code",
   "execution_count": 2,
   "metadata": {},
   "outputs": [
    {
     "name": "stdout",
     "output_type": "stream",
     "text": [
      "11.25\n",
      "18.0\n",
      "20.0\n",
      "10.75\n",
      "9.5\n"
     ]
    }
   ],
   "source": [
    "# areas list\n",
    "areas = [11.25, 18.0, 20.0, 10.75, 9.50]\n",
    "\n",
    "# Code the for loop\n",
    "for num in areas:\n",
    "    print(num)"
   ]
  },
  {
   "cell_type": "markdown",
   "metadata": {},
   "source": [
    "### 2. Indexes and values (1) \n",
    "\n",
    "Using a `for` loop to iterate over a list only gives you access to every list element in each run, one after the other. If you also want to access the index information, so where the list element you're iterating over is located, you can use [`enumerate()`](https://docs.python.org/3/library/functions.html#enumerate).\n",
    "\n",
    "#### Instructions (2 points)\n",
    "\n",
    "- Adapt the `for` loop in the sample code to use `enumerate()` and use two iterator variables.\n",
    "- Update the `print()` statement so that on each run, a line of the form `\"room index: area\"` should be printed, where `index` is the index of the list element and `area` is the actual list element, i.e. the area. Make sure to print out this exact string, with the correct spacing. Use String `format()` method for this exercise."
   ]
  },
  {
   "cell_type": "code",
   "execution_count": 3,
   "metadata": {},
   "outputs": [
    {
     "name": "stdout",
     "output_type": "stream",
     "text": [
      "room 0: 11.25\n",
      "room 1: 18.0\n",
      "room 2: 20.0\n",
      "room 3: 10.75\n",
      "room 4: 9.5\n"
     ]
    }
   ],
   "source": [
    "# areas list\n",
    "areas = [11.25, 18.0, 20.0, 10.75, 9.50]\n",
    "\n",
    "# Change for loop to use enumerate() and update print()\n",
    "for index, num in enumerate(areas):\n",
    "    print(\"room {}: {}\".format(index, num))"
   ]
  },
  {
   "cell_type": "markdown",
   "metadata": {},
   "source": [
    "### 3. Indexes and values (2) \n",
    "\n",
    "For non-programmer folks, `room 0: 11.25` is strange. Wouldn't it be better if the count started at 1?\n",
    "\n",
    "#### Instructions (2 points)\n",
    "\n",
    "Adapt the `print()` function in the `for` loop on the right so that the first printout becomes `\"room 1: 11.25\"`, the second one `\"room 2: 18.0\"` and so on."
   ]
  },
  {
   "cell_type": "code",
   "execution_count": 5,
   "metadata": {},
   "outputs": [
    {
     "name": "stdout",
     "output_type": "stream",
     "text": [
      "room 1: 11.25\n",
      "room 2: 18.0\n",
      "room 3: 20.0\n",
      "room 4: 10.75\n",
      "room 5: 9.5\n"
     ]
    }
   ],
   "source": [
    "# areas list\n",
    "areas = [11.25, 18.0, 20.0, 10.75, 9.50]\n",
    "\n",
    "# Code the for loop\n",
    "for index, num in enumerate(areas, 1):\n",
    "    print(\"room {}: {}\".format(index, num))"
   ]
  },
  {
   "cell_type": "markdown",
   "metadata": {},
   "source": [
    "## EXERCISE 2.7\n",
    "### 1. Loop over list of lists \n",
    "\n",
    "`house` is defined as a list of lists, where each sublist contains the name and area of a room in your house.\n",
    "\n",
    "It's up to you to build a `for` loop from scratch this time!\n",
    "\n",
    "#### Instructions (2 points)\n",
    "\n",
    "Write a `for` loop that goes through each sublist of `house` and prints out `\"The x is y square meters.\"`, where `x` is the name of the room and `y` is the area of the room. Use String `format()` method for this exercise.\n",
    "Hint: each element in house, such as `[\"hallway\", 11.25]`, is a list. Its first element gives you `x` and the second element gives you `y`."
   ]
  },
  {
   "cell_type": "code",
   "execution_count": 10,
   "metadata": {},
   "outputs": [
    {
     "name": "stdout",
     "output_type": "stream",
     "text": [
      "The hallway is 11.25 square meters\n",
      "The kitchen is 18.0 square meters\n",
      "The living room is 20.0 square meters\n",
      "The bedroom is 10.75 square meters\n",
      "The bathroom is 9.5 square meters\n"
     ]
    }
   ],
   "source": [
    "# house list of lists\n",
    "house = [[\"hallway\", 11.25], \n",
    "         [\"kitchen\", 18.0], \n",
    "         [\"living room\", 20.0], \n",
    "         [\"bedroom\", 10.75], \n",
    "         [\"bathroom\", 9.50]]\n",
    "         \n",
    "# Build a for loop from scratch\n",
    "for spot in house:\n",
    "    print(\"The {} is {} square meters\".format(spot[0], spot[1]))"
   ]
  },
  {
   "cell_type": "markdown",
   "metadata": {},
   "source": [
    "### 2. Loop over dictionary \n",
    "\n",
    "Remember the `europe` dictionary that contained the names of some European countries as key and their capitals as corresponding value? Go ahead and write a loop to iterate over it!\n",
    "\n",
    "#### Instructions (2 points)\n",
    "\n",
    "Write a `for` loop that goes through each key:value pair of `europe`. On each iteration, `\"The capital of x is y.\"` should be printed out, where `x` is the key and `y` is the value of the pair."
   ]
  },
  {
   "cell_type": "code",
   "execution_count": 23,
   "metadata": {},
   "outputs": [
    {
     "name": "stdout",
     "output_type": "stream",
     "text": [
      "The capital of spain is madrid\n",
      "The capital of france is paris\n",
      "The capital of germany is berlin\n",
      "The capital of norway is oslo\n",
      "The capital of italy is rome\n",
      "The capital of poland is warsaw\n",
      "The capital of austria is vienna\n"
     ]
    }
   ],
   "source": [
    "# Definition of dictionary\n",
    "europe = {'spain':'madrid', 'france':'paris', 'germany':'berlin',\n",
    "          'norway':'oslo', 'italy':'rome', 'poland':'warsaw', 'austria':'vienna' }\n",
    "          \n",
    "# Iterate over europe\n",
    "for country, capital in europe.items():\n",
    "    print(\"The capital of {} is {}\".format(country, capital))\n",
    "    \n",
    "# I also did for country in europe\n",
    "# print country, europe[country]"
   ]
  },
  {
   "cell_type": "markdown",
   "metadata": {},
   "source": [
    "## EXERCISE 2.8\n",
    "### 1. String methods\n",
    "`text.count(str)`: Count occurrences of `str` in `text`\n",
    "#### Instructions (1 point)\n",
    "\n",
    "Use the `count()` method to count the number of `'l'`s in `text`. Variable `text` has been defined for you."
   ]
  },
  {
   "cell_type": "code",
   "execution_count": 16,
   "metadata": {},
   "outputs": [
    {
     "data": {
      "text/plain": [
       "2"
      ]
     },
     "execution_count": 16,
     "metadata": {},
     "output_type": "execute_result"
    }
   ],
   "source": [
    "text = 'hello'\n",
    "# Use the `count()` method to count the number of `'l'`s in `text`.\n",
    "text.count('l')"
   ]
  },
  {
   "cell_type": "markdown",
   "metadata": {},
   "source": [
    "`capitalize()` vs. `title()`\n",
    "#### Instructions (1 point)\n",
    "Call the `capitalize()` and `title()` methods on `msg` and see their differences."
   ]
  },
  {
   "cell_type": "code",
   "execution_count": 17,
   "metadata": {},
   "outputs": [
    {
     "name": "stdout",
     "output_type": "stream",
     "text": [
      "Welcome to python course!\n",
      "Welcome To Python Course!\n"
     ]
    }
   ],
   "source": [
    "msg = \"welcome to python course!\"\n",
    "# Call the `capitalize()` method on `msg`\n",
    "x = msg.capitalize()\n",
    "print (x)\n",
    "# Call the `title()` method on `msg` \n",
    "y = msg.title()\n",
    "print (y)"
   ]
  },
  {
   "cell_type": "markdown",
   "metadata": {},
   "source": [
    "`text.isalpha()`: Returns true if ALL characters in `text` are letters\n",
    "\n",
    "#### Instructions (1 point)\n",
    "Call the `isalpha()` method on `text`"
   ]
  },
  {
   "cell_type": "code",
   "execution_count": 18,
   "metadata": {},
   "outputs": [
    {
     "name": "stdout",
     "output_type": "stream",
     "text": [
      "False\n"
     ]
    }
   ],
   "source": [
    "text = 'Hello, world!'\n",
    "# Call the `isalpha()` method on `text`\n",
    "print(text.isalpha())\n",
    "# because of comma and the exclamation point are special characters not letters"
   ]
  },
  {
   "cell_type": "markdown",
   "metadata": {},
   "source": [
    "`isnumeric()` method of python is used to check if ALL the characters of the string are numeric characters or not. If all the characters in the string are numeric values, it returns True, if not, it returns False.\n",
    "\n",
    "#### Instructions (2 points)\n",
    "Call the `isnumeric()` method on `msg`."
   ]
  },
  {
   "cell_type": "code",
   "execution_count": 19,
   "metadata": {},
   "outputs": [
    {
     "name": "stdout",
     "output_type": "stream",
     "text": [
      "True\n",
      "False\n"
     ]
    }
   ],
   "source": [
    "msg = \"123\"\n",
    "# Call the `isnumeric()` method on `msg`.\n",
    "x = msg.isnumeric()\n",
    "print (x)\n",
    "\n",
    "msg = \"welcome123\"\n",
    "# Call the `isnumeric()` method on `msg`.\n",
    "y = msg.isnumeric()\n",
    "print (y)\n",
    "# because of the welcome, those are letters"
   ]
  },
  {
   "cell_type": "markdown",
   "metadata": {},
   "source": [
    "`split()` method is used to list each Word of a string in a list.\n",
    "#### Instructions (1 point)\n",
    "Call the `split()` method on `msg`."
   ]
  },
  {
   "cell_type": "code",
   "execution_count": 20,
   "metadata": {},
   "outputs": [
    {
     "name": "stdout",
     "output_type": "stream",
     "text": [
      "['welcome', 'to', 'python', 'course']\n"
     ]
    }
   ],
   "source": [
    "msg= \"welcome to python course\"\n",
    "# Call the `split()` method on `msg`.\n",
    "x = msg.split()\n",
    "print(x)"
   ]
  },
  {
   "cell_type": "markdown",
   "metadata": {},
   "source": [
    "`replace()` method is used to find and replace any string.\n",
    "#### Instructions (1 point)\n",
    "Call the `replace()` method on `msg` to repalce `cats` with `dogs`."
   ]
  },
  {
   "cell_type": "code",
   "execution_count": 21,
   "metadata": {},
   "outputs": [
    {
     "name": "stdout",
     "output_type": "stream",
     "text": [
      "I like dogs.\n"
     ]
    }
   ],
   "source": [
    "msg = \"I like cats.\"\n",
    "# Call the `replace()` method on `msg` to replace `cats` with `dogs`.\n",
    "x = msg.replace('cats', 'dogs')\n",
    "print(x)"
   ]
  },
  {
   "cell_type": "markdown",
   "metadata": {},
   "source": [
    "Note when using `strip()` method, only the sapces at the beginning and end of the string will removed. The spaces between words will remain.\n",
    "#### Instructions (1 point)\n",
    "Call the `strip()` method on `msg`."
   ]
  },
  {
   "cell_type": "code",
   "execution_count": 22,
   "metadata": {},
   "outputs": [
    {
     "name": "stdout",
     "output_type": "stream",
     "text": [
      "legolas    aragorn   gimli\n"
     ]
    }
   ],
   "source": [
    "msg = \" legolas    aragorn   gimli  \"\n",
    "# Call the `strip()` method on `msg`.\n",
    "x = msg.strip()\n",
    "print(x)\n",
    "\n",
    "# spaces between the words still remain"
   ]
  }
 ],
 "metadata": {
  "kernelspec": {
   "display_name": "Python 3 (ipykernel)",
   "language": "python",
   "name": "python3"
  },
  "language_info": {
   "codemirror_mode": {
    "name": "ipython",
    "version": 3
   },
   "file_extension": ".py",
   "mimetype": "text/x-python",
   "name": "python",
   "nbconvert_exporter": "python",
   "pygments_lexer": "ipython3",
   "version": "3.9.12"
  },
  "vscode": {
   "interpreter": {
    "hash": "3d597f4c481aa0f25dceb95d2a0067e73c0966dcbd003d741d821a7208527ecf"
   }
  }
 },
 "nbformat": 4,
 "nbformat_minor": 2
}
