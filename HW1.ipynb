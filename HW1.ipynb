{
 "cells": [
  {
   "cell_type": "markdown",
   "metadata": {
    "pycharm": {
     "name": "#%% md\n"
    }
   },
   "source": [
    "## Homework #1 (25 points)\n",
    "### 1. Type conversion\n",
    "\n",
    "Using the `+` operator to paste together two strings can be very useful in building custom messages.\n",
    "\n",
    "Suppose, for example, that you've calculated the return of your investment and want to summarize the results in a string. Assuming the integer `savings` and float `result` are defined, you can try something like this:\n",
    "\n",
    "```python\n",
    "print(\"I started with $\" + savings + \" and now have $\" + result + \". Awesome!\")\n",
    "```\n",
    "\n",
    "This will not work, though, as you cannot simply sum **strings** and **integers/floats**.\n",
    "\n",
    "To fix the error, you'll need to explicitly convert the types of your variables. More specifically, you'll need [`str()`](https://docs.python.org/3/library/functions.html#func-str), to convert a value into a string. `str(savings)`, for example, will convert the integer `savings` to a string.\n",
    "\n",
    "Similar functions such as `int()`, `float()` and `bool()` will help you convert Python values into any type.\n",
    "\n",
    "#### Instructions (1 points)\n",
    "\n",
    "- Hit *Run Code* to run the code. Try to understand the error message.\n",
    "- Fix the code such that the printout runs without errors; use the function `str()` to convert the variables to strings."
   ]
  },
  {
   "cell_type": "code",
   "execution_count": 9,
   "metadata": {
    "pycharm": {
     "name": "#%%\n"
    }
   },
   "outputs": [
    {
     "name": "stdout",
     "output_type": "stream",
     "text": [
      "I started with $100 and now have $194.87. Awesome!\n"
     ]
    }
   ],
   "source": [
    "# Definition of savings and result\n",
    "savings = 100\n",
    "result = 100 * 1.10 ** 7\n",
    "\n",
    "# Fix the printout\n",
    "print(\"I started with $\" + str(savings) + \" and now have $\" + str(round(result,2)) + \". Awesome!\")"
   ]
  },
  {
   "cell_type": "markdown",
   "metadata": {},
   "source": [
    "#### Instructions (1 point)\n",
    "\n",
    "- Convert the variable `pi_string` to a float and store this float as a new variable, `pi_float`."
   ]
  },
  {
   "cell_type": "code",
   "execution_count": 13,
   "metadata": {},
   "outputs": [
    {
     "name": "stdout",
     "output_type": "stream",
     "text": [
      "<class 'str'> 3.1415926\n",
      "<class 'float'> 3.1415926\n"
     ]
    }
   ],
   "source": [
    "# Definition of pi_string\n",
    "pi_string = \"3.1415926\"\n",
    "print(type(pi_string), pi_string)\n",
    "\n",
    "# Convert pi_string into float: pi_float\n",
    "pi_float = float(pi_string)\n",
    "print(type(pi_float), pi_float)"
   ]
  },
  {
   "cell_type": "markdown",
   "metadata": {
    "pycharm": {
     "name": "#%% md\n"
    }
   },
   "source": [
    "### 2. Selective import\n",
    "\n",
    "General imports, like `import math`, make **all** functionality from the `math` package available to you. However, if you decide to only use a specific part of a package, you can always make your import more selective:\n",
    "\n",
    "```python\n",
    "from math import pi\n",
    "```\n",
    "\n",
    "Let's say the Moon's orbit around planet Earth is a perfect circle, with a radius `r` (in km) that is defined in the script.\n",
    "\n",
    "#### Instructions (2 points)\n",
    "\n",
    "- Perform a selective import from the `math` package where you only import the `radians` function.\n",
    "- Calculate the distance travelled by the Moon over 12 degrees of its orbit. Assign the result to `dist`. You can calculate this as `r * phi`, where `r` is the radius and `phi` is the angle in radians. To convert an angle in degrees to an angle in radians, use the `radians()` function, which you just imported.\n",
    "- Print out `dist`."
   ]
  },
  {
   "cell_type": "code",
   "execution_count": 1,
   "metadata": {
    "pycharm": {
     "name": "#%%\n"
    }
   },
   "outputs": [
    {
     "name": "stdout",
     "output_type": "stream",
     "text": [
      "40317.10572106901\n"
     ]
    }
   ],
   "source": [
    "# Definition of radius\n",
    "r = 192500\n",
    "\n",
    "# Import radians function of math package\n",
    "from math import radians\n",
    "\n",
    "phi = radians(12)\n",
    "# Travel distance of Moon over 12 degrees. Store in dist.\n",
    "dist = r * phi\n",
    "\n",
    "# Print out dist\n",
    "print(dist)"
   ]
  },
  {
   "cell_type": "markdown",
   "metadata": {},
   "source": [
    "### 3. Dictionary Manipulation\n",
    "\n",
    "Somebody thought it would be funny to mess with your accurately generated dictionary. An adapted version of the `europe` dictionary is available in the script below.\n",
    "\n",
    "Can you clean up? Do it by adding Python commands to the script to update and remove key:value pairs.\n",
    "\n",
    "#### Instructions (2 points)\n",
    "\n",
    "- The capital of Germany is not `'bonn'`; it's `'berlin'`. Update its value.\n",
    "- Australia is not in Europe, Austria is! Remove the key `'australia'` from `europe`.\n",
    "- Print out `europe` to see if your cleaning work paid off."
   ]
  },
  {
   "cell_type": "code",
   "execution_count": 6,
   "metadata": {},
   "outputs": [
    {
     "name": "stdout",
     "output_type": "stream",
     "text": [
      "{'spain': 'madrid', 'france': 'paris', 'germany': 'berlin', 'norway': 'oslo', 'italy': 'rome', 'poland': 'warsaw'}\n"
     ]
    }
   ],
   "source": [
    "# Definition of dictionary\n",
    "europe = {'spain':'madrid', 'france':'paris', 'germany':'bonn',\n",
    "          'norway':'oslo', 'italy':'rome', 'poland':'warsaw',\n",
    "          'australia':'canberra' }\n",
    "\n",
    "# Update capital of germany\n",
    "europe['germany'] = 'berlin'\n",
    "\n",
    "# Remove australia\n",
    "europe.pop('australia')\n",
    "\n",
    "# Print europe\n",
    "print(europe)"
   ]
  },
  {
   "cell_type": "markdown",
   "metadata": {},
   "source": [
    "### 4. `while` loops\n",
    "\n",
    "#### Instructions (5 points) \n",
    "The following program is used to caculate the number of years required to double an investment of $10000. The annual interest rate is 5%; the constant `RATE` is set to 5 to store this information.\n",
    "The algorith is as follows:\n",
    "- set account balance (the variable `balance`) to the initial investment (stored in `INITIAL_BALANCE`)\n",
    "- set the initial value of number of years (the variable `years`) to 0\n",
    "- repeat the following as long as `balance` is smaller than `TARGET` (which is set to be twice of `INITIAL_BALANCE`):\n",
    "    - add 1 to `years`, and store the result back to `year`\n",
    "    - calculate the amount of interest, which is equal to `balance * RATE / 100`, store it in a variable `interest`\n",
    "    - add `interest` to `balance`, and store the result back to `balance`\n",
    "\n",
    "Now complete the missing statements in the while loop."
   ]
  },
  {
   "cell_type": "code",
   "execution_count": 8,
   "metadata": {},
   "outputs": [
    {
     "name": "stdout",
     "output_type": "stream",
     "text": [
      "The investment doubled after 15 years.\n"
     ]
    }
   ],
   "source": [
    "#  This program computes the time required to double an investment.\n",
    "\n",
    "# Create constant variables.\n",
    "RATE = 5.0\n",
    "INITIAL_BALANCE = 10000.0\n",
    "TARGET = 2 * INITIAL_BALANCE\n",
    "\n",
    "# Initialize variables used with the loop.\n",
    "# set account balance (the variable `balance`) to the initial investment (stored in `INITIAL_BALANCE`)\n",
    "balance = INITIAL_BALANCE\n",
    "# set the initial value of number of years (the variable `years`) to 0\n",
    "years = 0\n",
    "\n",
    "# Count the years required for the investment to double.\n",
    "# repeat the loop body as long as `balance` is smaller than `TARGET` (which is set to be twice of `INITIAL_BALANCE`)\n",
    "while balance < TARGET:\n",
    "    # add 1 to `years`, and store the result back to `year`\n",
    "    years += 1\n",
    "    # calculate the amount of interest, which is equal to `balance * RATE / 100`, store it in a variable `interest`\n",
    "    interest = balance * RATE / 100\n",
    "    # add `interest` to `balance`, and store the result back to `balance`\n",
    "    balance += interest\n",
    "\n",
    "# Print the results.\n",
    "print(\"The investment doubled after\", years, \"years.\")"
   ]
  },
  {
   "cell_type": "markdown",
   "metadata": {},
   "source": [
    "### 5. The keyword global\n",
    "\n",
    "Let's work more on your mastery of scope. In this exercise, you will use the keyword `global` within a function to alter the value of a variable defined in the global scope.\n",
    "\n",
    "#### Instructions (2 points)\n",
    "\n",
    "- Use the keyword `global` to access the variable `team` in the global scope.\n",
    "- Change the value of `team` in the global scope to the string `\"justice league\"`. "
   ]
  },
  {
   "cell_type": "code",
   "execution_count": 9,
   "metadata": {},
   "outputs": [
    {
     "name": "stdout",
     "output_type": "stream",
     "text": [
      "teen titans\n",
      "justice league\n"
     ]
    }
   ],
   "source": [
    "# Create a string: team\n",
    "team = \"teen titans\"\n",
    "\n",
    "# Define change_team()\n",
    "def change_team():\n",
    "    \"\"\"Change the value of the global variable team.\"\"\"\n",
    "\n",
    "    # Use team in global scope\n",
    "    global team\n",
    "\n",
    "    # Change the value of team in global scope to string \"justice league\": team\n",
    "    team = \"justice league\"\n",
    "    \n",
    "# Print team\n",
    "print(team)\n",
    "\n",
    "# Call change_team()\n",
    "change_team()\n",
    "\n",
    "# Print team\n",
    "print(team)"
   ]
  },
  {
   "cell_type": "markdown",
   "metadata": {},
   "source": [
    "### 6. Functions with multiple default arguments\n",
    "\n",
    "You've now defined a function that uses a default argument - don't stop there just yet! You will now try your hand at defining a function with more than one default argument and then calling this function in various ways.\n",
    "\n",
    "\n",
    "#### Instructions (5 points)\n",
    "\n",
    "- Complete the function header with the function name `shout_echo`. It accepts an argument `word1`, a default argument `echo` with default value `1` and a default argument `intense` with default value `False`, in that order.\n",
    "- In the body of the `if` statement, make the string object `echo_word` upper case by applying the method `.upper()` on it.\n",
    "- Call `shout_echo()` with the string `\"Hey\"`, the value `5` for `echo` and the value `True` for `intense`. Assign the result to `big_echo`.\n",
    "- Call `shout_echo()` with the string `\"Hey\"` and the value `True` for `intense`. Assign the result to `big_no_echo`.\n",
    "- Call `shout_echo()` with the string `\"Hey\"` and the value `5` for `echo`. Assign the result to `small_echo`."
   ]
  },
  {
   "cell_type": "code",
   "execution_count": 10,
   "metadata": {},
   "outputs": [
    {
     "name": "stdout",
     "output_type": "stream",
     "text": [
      "HEYHEYHEYHEYHEY!!!\n",
      "HEY!!!\n",
      "HeyHeyHeyHeyHey!!!\n"
     ]
    }
   ],
   "source": [
    "# Define shout_echo\n",
    "def shout_echo(word1, echo=1, intense=False):\n",
    "    \"\"\"Concatenate echo copies of word1 and three\n",
    "    exclamation marks at the end of the string.\"\"\"\n",
    "\n",
    "    # Concatenate echo copies of word1 using *: echo_word\n",
    "    echo_word = word1 * echo\n",
    "\n",
    "    # Make echo_word uppercase if intense is True\n",
    "    if intense is True:\n",
    "        # Make uppercase and concatenate '!!!': echo_word_new\n",
    "        echo_word_new = echo_word.upper() + '!!!'\n",
    "    else:\n",
    "        # Concatenate '!!!' to echo_word: echo_word_new\n",
    "        echo_word_new = echo_word + '!!!'\n",
    "\n",
    "    # Return echo_word_new\n",
    "    return echo_word_new\n",
    "\n",
    "# Call shout_echo() with \"Hey\", echo=5 and intense=True: big_echo\n",
    "big_echo = shout_echo(\"Hey\", echo=5, intense=True)\n",
    "\n",
    "# Call shout_echo() with \"Hey\" and intense=True: big_no_echo\n",
    "big_no_echo = shout_echo(\"Hey\", intense=True)\n",
    "\n",
    "# Call shout_echo() with \"Hey\" and echo=5: small_echo\n",
    "small_echo = shout_echo(\"Hey\", echo=5)\n",
    "\n",
    "# Print values\n",
    "print(big_echo)\n",
    "print(big_no_echo)\n",
    "print(small_echo)"
   ]
  },
  {
   "cell_type": "markdown",
   "metadata": {},
   "source": [
    "### 7. Functions with variable-length arguments (*args)\n",
    "\n",
    "Flexible arguments enable you to pass a variable number of arguments to a function. In this exercise, you will practice defining a function that accepts a variable number of string arguments.\n",
    "\n",
    "The function you will define is `gibberish()`, which can accept a variable number of string values. Its return value is a single string composed of all the string arguments concatenated together in the order they were passed to the function call. You will call the function with a single string argument and see how the output changes with another call using more than one string argument. Recall that, within the function definition, `args` is a tuple.\n",
    "\n",
    "#### Instructions (3 points)\n",
    "\n",
    "- Complete the function header with the function name `gibberish`. It accepts a single flexible argument `*args`.\n",
    "- Initialize a variable `hodgepodge` to an empty string.\n",
    "- Return the variable `hodgepodge` at the end of the function body.\n",
    "- Call `gibberish()` with the single string, `\"luke\"`. Assign the result to `one_word`.\n",
    "- Call `gibberish()` with five arguments `\"luke\", \"leia\", \"han\", \"obi\", \"darth\"`and assign the result to `many_words`."
   ]
  },
  {
   "cell_type": "code",
   "execution_count": 11,
   "metadata": {},
   "outputs": [
    {
     "name": "stdout",
     "output_type": "stream",
     "text": [
      "luke\n",
      "lukeleiahanobidarth\n"
     ]
    }
   ],
   "source": [
    "# Define gibberish\n",
    "def gibberish(*args):\n",
    "    \"\"\"Concatenate strings in *args together.\"\"\"\n",
    "\n",
    "    # Initialize an empty string: hodgepodge\n",
    "    hodgepodge = \"\"\n",
    "\n",
    "    # Concatenate the strings in args\n",
    "    for word in args:\n",
    "        hodgepodge += word\n",
    "\n",
    "    # Return hodgepodge\n",
    "    return hodgepodge\n",
    "\n",
    "# Call gibberish() with one string \"luke\": one_word\n",
    "one_word = gibberish(\"luke\")\n",
    "\n",
    "# Call gibberish() with five strings \"luke\", \"leia\", \"han\", \"obi\", \"darth\": many_words\n",
    "many_words = gibberish(\"luke\", \"leia\", \"han\", \"obi\", \"darth\")\n",
    "\n",
    "# Print one_word and many_words\n",
    "print(one_word)\n",
    "print(many_words)"
   ]
  },
  {
   "cell_type": "markdown",
   "metadata": {},
   "source": [
    "### 8. Functions with variable-length keyword arguments (**kwargs)\n",
    "\n",
    "Let's push further on what you've learned about flexible arguments - you've used `*args`, you're now going to use `**kwargs`! What makes `**kwargs` different is that it allows you to pass a variable number of *keyword arguments* to functions. Recall that, within the function definition, `kwargs` is a dictionary.\n",
    "\n",
    "To understand this idea better, you're going to use `**kwargs` in this exercise to define a function that accepts a variable number of keyword arguments. The function simulates a simple status report system that prints out the status of a character in a movie.\n",
    "\n",
    "#### Instructions (4 points)\n",
    "\n",
    "- Complete the function header with the function name `report_status`. It accepts a single flexible argument `**kwargs`.\n",
    "- Iterate over the key-value pairs of `kwargs` to print out the keys and values, separated by a colon ':'.\n",
    "- In the first call to `report_status()`, pass the following keyword-value pairs: `name=\"luke\"`, `affiliation=\"jedi\"` and `status=\"missing\"`.\n",
    "- In the second call to `report_status(`), pass the following keyword-value pairs: `name=\"anakin\"`, `affiliation=\"sith lord\"` and `status=\"deceased\"`."
   ]
  },
  {
   "cell_type": "code",
   "execution_count": 12,
   "metadata": {},
   "outputs": [
    {
     "name": "stdout",
     "output_type": "stream",
     "text": [
      "\n",
      "BEGIN: REPORT\n",
      "********************\n",
      "name: luke\n",
      "affiliation: jedi\n",
      "status: missing\n",
      "********************\n",
      "END REPORT\n",
      "\n",
      "BEGIN: REPORT\n",
      "********************\n",
      "name: anakin\n",
      "affiliation: sith lord\n",
      "status: deceased\n",
      "********************\n",
      "END REPORT\n"
     ]
    }
   ],
   "source": [
    "# Define report_status\n",
    "def report_status(**kwargs):\n",
    "    \"\"\"Print out the status of a movie character.\"\"\"\n",
    "\n",
    "    print(\"\\nBEGIN: REPORT\\n\" + '*'*20) # Note that \"\\n\" insert a new line in the output\n",
    "\n",
    "    # Iterate over the key-value pairs of kwargs\n",
    "    for key, value in kwargs.items():\n",
    "        # Print out the keys and values, separated by a colon ':'\n",
    "        print(key + \": \" + value)\n",
    "\n",
    "    print('*'*20 + \"\\nEND REPORT\")\n",
    "\n",
    "# First call to report_status()\n",
    "report_status(name=\"luke\", affiliation=\"jedi\", status=\"missing\")\n",
    "\n",
    "# Second call to report_status()\n",
    "report_status(name=\"anakin\", affiliation=\"sith lord\", status=\"deceased\")"
   ]
  }
 ],
 "metadata": {
  "kernelspec": {
   "display_name": "Python 3 (ipykernel)",
   "language": "python",
   "name": "python3"
  },
  "language_info": {
   "codemirror_mode": {
    "name": "ipython",
    "version": 3
   },
   "file_extension": ".py",
   "mimetype": "text/x-python",
   "name": "python",
   "nbconvert_exporter": "python",
   "pygments_lexer": "ipython3",
   "version": "3.9.12"
  },
  "vscode": {
   "interpreter": {
    "hash": "225ebaf34ab10a2d155624e96c3881b51b6c8abb9886d1096d80b3981ba9ef83"
   }
  }
 },
 "nbformat": 4,
 "nbformat_minor": 2
}
