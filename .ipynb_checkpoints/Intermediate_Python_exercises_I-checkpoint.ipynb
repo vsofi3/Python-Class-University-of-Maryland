{
 "cells": [
  {
   "cell_type": "markdown",
   "metadata": {},
   "source": [
    "## EXERCISE 2.1\n",
    "### 1. Create dictionary (1 point)\n",
    "\n",
    "The `countries` and `capitals` lists are again available in the script. It's your job to convert this data to a dictionary where the country names are the keys and the capitals are the corresponding values. As a refresher, here is a recipe for creating a dictionary:\n",
    "\n",
    "```py\n",
    "my_dict = {\n",
    "   \"key1\":\"value1\",\n",
    "   \"key2\":\"value2\"\n",
    "}\n",
    "```\n",
    "\n",
    "In this recipe, both the keys and the values are strings. This will also be the case for this exercise.\n",
    "\n",
    "#### Instructions\n",
    "\n",
    "- With the strings in `countries` and `capitals`, create a dictionary called `europe` with 4 key:value pairs. Use country as the key and capital as the value. Beware of capitalization! Make sure you use lowercase characters everywhere.\n",
    "- Print out `europe` to see if the result is what you expected."
   ]
  },
  {
   "cell_type": "code",
   "execution_count": 2,
   "metadata": {},
   "outputs": [
    {
     "name": "stdout",
     "output_type": "stream",
     "text": [
      "{'spain': 'madrid', 'france': 'paris', 'germany': 'berlin', 'norway': 'oslo'}\n"
     ]
    }
   ],
   "source": [
    "# Definition of countries and capital\n",
    "countries = ['spain', 'france', 'germany', 'norway']\n",
    "capitals = ['madrid', 'paris', 'berlin', 'oslo']\n",
    "\n",
    "# From string in countries and capitals, create dictionary europe\n",
    "europe = {'spain':'madrid', 'france':'paris', 'germany':'berlin','norway':'oslo'}\n",
    "\n",
    "# Print europe\n",
    "print(europe)"
   ]
  },
  {
   "cell_type": "markdown",
   "metadata": {},
   "source": [
    "### 2. Access data in a dictionary (2 points)\n",
    "\n",
    "If the keys of a dictionary are chosen wisely, accessing the values in a dictionary is easy and intuitive. For example, to get the capital for France from `europe` you can use:\n",
    "\n",
    "```py\n",
    "europe['france']\n",
    "```\n",
    "\n",
    "Here, `'france'` is the key and `'paris'` the value is returned.\n",
    "\n",
    "#### Instructions\n",
    "\n",
    "- Check out which keys are in `europe` by calling the `keys()` method on `europe`. Print out the result.\n",
    "- Print out the value that belongs to the key `'norway'`."
   ]
  },
  {
   "cell_type": "code",
   "execution_count": 3,
   "metadata": {},
   "outputs": [
    {
     "name": "stdout",
     "output_type": "stream",
     "text": [
      "dict_keys(['spain', 'france', 'germany', 'norway'])\n",
      "oslo\n"
     ]
    }
   ],
   "source": [
    "# Definition of dictionary\n",
    "europe = {'spain':'madrid', 'france':'paris', 'germany':'berlin', 'norway':'oslo' }\n",
    "\n",
    "# Print out the keys in europe\n",
    "print(europe.keys())\n",
    "\n",
    "# Print out value that belongs to key 'norway'\n",
    "print(europe['norway'])"
   ]
  },
  {
   "cell_type": "markdown",
   "metadata": {},
   "source": [
    "### 3. Dictionary Manipulation (2 points)\n",
    "\n",
    "If you know how to access a dictionary, you can also assign a new value to it. To add a new key-value pair to `europe` you can use something like this:\n",
    "\n",
    "```python\n",
    "europe['iceland'] = 'reykjavik'\n",
    "```\n",
    "\n",
    "#### Instructions\n",
    "\n",
    "- Add the key `'italy'` with the value `'rome'` to `europe`.\n",
    "- To assert that `'italy'` is now a key in `europe`, print out `'italy' in europe` (which should give you True).\n",
    "- Add another key:value pair to `europe`: in the new entry,`'poland'` is the key, `'warsaw'` is the corresponding value.\n",
    "- Print out `europe`."
   ]
  },
  {
   "cell_type": "code",
   "execution_count": 5,
   "metadata": {},
   "outputs": [
    {
     "name": "stdout",
     "output_type": "stream",
     "text": [
      "True\n",
      "{'spain': 'madrid', 'france': 'paris', 'germany': 'berlin', 'norway': 'oslo', 'italy': 'rome', 'poland': 'warsaw'}\n"
     ]
    }
   ],
   "source": [
    "# Definition of dictionary\n",
    "europe = {'spain':'madrid', 'france':'paris', 'germany':'berlin', 'norway':'oslo' }\n",
    "\n",
    "# Add italy to europe\n",
    "europe['italy'] = 'rome'\n",
    "\n",
    "# Check if italy is in europe\n",
    "print('italy' in europe)\n",
    "\n",
    "# Add poland to europe\n",
    "europe['poland'] = 'warsaw'\n",
    "\n",
    "# Print europe\n",
    "print(europe)"
   ]
  },
  {
   "cell_type": "markdown",
   "metadata": {},
   "source": [
    "## EXERCISE 2.2\n",
    "### 1. Equality (2 points)\n",
    "\n",
    "To check if two Python values, or variables, are equal you can use `==`. To check for inequality, you need `!=`. As a refresher, have a look at the following examples that all result in `True`. Feel free to try them out in the IPython Shell.\n",
    "\n",
    "```python\n",
    "2 == (1 + 1)\n",
    "\"intermediate\" != \"python\"\n",
    "True != False\n",
    "\"Python\" != \"python\"\n",
    "```\n",
    "When you write these comparisons in a script, you will need to wrap a `print()` function around them to see the output.\n",
    "\n",
    "#### Instructions\n",
    "\n",
    "- In the cell below, write code to see if `True` equals `False`.\n",
    "- Write Python code to check if `-5 * 15` is NOT equal to `75`.\n",
    "- Ask Python whether the strings `\"pyscript\"` and `\"PyScript\"` are equal.\n",
    "- What happens if you compare booleans and integers? Write code to see if `True` and `1` are equal."
   ]
  },
  {
   "cell_type": "code",
   "execution_count": 6,
   "metadata": {},
   "outputs": [
    {
     "name": "stdout",
     "output_type": "stream",
     "text": [
      "False\n",
      "True\n",
      "False\n",
      "True\n"
     ]
    }
   ],
   "source": [
    "# Comparison of booleans\n",
    "print(True == False)\n",
    "\n",
    "# Comparison of integers\n",
    "print(-5 * 15 != 75)\n",
    "\n",
    "# Comparison of strings\n",
    "print(\"pyscript\" == \"PyScript\")\n",
    "\n",
    "# Compare a boolean with an integer\n",
    "print(True == 1)"
   ]
  },
  {
   "cell_type": "markdown",
   "metadata": {},
   "source": [
    "### 2. Greater and less than (2 points)\n",
    "\n",
    "In the video, Filip also talked about the less than and greater than signs, `<` and `>` in Python. You can combine them with an equals sign: `<=` and `>=`. Pay attention: `<=` is valid syntax, but `=<` is not.\n",
    "\n",
    "All Python expressions in the following code chunk evaluate to `True`:\n",
    "\n",
    "```python\n",
    "3 < 4\n",
    "3 <= 4\n",
    "\"alpha\" <= \"beta\"\n",
    "```\n",
    "Remember that for string comparison, Python determines the relationship based on alphabetical order.\n",
    "\n",
    "#### Instructions\n",
    "\n",
    "Write Python expressions, wrapped in a `print()` function, to check whether:\n",
    "- variable `x` is greater than or equal to `-10`. Variable `x` has already been defined for you.\n",
    "- string `\"test\"` is less than or equal to `y`. Variable `y` has already been defined for you.\n",
    "- `True` is greater than `False`."
   ]
  },
  {
   "cell_type": "code",
   "execution_count": 7,
   "metadata": {},
   "outputs": [
    {
     "name": "stdout",
     "output_type": "stream",
     "text": [
      "False\n",
      "True\n",
      "True\n"
     ]
    }
   ],
   "source": [
    "# Comparison of integers\n",
    "x = -3 * 6\n",
    "print(x >= -10)\n",
    "\n",
    "# Comparison of strings\n",
    "y = \"test\"\n",
    "print(\"test\" <= y)\n",
    "\n",
    "# Comparison of booleans\n",
    "print(True > False)"
   ]
  },
  {
   "cell_type": "markdown",
   "metadata": {},
   "source": [
    "### 3. Arithmetic operators (2 points)\n",
    "\n",
    "#### Instructions\n",
    "- print out the cube of 5\n",
    "- print out the reminder of 365 divided by 7\n",
    "- print out the result of 365 **floor divided by** 7"
   ]
  },
  {
   "cell_type": "code",
   "execution_count": 8,
   "metadata": {},
   "outputs": [
    {
     "name": "stdout",
     "output_type": "stream",
     "text": [
      "125\n",
      "1\n",
      "52\n"
     ]
    }
   ],
   "source": [
    "# print out the cube of 5\n",
    "print(5**3)\n",
    "\n",
    "# print out the reminder of 365 divided by 7\n",
    "print(365%7)\n",
    "\n",
    "# print out the result of 365 floor divided by 7\n",
    "print(365//7)"
   ]
  },
  {
   "cell_type": "markdown",
   "metadata": {},
   "source": [
    "## EXERCISE 2.3\n",
    "### 1. and, or (2 points)\n",
    "\n",
    "A boolean is either `1` or `0`, `True` or `False`. With boolean operators such as `and`, `or` and `not`, you can combine these booleans to perform more advanced queries on your data.\n",
    "\n",
    "In the sample code on the right, two variables are defined: `my_kitchen` and `your_kitchen`, representing areas.\n",
    "\n",
    "#### Instructions\n",
    "\n",
    "Write Python expressions, wrapped in a `print()` function, to check whether:\n",
    "- `my_kitchen` is bigger than 10 and smaller than 18.\n",
    "- `my_kitchen` is smaller than 14 or bigger than 17.\n",
    "- double the area of `my_kitchen` is smaller than triple the area of `your_kitchen`. "
   ]
  },
  {
   "cell_type": "code",
   "execution_count": 9,
   "metadata": {},
   "outputs": [
    {
     "name": "stdout",
     "output_type": "stream",
     "text": [
      "False\n",
      "True\n",
      "True\n"
     ]
    }
   ],
   "source": [
    "# Define variables\n",
    "my_kitchen = 18.0\n",
    "your_kitchen = 14.0\n",
    "\n",
    "# my_kitchen bigger than 10 and smaller than 18?\n",
    "print((my_kitchen > 10) and (my_kitchen < 18))\n",
    "\n",
    "# my_kitchen smaller than 14 or bigger than 17?\n",
    "print((my_kitchen < 14) or (my_kitchen > 17))\n",
    "\n",
    "# Double my_kitchen smaller than triple your_kitchen?\n",
    "print((2*my_kitchen) < (3*your_kitchen))"
   ]
  },
  {
   "cell_type": "markdown",
   "metadata": {},
   "source": [
    "#### 2. not (2 points)\n",
    "\n",
    "'not' is used to negate a boolean expression. \n",
    "\n",
    "#### Instructions\n",
    "- check if `Jerry` is NOT in the list `names`. List `names` has been defined for you.\n",
    "- check if `age` is NOT greater or equal than 18. Variable `age` has been defined."
   ]
  },
  {
   "cell_type": "code",
   "execution_count": 12,
   "metadata": {},
   "outputs": [
    {
     "name": "stdout",
     "output_type": "stream",
     "text": [
      "True\n",
      "True\n"
     ]
    }
   ],
   "source": [
    "names = ['Alice', 'Jack', 'John', 'Emma']\n",
    "\n",
    "# check if `Jerry` is not in the list `names`. \n",
    "print('Jerry' not in names)\n",
    "\n",
    "age = 15\n",
    "\n",
    "# check if `age` is not greater or equal than 18. \n",
    "print(not(age >= 18))"
   ]
  },
  {
   "cell_type": "markdown",
   "metadata": {},
   "source": [
    "## EXERCISE 2.4\n",
    "### 1. `if` (1 point)\n",
    "\n",
    "It's time to take a closer look around in your house.\n",
    "\n",
    "Two variables are defined in the sample code: `room`, a string that tells you which room of the house we're looking at, and `area`, the area of that room.\n",
    "\n",
    "#### Instructions\n",
    "\n",
    "- Examine the `if` statement that prints out `\"Looking around in the kitchen.\"` if `room` equals `\"kit\"`.\n",
    "- Write another `if` statement that prints out `\"big place!\"` if `area` is greater than 15."
   ]
  },
  {
   "cell_type": "code",
   "execution_count": 13,
   "metadata": {},
   "outputs": [
    {
     "name": "stdout",
     "output_type": "stream",
     "text": [
      "looking around in the kitchen.\n"
     ]
    }
   ],
   "source": [
    "# Define variables\n",
    "room = \"kit\"\n",
    "area = 14.0\n",
    "\n",
    "# if statement for room\n",
    "if room == \"kit\" :\n",
    "    print(\"looking around in the kitchen.\")\n",
    "\n",
    "# if statement for area\n",
    "if area > 15:\n",
    "    print(\"big place!\")"
   ]
  },
  {
   "cell_type": "markdown",
   "metadata": {},
   "source": [
    "### 2. Add `else` (2 points)\n",
    "\n",
    "Now the `if` construct for `room` has been extended with an `else` statement so that `\"looking around elsewhere.\"` is printed if the condition `room == \"kit\"` evaluates to `False`.\n",
    "\n",
    "Can you do a similar thing to add more functionality to the `if` construct for `area`?\n",
    "\n",
    "#### Instructions\n",
    "\n",
    "- Add an `else` statement to the second control structure so that `\"pretty small.\"` is printed out if `area > 15` evaluates to `False`."
   ]
  },
  {
   "cell_type": "code",
   "execution_count": 14,
   "metadata": {},
   "outputs": [
    {
     "name": "stdout",
     "output_type": "stream",
     "text": [
      "looking around in the kitchen.\n",
      "pretty small\n"
     ]
    }
   ],
   "source": [
    "# Define variables\n",
    "room = \"kit\"\n",
    "area = 14.0\n",
    "\n",
    "# if-else construct for room\n",
    "if room == \"kit\" :\n",
    "    print(\"looking around in the kitchen.\")\n",
    "else :\n",
    "    print(\"looking around elsewhere.\")\n",
    "\n",
    "# if-else construct for area\n",
    "if area > 15 :\n",
    "    print(\"big place!\")\n",
    "else:\n",
    "    print(\"pretty small\")"
   ]
  },
  {
   "cell_type": "markdown",
   "metadata": {},
   "source": [
    "### 3. Customize further: `elif` (2 points)\n",
    "\n",
    "It's also possible to have a look around in the bedroom. The sample code contains an `elif` part that checks if `room` equals `\"bed\"`. In that case, `\"looking around in the bedroom.\"` is printed out.\n",
    "\n",
    "It's up to you now! Make a similar addition to the second control structure to further customize the messages for different values of `area`.\n",
    "\n",
    "#### Instructions\n",
    "\n",
    "Add an `elif` to the second control structure such that `\"medium size, nice!\"` is printed out if `area` is greater than `10`."
   ]
  },
  {
   "cell_type": "code",
   "execution_count": 16,
   "metadata": {},
   "outputs": [
    {
     "name": "stdout",
     "output_type": "stream",
     "text": [
      "looking around in the bedroom.\n",
      "medium size, nice!\n"
     ]
    }
   ],
   "source": [
    "# Define variables\n",
    "room = \"bed\"\n",
    "area = 14.0\n",
    "\n",
    "# if-elif-else construct for room\n",
    "if room == \"kit\" :\n",
    "    print(\"looking around in the kitchen.\")\n",
    "elif room == \"bed\":\n",
    "    print(\"looking around in the bedroom.\")\n",
    "else :\n",
    "    print(\"looking around elsewhere.\")\n",
    "\n",
    "# if-elif-else construct for area\n",
    "if area > 15 :\n",
    "    print(\"big place!\")\n",
    "elif area > 10:\n",
    "    print(\"medium size, nice!\")\n",
    "else :\n",
    "    print(\"pretty small.\")"
   ]
  }
 ],
 "metadata": {
  "kernelspec": {
   "display_name": "Python 3 (ipykernel)",
   "language": "python",
   "name": "python3"
  },
  "language_info": {
   "codemirror_mode": {
    "name": "ipython",
    "version": 3
   },
   "file_extension": ".py",
   "mimetype": "text/x-python",
   "name": "python",
   "nbconvert_exporter": "python",
   "pygments_lexer": "ipython3",
   "version": "3.9.12"
  },
  "vscode": {
   "interpreter": {
    "hash": "3d597f4c481aa0f25dceb95d2a0067e73c0966dcbd003d741d821a7208527ecf"
   }
  }
 },
 "nbformat": 4,
 "nbformat_minor": 2
}
