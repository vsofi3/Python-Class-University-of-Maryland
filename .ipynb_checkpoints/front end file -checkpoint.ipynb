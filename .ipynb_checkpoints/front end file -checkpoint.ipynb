{
 "cells": [
  {
   "cell_type": "code",
   "execution_count": null,
   "id": "d7ce69a5",
   "metadata": {},
   "outputs": [],
   "source": [
    "import requests_html\n",
    "from bottle import Bottle, static_file, request, run, template\n",
    "\n",
    "ses = requests_html.HTMLSession()\n",
    "\n",
    "def search(search_term, language = 'en'):\n",
    "    url = f'https://{language}.wikipedia.org/w/index.php?search={search_term}&fulltext=1&ns0=1'\n",
    "    res = ses.get(url)\n",
    "    results = res.html.find('.mw-search-result')\n",
    "    out_results = []\n",
    "    for result in results:\n",
    "        title = result.find('.mw-search-result-heading', first=True).text\n",
    "        summary = result.find('.searchresult', first=True).text\n",
    "        data = result.find('.mw-search-result-data', first=True).text\n",
    "        url = result.find('.mw-search-result-heading', first=True).absolute_links.pop()\n",
    "        out_results.append({'title': title, 'summary': summary, 'data': data, 'url': url})\n",
    "    return out_results\n",
    "\n",
    "app = Bottle()\n",
    "\n",
    "@app.route('/') # or @route('/login')\n",
    "def index():\n",
    "    return open('website/index.html').read()\n",
    "\n",
    "@app.route('/search')\n",
    "def index():\n",
    "    query = request.query['query']\n",
    "    return template(open('website/search.html').read(), results=search(query))\n",
    "\n",
    "@app.route('/css/<filename>')\n",
    "def server_static(filename):\n",
    "    print('CSS Served')\n",
    "    return static_file(filename, root='website/css')\n",
    "\n",
    "@app.route('/js/<filename>')\n",
    "def server_static(filename):\n",
    "    print('JS Served')\n",
    "    return static_file(filename, root='website/js')\n",
    "\n",
    "@app.route('/images/<filename>')\n",
    "def server_static(filename):\n",
    "    print('Image Served')\n",
    "    return static_file(filename, root='website/images')\n",
    "\n",
    "print('Serving on http://localhost:8080')\n",
    "run(app, host='localhost', port=8787, reloader=True)"
   ]
  }
 ],
 "metadata": {
  "kernelspec": {
   "display_name": "Python 3 (ipykernel)",
   "language": "python",
   "name": "python3"
  },
  "language_info": {
   "codemirror_mode": {
    "name": "ipython",
    "version": 3
   },
   "file_extension": ".py",
   "mimetype": "text/x-python",
   "name": "python",
   "nbconvert_exporter": "python",
   "pygments_lexer": "ipython3",
   "version": "3.9.12"
  }
 },
 "nbformat": 4,
 "nbformat_minor": 5
}
