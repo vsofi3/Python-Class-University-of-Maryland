{
 "cells": [
  {
   "cell_type": "markdown",
   "metadata": {},
   "source": [
    "## EXERCISE 3.1\n",
    "### 1. Write a simple function  \n",
    "\n",
    "Define a function, `shout()`, which simply prints out a string with three exclamation marks `'!!!'` at the end. \n",
    "\n",
    "Note that the function body is indented 4 spaces already for you. Function bodies need to be indented by a consistent number of spaces and the choice of 4 is common.\n",
    "\n",
    "\n",
    "#### Instructions (2 points)\n",
    "\n",
    "- Complete the function header by adding the appropriate function name, `shout`.\n",
    "- In the function body, **concatenate** the string, `'congratulations'` with another string, `'!!!'`. Assign the result to `shout_word`.\n",
    "- Print the value of `shout_word`.\n",
    "- Call the `shout` function."
   ]
  },
  {
   "cell_type": "code",
   "execution_count": 2,
   "metadata": {},
   "outputs": [
    {
     "name": "stdout",
     "output_type": "stream",
     "text": [
      "congratulations!!!\n"
     ]
    }
   ],
   "source": [
    "# Define the function shout\n",
    "def shout():\n",
    "    \"\"\"Print a string with three exclamation marks\"\"\"\n",
    "    # Concatenate the strings: shout_word\n",
    "    shout_word = 'congratulations' + '!!!'\n",
    "\n",
    "    # Print shout_word\n",
    "    print(shout_word)\n",
    "\n",
    "# Call shout\n",
    "shout()"
   ]
  },
  {
   "cell_type": "markdown",
   "metadata": {},
   "source": [
    "### 2. Single-parameter functions\n",
    "\n",
    "Congratulations! You have successfully defined and called your own function! That's pretty cool.\n",
    "\n",
    "In the previous exercise, you defined and called the function `shout()`, which printed out a string concatenated with `'!!!'`. You will now update `shout()` by adding a *parameter* so that it can accept and process any string *argument* passed to it. Also note that `shout(word)`, the part of the header that specifies the function name and parameter(s), is known as the *signature* of the function. You may encounter this term in the wild!\n",
    "\n",
    "#### Instructions (2 points)\n",
    "\n",
    "- Complete the function header by adding the parameter name, `word`.\n",
    "- Assign the result of concatenating `word` with `'!!!'` to `shout_word`.\n",
    "- Print the value of `shout_word`.\n",
    "- Call the `shout()` function, passing to it the string, `'congratulations'` as the argument."
   ]
  },
  {
   "cell_type": "code",
   "execution_count": 3,
   "metadata": {},
   "outputs": [
    {
     "name": "stdout",
     "output_type": "stream",
     "text": [
      "congratulations!!!\n"
     ]
    }
   ],
   "source": [
    "# Define shout with the parameter, word\n",
    "def shout(word):\n",
    "    \"\"\"Print a string with three exclamation marks\"\"\"\n",
    "    # Concatenate the strings: shout_word\n",
    "    shout_word = word + '!!!'\n",
    "\n",
    "    # Print shout_word\n",
    "    print(shout_word)\n",
    "\n",
    "# Call shout with the string 'congratulations'\n",
    "shout('congratulations')"
   ]
  },
  {
   "cell_type": "markdown",
   "metadata": {},
   "source": [
    "### 3. Functions that return single values\n",
    "\n",
    "You're getting very good at this! Try your hand at another modification to the `shout()` function so that it now *returns* a single value instead of printing within the function. Recall that the `return` keyword lets you return values from functions. Parts of the function `shout()`, which you wrote earlier, are shown. \n",
    "\n",
    "#### Instructions (2 points)\n",
    "\n",
    "- In the function body, concatenate the string in `word` with `'!!!'` and assign to `shout_word`.\n",
    "- Return `shout_word` the appropriate `return` statement.\n",
    "- Call the `shout()` function, passing to it the string, `'congratulations'`, and assigning the call to the variable, `yell`.\n",
    "- To check if `yell` contains the value returned by `shout()`, print the value of `yell`."
   ]
  },
  {
   "cell_type": "code",
   "execution_count": 4,
   "metadata": {},
   "outputs": [
    {
     "name": "stdout",
     "output_type": "stream",
     "text": [
      "congratulations!!!\n"
     ]
    }
   ],
   "source": [
    "# Define shout with the parameter, word\n",
    "def shout(word):\n",
    "    \"\"\"Return a string with three exclamation marks\"\"\"\n",
    "    # Concatenate the strings: shout_word\n",
    "    shout_word = word + '!!!'\n",
    "\n",
    "    # Return `shout_word` the appropriate `return` statement.\n",
    "    return shout_word\n",
    "\n",
    "# Pass 'congratulations' to shout: store the return value in yell\n",
    "yell = shout('congratulations')\n",
    "\n",
    "# Print yell\n",
    "print(yell)"
   ]
  },
  {
   "cell_type": "markdown",
   "metadata": {},
   "source": [
    "## EXERCISE 3.2\n",
    "### 1. Functions with multiple parameters\n",
    "\n",
    "You are now going to use what you've learned to modify the `shout()` function further. Here, you will modify `shout()` to accept two arguments. Parts of the function `shout()`, which you wrote earlier, are shown.\n",
    "\n",
    "#### Instructions (2 points)\n",
    "\n",
    "- Modify the function header such that it accepts two parameters, `word1` and `word2`, in that order.\n",
    "- Concatenate each of `word1` and `word2` with `'!!!'` and assign to `shout1` and `shout2`, respectively.\n",
    "- Concatenate `shout1` and `shout2` together, in that order, and assign to `new_shout`.\n",
    "- Pass the strings `'congratulations'` and `'to you'`, in that order, to a call to `shout()`. Assign the return value to `yell`."
   ]
  },
  {
   "cell_type": "code",
   "execution_count": 5,
   "metadata": {},
   "outputs": [
    {
     "name": "stdout",
     "output_type": "stream",
     "text": [
      "congratulations!!!to you!!!\n"
     ]
    }
   ],
   "source": [
    "# Define shout with parameters word1 and word2\n",
    "def shout(word1, word2):\n",
    "    \"\"\"Concatenate strings with three exclamation marks\"\"\"\n",
    "    # Concatenate word1 with '!!!': shout1\n",
    "    shout1 = word1 + '!!!'\n",
    "    \n",
    "    # Concatenate word2 with '!!!': shout2\n",
    "    shout2 = word2 + '!!!'\n",
    "    \n",
    "    # Concatenate shout1 with shout2: new_shout\n",
    "    new_shout = shout1 + shout2\n",
    "\n",
    "    # Return new_shout\n",
    "    return new_shout\n",
    "\n",
    "# Pass 'congratulations' and 'to you' to shout(): yell\n",
    "yell = shout('congratulations', 'to you')\n",
    "\n",
    "# Print yell\n",
    "print(yell)"
   ]
  },
  {
   "cell_type": "markdown",
   "metadata": {},
   "source": [
    "### 2. Functions that return multiple values\n",
    "\n",
    "Here you will return multiple values from a function using tuples. Let's now update our `shout()` function to return multiple values. Instead of returning just one string, we will return two strings with the string `!!!` concatenated to each.\n",
    "\n",
    "Note that the return statement `return x, y` has the same result as `return (x, y)`: the former actually packs `x` and `y` into a tuple under the hood!\n",
    "\n",
    "#### Instructions (2 points)\n",
    "\n",
    "- Modify the function header such that the function name is now `shout_all`, and it accepts two parameters, `word1` and `word2`, in that order.\n",
    "- Concatenate the string `'!!!'` to each of `word1` and `word2` and assign to `shout1` and `shout2`, respectively.\n",
    "- Construct a tuple `shout_words`, composed of `shout1` and `shout2`.\n",
    "- Call `shout_all()` with the strings `'congratulations'` and `'to you'` and assign the result to yell1 and yell2 (remember, `shout_all()` returns 2 variables!)."
   ]
  },
  {
   "cell_type": "code",
   "execution_count": 6,
   "metadata": {},
   "outputs": [
    {
     "name": "stdout",
     "output_type": "stream",
     "text": [
      "congratulations!!!\n",
      "to you!!!\n"
     ]
    }
   ],
   "source": [
    "# Define shout_all with parameters word1 and word2\n",
    "def shout_all(word1, word2):\n",
    "    \n",
    "    # Concatenate word1 with '!!!': shout1\n",
    "    shout1 = word1 + '!!!'\n",
    "    \n",
    "    # Concatenate word2 with '!!!': shout2\n",
    "    shout2 = word2 + '!!!'\n",
    "\n",
    "    # Construct a tuple with shout1 and shout2: shout_words\n",
    "    shout_words = (shout1, shout2)\n",
    "\n",
    "    # Return shout_words\n",
    "    return shout_words\n",
    "\n",
    "# Pass 'congratulations' and 'to you' to shout_all(): unpack the return value to yell1, yell2\n",
    "yell1, yell2 = shout_all('congratulations', 'to you')\n",
    "\n",
    "# Print yell1 and yell2\n",
    "print(yell1)\n",
    "print(yell2)"
   ]
  },
  {
   "cell_type": "markdown",
   "metadata": {},
   "source": [
    "## EXERCISE 3.3\n",
    "### 1. Pop quiz on understanding scope\n",
    "\n",
    "In this exercise, you will practice what you've learned about scope in functions. The variable `num` has been predefined as `5`, alongside the following function definitions:\n",
    "\n",
    "\n",
    "#### Instructions (2 points)\n",
    "Try calling `func1()` and `func2()` in the shell, then answer the following questions:\n",
    "\n",
    "- What are the values printed out when you call `func1()` and `func2()`?\n",
    "- What is the value of `num` in the global scope after calling `func1()` and `func2()`?"
   ]
  },
  {
   "cell_type": "code",
   "execution_count": 9,
   "metadata": {
    "scrolled": true
   },
   "outputs": [
    {
     "name": "stdout",
     "output_type": "stream",
     "text": [
      "3\n",
      "10\n",
      "The value of num is: 6\n"
     ]
    }
   ],
   "source": [
    "num = 5\n",
    "\n",
    "def func1():\n",
    "    num = 3\n",
    "    print(num)\n",
    "\n",
    "def func2():\n",
    "    global num\n",
    "    double_num = num * 2\n",
    "    num = 6\n",
    "    print(double_num)\n",
    "    \n",
    "# call func1()    \n",
    "func1()\n",
    "# call func2()\n",
    "func2()\n",
    "\n",
    "print(\"The value of num is: \" + str(num))\n",
    "# answer the following questions\n",
    "# func1() prints out 3, func2() prints out 10, and the value of num in the global scope is 6 after calling func1() and func2()."
   ]
  },
  {
   "cell_type": "markdown",
   "metadata": {},
   "source": [
    "## EXERCISE 3.4\n",
    "### 1. Functions with one default argument\n",
    "\n",
    "In the previous chapter, you've learned to define functions with more than one parameter and then calling those functions by passing the required number of arguments. In this exercise you will write a function that uses a default argument and then calling the function a couple of times.\n",
    "\n",
    "#### Instructions (3 points)\n",
    "\n",
    "- Complete the function header with the function name `shout_echo`. It accepts an argument `word1` and a default argument `echo` with default value `1`, in that order.\n",
    "- Use the `*` operator to concatenate `echo` copies of `word1`. Assign the result to `echo_word`.\n",
    "- Call `shout_echo()` with just the string, `\"Hey\"`. Assign the result to `no_echo`.\n",
    "- Call `shout_echo()` with the string `\"Hey\"` and the value `5` for the default argument, `echo`. Assign the result to `with_echo`."
   ]
  },
  {
   "cell_type": "code",
   "execution_count": 17,
   "metadata": {},
   "outputs": [
    {
     "name": "stdout",
     "output_type": "stream",
     "text": [
      "Hey!!!\n",
      "HeyHeyHeyHeyHey!!!\n"
     ]
    }
   ],
   "source": [
    "# Define shout_echo\n",
    "def shout_echo(word1, echo=1):\n",
    "    \"\"\"Concatenate echo copies of word1 and three\n",
    "     exclamation marks at the end of the string.\"\"\"\n",
    "\n",
    "    # Concatenate echo copies of word1 using *: echo_word\n",
    "    echo_word = (word1*echo)\n",
    "\n",
    "    # Concatenate '!!!' to echo_word: shout_word\n",
    "    shout_word = echo_word + '!!!'\n",
    "\n",
    "    # Return shout_word\n",
    "    return shout_word\n",
    "\n",
    "# Call shout_echo() with \"Hey\": no_echo\n",
    "no_echo = shout_echo(\"Hey\")\n",
    "\n",
    "# Call shout_echo() with \"Hey\" and echo=5: with_echo\n",
    "with_echo = shout_echo(\"Hey\", echo=5)\n",
    "\n",
    "# Print no_echo and with_echo\n",
    "print(no_echo)\n",
    "print(with_echo)"
   ]
  },
  {
   "cell_type": "markdown",
   "metadata": {},
   "source": [
    "## EXERCISE 3.5\n",
    "### 1. Writing a lambda function you already know\n",
    "\n",
    "Some function definitions are simple enough that they can be converted to a lambda function. By doing this, you write less lines of code, which is pretty awesome and will come in handy, especially when you're writing and maintaining big programs. In this exercise, you will use what you know about lambda functions to convert a function that does a simple task into a lambda function. Take a look at this function definition:\n",
    "\n",
    "```python\n",
    "def echo_word(word1, echo):\n",
    "    \"\"\"Concatenate echo copies of word1.\"\"\"\n",
    "    words = word1 * echo\n",
    "    return words\n",
    "```\n",
    "\n",
    "The function `echo_word` takes 2 parameters: a string value, `word1` and an integer value, `echo`. It returns a string that is a concatenation of `echo` copies of `word1`. Your task is to convert this simple function into a lambda function.\n",
    "\n",
    "#### Instructions (2 points)\n",
    "\n",
    "- Define the lambda function `echo_word` using the variables `word1` and `echo`. Replicate what the original function definition for `echo_word()` does above.\n",
    "- Call `echo_word()` with the string argument `'hey'` and the value `5`, in that order. Assign the call to `result`."
   ]
  },
  {
   "cell_type": "code",
   "execution_count": 14,
   "metadata": {},
   "outputs": [
    {
     "name": "stdout",
     "output_type": "stream",
     "text": [
      "heyheyheyheyhey\n"
     ]
    }
   ],
   "source": [
    "# Define echo_word as a lambda function: echo_word\n",
    "echo_word = lambda word1, echo: (word1 * echo)\n",
    "\n",
    "# Call echo_word: result\n",
    "result = echo_word('hey', 5)\n",
    "\n",
    "# Print result\n",
    "print(result)"
   ]
  },
  {
   "cell_type": "markdown",
   "metadata": {},
   "source": [
    "### 2. Map() and lambda functions\n",
    "\n",
    "So far, you've used lambda functions to write short, simple functions as well as to redefine functions with simple functionality. The best use case for lambda functions, however, are for when you want these simple functionalities to be anonymously embedded within larger expressions. What that means is that the functionality is not stored in the environment, unlike a function defined with `def`. To understand this idea better, you will use a lambda function in the context of the `map()` function.\n",
    "\n",
    "#### Instructions (3 points)\n",
    "\n",
    "- In the `map()` call, pass a lambda function that concatenates the string `'!!!'` to a string `item`; also pass the list of strings, `spells`. Assign the resulting map object to `shout_spells`.\n",
    "- Convert `shout_spells` to a list and print out the list."
   ]
  },
  {
   "cell_type": "code",
   "execution_count": 16,
   "metadata": {},
   "outputs": [
    {
     "name": "stdout",
     "output_type": "stream",
     "text": [
      "['protego!!!', 'accio!!!', 'expecto patronum!!!', 'legilimens!!!']\n"
     ]
    }
   ],
   "source": [
    "# Create a list of strings: spells\n",
    "spells = [\"protego\", \"accio\", \"expecto patronum\", \"legilimens\"]\n",
    "\n",
    "# Use map() to apply a lambda function over spells: shout_spells\n",
    "shout_spells = map(lambda item: item + '!!!', spells)\n",
    "\n",
    "# Convert shout_spells to a list: shout_spells_list\n",
    "shout_spells_list = list(shout_spells)\n",
    "\n",
    "# Print the result\n",
    "print(shout_spells_list)\n",
    "\n",
    "# adds 3 exclamation points to every string in the list"
   ]
  }
 ],
 "metadata": {
  "kernelspec": {
   "display_name": "Python 3 (ipykernel)",
   "language": "python",
   "name": "python3"
  },
  "language_info": {
   "codemirror_mode": {
    "name": "ipython",
    "version": 3
   },
   "file_extension": ".py",
   "mimetype": "text/x-python",
   "name": "python",
   "nbconvert_exporter": "python",
   "pygments_lexer": "ipython3",
   "version": "3.9.12"
  },
  "vscode": {
   "interpreter": {
    "hash": "225ebaf34ab10a2d155624e96c3881b51b6c8abb9886d1096d80b3981ba9ef83"
   }
  }
 },
 "nbformat": 4,
 "nbformat_minor": 2
}
