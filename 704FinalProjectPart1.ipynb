{
 "cells": [
  {
   "cell_type": "markdown",
   "id": "9c4f4548",
   "metadata": {},
   "source": [
    "# BUDT 704 Soccer News Project"
   ]
  },
  {
   "cell_type": "markdown",
   "id": "70cdffab",
   "metadata": {},
   "source": [
    "We first must import the necessary packages to scrape the data. requests_html is used for the web scraping, rich is for text formatting and webbrowser is a python standard library to interact with the browser. "
   ]
  },
  {
   "cell_type": "code",
   "execution_count": 1,
   "id": "5dbb1abe",
   "metadata": {},
   "outputs": [],
   "source": [
    "import requests_html\n",
    "from rich import console\n",
    "import webbrowser\n",
    "\n",
    "ses = requests_html.HTMLSession()\n",
    "console = console.Console()"
   ]
  },
  {
   "cell_type": "markdown",
   "id": "2a588b86",
   "metadata": {},
   "source": [
    "# Getting the results"
   ]
  },
  {
   "cell_type": "code",
   "execution_count": 2,
   "id": "a955a2f2",
   "metadata": {},
   "outputs": [
    {
     "data": {
      "text/html": [
       "<pre style=\"white-space:pre;overflow-x:auto;line-height:normal;font-family:Menlo,'DejaVu Sans Mono',consolas,'Courier New',monospace\">Insert the search term: </pre>\n"
      ],
      "text/plain": [
       "Insert the search term: "
      ]
     },
     "metadata": {},
     "output_type": "display_data"
    },
    {
     "name": "stdout",
     "output_type": "stream",
     "text": [
      "suarez\n"
     ]
    }
   ],
   "source": [
    "search_term = console.input(\"Insert the search term: \")\n",
    "link = f'https://wikipedia.org/w/index.php?search={search_term}&fulltext=1&ns0=1'\n",
    "res = ses.get(link)\n",
    "results = res.html.find('.mw-search-result')\n",
    "urls = []"
   ]
  },
  {
   "cell_type": "markdown",
   "id": "e707ed7c",
   "metadata": {},
   "source": [
    "Now we are going to loop through the results, printing the header of the article, the article number, a summary and the article's data information (such as file size, creation, etc.)"
   ]
  },
  {
   "cell_type": "code",
   "execution_count": 3,
   "id": "ff5d6e86",
   "metadata": {},
   "outputs": [
    {
     "data": {
      "text/html": [
       "<pre style=\"white-space:pre;overflow-x:auto;line-height:normal;font-family:Menlo,'DejaVu Sans Mono',consolas,'Courier New',monospace\"><span style=\"color: #800000; text-decoration-color: #800000\">Article </span><span style=\"color: #800000; text-decoration-color: #800000; font-weight: bold\">1</span><span style=\"color: #800000; text-decoration-color: #800000\"> </span>      <span style=\"color: #800000; text-decoration-color: #800000\">Suarez</span>\n",
       "<span style=\"color: #800000; text-decoration-color: #800000\"> </span>       <span style=\"color: #000000; text-decoration-color: #000000\">Suárez is a common Spanish surname, widely spread throughout Latin America as a consequence of </span>\n",
       "<span style=\"color: #000000; text-decoration-color: #000000\">colonization. In origin it is a patronymic meaning \"son...</span>\n",
       "<span style=\"color: #000000; text-decoration-color: #000000\"> </span>       <span style=\"color: #c0c0c0; text-decoration-color: #c0c0c0; font-weight: bold\">13</span><span style=\"color: #c0c0c0; text-decoration-color: #c0c0c0\"> KB </span><span style=\"color: #c0c0c0; text-decoration-color: #c0c0c0; font-weight: bold\">(</span><span style=\"color: #c0c0c0; text-decoration-color: #c0c0c0; font-weight: bold\">1</span><span style=\"color: #c0c0c0; text-decoration-color: #c0c0c0\">,</span><span style=\"color: #c0c0c0; text-decoration-color: #c0c0c0; font-weight: bold\">565</span><span style=\"color: #c0c0c0; text-decoration-color: #c0c0c0\"> words</span><span style=\"color: #c0c0c0; text-decoration-color: #c0c0c0; font-weight: bold\">)</span><span style=\"color: #c0c0c0; text-decoration-color: #c0c0c0\"> - </span><span style=\"color: #c0c0c0; text-decoration-color: #c0c0c0; font-weight: bold\">14:36</span><span style=\"color: #c0c0c0; text-decoration-color: #c0c0c0\">, </span><span style=\"color: #c0c0c0; text-decoration-color: #c0c0c0; font-weight: bold\">1</span><span style=\"color: #c0c0c0; text-decoration-color: #c0c0c0\"> November </span><span style=\"color: #c0c0c0; text-decoration-color: #c0c0c0; font-weight: bold\">2022</span>\n",
       "\n",
       "</pre>\n"
      ],
      "text/plain": [
       "\u001b[31mArticle \u001b[0m\u001b[1;31m1\u001b[0m\u001b[31m \u001b[0m      \u001b[31mSuarez\u001b[0m\n",
       "\u001b[31m \u001b[0m       \u001b[30mSuárez is a common Spanish surname, widely spread throughout Latin America as a consequence of \u001b[0m\n",
       "\u001b[30mcolonization. In origin it is a patronymic meaning \"son\u001b[0m\u001b[30m...\u001b[0m\n",
       "\u001b[30m \u001b[0m       \u001b[1;37m13\u001b[0m\u001b[37m KB \u001b[0m\u001b[1;37m(\u001b[0m\u001b[1;37m1\u001b[0m\u001b[37m,\u001b[0m\u001b[1;37m565\u001b[0m\u001b[37m words\u001b[0m\u001b[1;37m)\u001b[0m\u001b[37m - \u001b[0m\u001b[1;37m14:36\u001b[0m\u001b[37m, \u001b[0m\u001b[1;37m1\u001b[0m\u001b[37m November \u001b[0m\u001b[1;37m2022\u001b[0m\n",
       "\n"
      ]
     },
     "metadata": {},
     "output_type": "display_data"
    },
    {
     "data": {
      "text/html": [
       "<pre style=\"white-space:pre;overflow-x:auto;line-height:normal;font-family:Menlo,'DejaVu Sans Mono',consolas,'Courier New',monospace\"><span style=\"color: #800000; text-decoration-color: #800000\">Article </span><span style=\"color: #800000; text-decoration-color: #800000; font-weight: bold\">2</span><span style=\"color: #800000; text-decoration-color: #800000\"> </span>      <span style=\"color: #800000; text-decoration-color: #800000\">Luis Suárez</span>\n",
       "<span style=\"color: #800000; text-decoration-color: #800000\"> </span>       <span style=\"color: #000000; text-decoration-color: #000000\">Luis Alberto Suárez Díaz </span><span style=\"color: #000000; text-decoration-color: #000000; font-weight: bold\">(</span><span style=\"color: #000000; text-decoration-color: #000000\">American Spanish: </span><span style=\"color: #000000; text-decoration-color: #000000; font-weight: bold\">[</span><span style=\"color: #000000; text-decoration-color: #000000\">ˈlwis ˈswaɾes</span><span style=\"color: #000000; text-decoration-color: #000000; font-weight: bold\">]</span><span style=\"color: #000000; text-decoration-color: #000000\">; born </span><span style=\"color: #000000; text-decoration-color: #000000; font-weight: bold\">24</span><span style=\"color: #000000; text-decoration-color: #000000\"> January </span><span style=\"color: #000000; text-decoration-color: #000000; font-weight: bold\">1987</span><span style=\"color: #000000; text-decoration-color: #000000; font-weight: bold\">)</span><span style=\"color: #000000; text-decoration-color: #000000\"> is a Uruguayan </span>\n",
       "<span style=\"color: #000000; text-decoration-color: #000000\">professional footballer who plays as a striker for Uruguayan...</span>\n",
       "<span style=\"color: #000000; text-decoration-color: #000000\"> </span>       <span style=\"color: #c0c0c0; text-decoration-color: #c0c0c0; font-weight: bold\">241</span><span style=\"color: #c0c0c0; text-decoration-color: #c0c0c0\"> KB </span><span style=\"color: #c0c0c0; text-decoration-color: #c0c0c0; font-weight: bold\">(</span><span style=\"color: #c0c0c0; text-decoration-color: #c0c0c0; font-weight: bold\">21</span><span style=\"color: #c0c0c0; text-decoration-color: #c0c0c0\">,</span><span style=\"color: #c0c0c0; text-decoration-color: #c0c0c0; font-weight: bold\">988</span><span style=\"color: #c0c0c0; text-decoration-color: #c0c0c0\"> words</span><span style=\"color: #c0c0c0; text-decoration-color: #c0c0c0; font-weight: bold\">)</span><span style=\"color: #c0c0c0; text-decoration-color: #c0c0c0\"> - </span><span style=\"color: #c0c0c0; text-decoration-color: #c0c0c0; font-weight: bold\">15:36</span><span style=\"color: #c0c0c0; text-decoration-color: #c0c0c0\">, </span><span style=\"color: #c0c0c0; text-decoration-color: #c0c0c0; font-weight: bold\">2</span><span style=\"color: #c0c0c0; text-decoration-color: #c0c0c0\"> December </span><span style=\"color: #c0c0c0; text-decoration-color: #c0c0c0; font-weight: bold\">2022</span>\n",
       "\n",
       "</pre>\n"
      ],
      "text/plain": [
       "\u001b[31mArticle \u001b[0m\u001b[1;31m2\u001b[0m\u001b[31m \u001b[0m      \u001b[31mLuis Suárez\u001b[0m\n",
       "\u001b[31m \u001b[0m       \u001b[30mLuis Alberto Suárez Díaz \u001b[0m\u001b[1;30m(\u001b[0m\u001b[30mAmerican Spanish: \u001b[0m\u001b[1;30m[\u001b[0m\u001b[30mˈlwis ˈswaɾes\u001b[0m\u001b[1;30m]\u001b[0m\u001b[30m; born \u001b[0m\u001b[1;30m24\u001b[0m\u001b[30m January \u001b[0m\u001b[1;30m1987\u001b[0m\u001b[1;30m)\u001b[0m\u001b[30m is a Uruguayan \u001b[0m\n",
       "\u001b[30mprofessional footballer who plays as a striker for Uruguayan\u001b[0m\u001b[30m...\u001b[0m\n",
       "\u001b[30m \u001b[0m       \u001b[1;37m241\u001b[0m\u001b[37m KB \u001b[0m\u001b[1;37m(\u001b[0m\u001b[1;37m21\u001b[0m\u001b[37m,\u001b[0m\u001b[1;37m988\u001b[0m\u001b[37m words\u001b[0m\u001b[1;37m)\u001b[0m\u001b[37m - \u001b[0m\u001b[1;37m15:36\u001b[0m\u001b[37m, \u001b[0m\u001b[1;37m2\u001b[0m\u001b[37m December \u001b[0m\u001b[1;37m2022\u001b[0m\n",
       "\n"
      ]
     },
     "metadata": {},
     "output_type": "display_data"
    },
    {
     "data": {
      "text/html": [
       "<pre style=\"white-space:pre;overflow-x:auto;line-height:normal;font-family:Menlo,'DejaVu Sans Mono',consolas,'Courier New',monospace\"><span style=\"color: #800000; text-decoration-color: #800000\">Article </span><span style=\"color: #800000; text-decoration-color: #800000; font-weight: bold\">3</span><span style=\"color: #800000; text-decoration-color: #800000\"> </span>      <span style=\"color: #800000; text-decoration-color: #800000\">Mathías Suárez</span>\n",
       "<span style=\"color: #800000; text-decoration-color: #800000\"> </span>       <span style=\"color: #000000; text-decoration-color: #000000\">Mathías Sebastián Suárez Suárez </span><span style=\"color: #000000; text-decoration-color: #000000; font-weight: bold\">(</span><span style=\"color: #000000; text-decoration-color: #000000\">born </span><span style=\"color: #000000; text-decoration-color: #000000; font-weight: bold\">24</span><span style=\"color: #000000; text-decoration-color: #000000\"> June </span><span style=\"color: #000000; text-decoration-color: #000000; font-weight: bold\">1996</span><span style=\"color: #000000; text-decoration-color: #000000; font-weight: bold\">)</span><span style=\"color: #000000; text-decoration-color: #000000\"> is a Uruguayan professional footballer who plays as a </span>\n",
       "<span style=\"color: #000000; text-decoration-color: #000000\">right-back for Ligue </span><span style=\"color: #000000; text-decoration-color: #000000; font-weight: bold\">1</span><span style=\"color: #000000; text-decoration-color: #000000\"> club Montpellier. On...</span>\n",
       "<span style=\"color: #000000; text-decoration-color: #000000\"> </span>       <span style=\"color: #c0c0c0; text-decoration-color: #c0c0c0; font-weight: bold\">6</span><span style=\"color: #c0c0c0; text-decoration-color: #c0c0c0\"> KB </span><span style=\"color: #c0c0c0; text-decoration-color: #c0c0c0; font-weight: bold\">(</span><span style=\"color: #c0c0c0; text-decoration-color: #c0c0c0; font-weight: bold\">199</span><span style=\"color: #c0c0c0; text-decoration-color: #c0c0c0\"> words</span><span style=\"color: #c0c0c0; text-decoration-color: #c0c0c0; font-weight: bold\">)</span><span style=\"color: #c0c0c0; text-decoration-color: #c0c0c0\"> - </span><span style=\"color: #c0c0c0; text-decoration-color: #c0c0c0; font-weight: bold\">09:30</span><span style=\"color: #c0c0c0; text-decoration-color: #c0c0c0\">, </span><span style=\"color: #c0c0c0; text-decoration-color: #c0c0c0; font-weight: bold\">16</span><span style=\"color: #c0c0c0; text-decoration-color: #c0c0c0\"> November </span><span style=\"color: #c0c0c0; text-decoration-color: #c0c0c0; font-weight: bold\">2022</span>\n",
       "\n",
       "</pre>\n"
      ],
      "text/plain": [
       "\u001b[31mArticle \u001b[0m\u001b[1;31m3\u001b[0m\u001b[31m \u001b[0m      \u001b[31mMathías Suárez\u001b[0m\n",
       "\u001b[31m \u001b[0m       \u001b[30mMathías Sebastián Suárez Suárez \u001b[0m\u001b[1;30m(\u001b[0m\u001b[30mborn \u001b[0m\u001b[1;30m24\u001b[0m\u001b[30m June \u001b[0m\u001b[1;30m1996\u001b[0m\u001b[1;30m)\u001b[0m\u001b[30m is a Uruguayan professional footballer who plays as a \u001b[0m\n",
       "\u001b[30mright-back for Ligue \u001b[0m\u001b[1;30m1\u001b[0m\u001b[30m club Montpellier. On\u001b[0m\u001b[30m...\u001b[0m\n",
       "\u001b[30m \u001b[0m       \u001b[1;37m6\u001b[0m\u001b[37m KB \u001b[0m\u001b[1;37m(\u001b[0m\u001b[1;37m199\u001b[0m\u001b[37m words\u001b[0m\u001b[1;37m)\u001b[0m\u001b[37m - \u001b[0m\u001b[1;37m09:30\u001b[0m\u001b[37m, \u001b[0m\u001b[1;37m16\u001b[0m\u001b[37m November \u001b[0m\u001b[1;37m2022\u001b[0m\n",
       "\n"
      ]
     },
     "metadata": {},
     "output_type": "display_data"
    },
    {
     "data": {
      "text/html": [
       "<pre style=\"white-space:pre;overflow-x:auto;line-height:normal;font-family:Menlo,'DejaVu Sans Mono',consolas,'Courier New',monospace\"><span style=\"color: #800000; text-decoration-color: #800000\">Article </span><span style=\"color: #800000; text-decoration-color: #800000; font-weight: bold\">4</span><span style=\"color: #800000; text-decoration-color: #800000\"> </span>      <span style=\"color: #800000; text-decoration-color: #800000\">Luis Suárez </span><span style=\"color: #800000; text-decoration-color: #800000; font-weight: bold\">(</span><span style=\"color: #800000; text-decoration-color: #800000\">footballer, born </span><span style=\"color: #800000; text-decoration-color: #800000; font-weight: bold\">1935</span><span style=\"color: #800000; text-decoration-color: #800000; font-weight: bold\">)</span>\n",
       "<span style=\"color: #800000; text-decoration-color: #800000\"> </span>       <span style=\"color: #000000; text-decoration-color: #000000\">Luis Suárez Miramontes </span><span style=\"color: #000000; text-decoration-color: #000000; font-weight: bold\">(</span><span style=\"color: #000000; text-decoration-color: #000000\">Spanish pronunciation: </span><span style=\"color: #000000; text-decoration-color: #000000; font-weight: bold\">[</span><span style=\"color: #000000; text-decoration-color: #000000\">ˈlwis ˈswaɾeθ miɾaˈmontes</span><span style=\"color: #000000; text-decoration-color: #000000; font-weight: bold\">]</span><span style=\"color: #000000; text-decoration-color: #000000\">; born </span><span style=\"color: #000000; text-decoration-color: #000000; font-weight: bold\">2</span><span style=\"color: #000000; text-decoration-color: #000000\"> May </span><span style=\"color: #000000; text-decoration-color: #000000; font-weight: bold\">1935</span><span style=\"color: #000000; text-decoration-color: #000000; font-weight: bold\">)</span><span style=\"color: #000000; text-decoration-color: #000000\"> is a Spanish </span>\n",
       "<span style=\"color: #000000; text-decoration-color: #000000\">former professional footballer and manager. He...</span>\n",
       "<span style=\"color: #000000; text-decoration-color: #000000\"> </span>       <span style=\"color: #c0c0c0; text-decoration-color: #c0c0c0; font-weight: bold\">19</span><span style=\"color: #c0c0c0; text-decoration-color: #c0c0c0\"> KB </span><span style=\"color: #c0c0c0; text-decoration-color: #c0c0c0; font-weight: bold\">(</span><span style=\"color: #c0c0c0; text-decoration-color: #c0c0c0; font-weight: bold\">1</span><span style=\"color: #c0c0c0; text-decoration-color: #c0c0c0\">,</span><span style=\"color: #c0c0c0; text-decoration-color: #c0c0c0; font-weight: bold\">033</span><span style=\"color: #c0c0c0; text-decoration-color: #c0c0c0\"> words</span><span style=\"color: #c0c0c0; text-decoration-color: #c0c0c0; font-weight: bold\">)</span><span style=\"color: #c0c0c0; text-decoration-color: #c0c0c0\"> - </span><span style=\"color: #c0c0c0; text-decoration-color: #c0c0c0; font-weight: bold\">06:07</span><span style=\"color: #c0c0c0; text-decoration-color: #c0c0c0\">, </span><span style=\"color: #c0c0c0; text-decoration-color: #c0c0c0; font-weight: bold\">18</span><span style=\"color: #c0c0c0; text-decoration-color: #c0c0c0\"> October </span><span style=\"color: #c0c0c0; text-decoration-color: #c0c0c0; font-weight: bold\">2022</span>\n",
       "\n",
       "</pre>\n"
      ],
      "text/plain": [
       "\u001b[31mArticle \u001b[0m\u001b[1;31m4\u001b[0m\u001b[31m \u001b[0m      \u001b[31mLuis Suárez \u001b[0m\u001b[1;31m(\u001b[0m\u001b[31mfootballer, born \u001b[0m\u001b[1;31m1935\u001b[0m\u001b[1;31m)\u001b[0m\n",
       "\u001b[31m \u001b[0m       \u001b[30mLuis Suárez Miramontes \u001b[0m\u001b[1;30m(\u001b[0m\u001b[30mSpanish pronunciation: \u001b[0m\u001b[1;30m[\u001b[0m\u001b[30mˈlwis ˈswaɾeθ miɾaˈmontes\u001b[0m\u001b[1;30m]\u001b[0m\u001b[30m; born \u001b[0m\u001b[1;30m2\u001b[0m\u001b[30m May \u001b[0m\u001b[1;30m1935\u001b[0m\u001b[1;30m)\u001b[0m\u001b[30m is a Spanish \u001b[0m\n",
       "\u001b[30mformer professional footballer and manager. He\u001b[0m\u001b[30m...\u001b[0m\n",
       "\u001b[30m \u001b[0m       \u001b[1;37m19\u001b[0m\u001b[37m KB \u001b[0m\u001b[1;37m(\u001b[0m\u001b[1;37m1\u001b[0m\u001b[37m,\u001b[0m\u001b[1;37m033\u001b[0m\u001b[37m words\u001b[0m\u001b[1;37m)\u001b[0m\u001b[37m - \u001b[0m\u001b[1;37m06:07\u001b[0m\u001b[37m, \u001b[0m\u001b[1;37m18\u001b[0m\u001b[37m October \u001b[0m\u001b[1;37m2022\u001b[0m\n",
       "\n"
      ]
     },
     "metadata": {},
     "output_type": "display_data"
    },
    {
     "data": {
      "text/html": [
       "<pre style=\"white-space:pre;overflow-x:auto;line-height:normal;font-family:Menlo,'DejaVu Sans Mono',consolas,'Courier New',monospace\"><span style=\"color: #800000; text-decoration-color: #800000\">Article </span><span style=\"color: #800000; text-decoration-color: #800000; font-weight: bold\">5</span><span style=\"color: #800000; text-decoration-color: #800000\"> </span>      <span style=\"color: #800000; text-decoration-color: #800000\">Xavier Suarez</span>\n",
       "<span style=\"color: #800000; text-decoration-color: #800000\"> </span>       <span style=\"color: #000000; text-decoration-color: #000000\">Xavier Louis Suarez </span><span style=\"color: #000000; text-decoration-color: #000000; font-weight: bold\">(</span><span style=\"color: #000000; text-decoration-color: #000000\">born May </span><span style=\"color: #000000; text-decoration-color: #000000; font-weight: bold\">21</span><span style=\"color: #000000; text-decoration-color: #000000\">, </span><span style=\"color: #000000; text-decoration-color: #000000; font-weight: bold\">1949</span><span style=\"color: #000000; text-decoration-color: #000000; font-weight: bold\">)</span><span style=\"color: #000000; text-decoration-color: #000000\"> is an American politician who was the first Cuban-born Mayor of </span>\n",
       "<span style=\"color: #000000; text-decoration-color: #000000\">Miami and was a Miami-Dade county commissioner...</span>\n",
       "<span style=\"color: #000000; text-decoration-color: #000000\"> </span>       <span style=\"color: #c0c0c0; text-decoration-color: #c0c0c0; font-weight: bold\">8</span><span style=\"color: #c0c0c0; text-decoration-color: #c0c0c0\"> KB </span><span style=\"color: #c0c0c0; text-decoration-color: #c0c0c0; font-weight: bold\">(</span><span style=\"color: #c0c0c0; text-decoration-color: #c0c0c0; font-weight: bold\">771</span><span style=\"color: #c0c0c0; text-decoration-color: #c0c0c0\"> words</span><span style=\"color: #c0c0c0; text-decoration-color: #c0c0c0; font-weight: bold\">)</span><span style=\"color: #c0c0c0; text-decoration-color: #c0c0c0\"> - </span><span style=\"color: #c0c0c0; text-decoration-color: #c0c0c0; font-weight: bold\">22:08</span><span style=\"color: #c0c0c0; text-decoration-color: #c0c0c0\">, </span><span style=\"color: #c0c0c0; text-decoration-color: #c0c0c0; font-weight: bold\">28</span><span style=\"color: #c0c0c0; text-decoration-color: #c0c0c0\"> November </span><span style=\"color: #c0c0c0; text-decoration-color: #c0c0c0; font-weight: bold\">2022</span>\n",
       "\n",
       "</pre>\n"
      ],
      "text/plain": [
       "\u001b[31mArticle \u001b[0m\u001b[1;31m5\u001b[0m\u001b[31m \u001b[0m      \u001b[31mXavier Suarez\u001b[0m\n",
       "\u001b[31m \u001b[0m       \u001b[30mXavier Louis Suarez \u001b[0m\u001b[1;30m(\u001b[0m\u001b[30mborn May \u001b[0m\u001b[1;30m21\u001b[0m\u001b[30m, \u001b[0m\u001b[1;30m1949\u001b[0m\u001b[1;30m)\u001b[0m\u001b[30m is an American politician who was the first Cuban-born Mayor of \u001b[0m\n",
       "\u001b[30mMiami and was a Miami-Dade county commissioner\u001b[0m\u001b[30m...\u001b[0m\n",
       "\u001b[30m \u001b[0m       \u001b[1;37m8\u001b[0m\u001b[37m KB \u001b[0m\u001b[1;37m(\u001b[0m\u001b[1;37m771\u001b[0m\u001b[37m words\u001b[0m\u001b[1;37m)\u001b[0m\u001b[37m - \u001b[0m\u001b[1;37m22:08\u001b[0m\u001b[37m, \u001b[0m\u001b[1;37m28\u001b[0m\u001b[37m November \u001b[0m\u001b[1;37m2022\u001b[0m\n",
       "\n"
      ]
     },
     "metadata": {},
     "output_type": "display_data"
    },
    {
     "data": {
      "text/html": [
       "<pre style=\"white-space:pre;overflow-x:auto;line-height:normal;font-family:Menlo,'DejaVu Sans Mono',consolas,'Courier New',monospace\"><span style=\"color: #800000; text-decoration-color: #800000\">Article </span><span style=\"color: #800000; text-decoration-color: #800000; font-weight: bold\">6</span><span style=\"color: #800000; text-decoration-color: #800000\"> </span>      <span style=\"color: #800000; text-decoration-color: #800000\">Luis Fernando Suárez</span>\n",
       "<span style=\"color: #800000; text-decoration-color: #800000\"> </span>       <span style=\"color: #000000; text-decoration-color: #000000\">Luis Fernando Suárez Guzmán </span><span style=\"color: #000000; text-decoration-color: #000000; font-weight: bold\">(</span><span style=\"color: #000000; text-decoration-color: #000000\">born </span><span style=\"color: #000000; text-decoration-color: #000000; font-weight: bold\">23</span><span style=\"color: #000000; text-decoration-color: #000000\"> December </span><span style=\"color: #000000; text-decoration-color: #000000; font-weight: bold\">1959</span><span style=\"color: #000000; text-decoration-color: #000000; font-weight: bold\">)</span><span style=\"color: #000000; text-decoration-color: #000000\"> is a Colombian football manager and former player who </span>\n",
       "<span style=\"color: #000000; text-decoration-color: #000000\">played as a defender. He is the current manager...</span>\n",
       "<span style=\"color: #000000; text-decoration-color: #000000\"> </span>       <span style=\"color: #c0c0c0; text-decoration-color: #c0c0c0; font-weight: bold\">8</span><span style=\"color: #c0c0c0; text-decoration-color: #c0c0c0\"> KB </span><span style=\"color: #c0c0c0; text-decoration-color: #c0c0c0; font-weight: bold\">(</span><span style=\"color: #c0c0c0; text-decoration-color: #c0c0c0; font-weight: bold\">314</span><span style=\"color: #c0c0c0; text-decoration-color: #c0c0c0\"> words</span><span style=\"color: #c0c0c0; text-decoration-color: #c0c0c0; font-weight: bold\">)</span><span style=\"color: #c0c0c0; text-decoration-color: #c0c0c0\"> - </span><span style=\"color: #c0c0c0; text-decoration-color: #c0c0c0; font-weight: bold\">21:00</span><span style=\"color: #c0c0c0; text-decoration-color: #c0c0c0\">, </span><span style=\"color: #c0c0c0; text-decoration-color: #c0c0c0; font-weight: bold\">1</span><span style=\"color: #c0c0c0; text-decoration-color: #c0c0c0\"> December </span><span style=\"color: #c0c0c0; text-decoration-color: #c0c0c0; font-weight: bold\">2022</span>\n",
       "\n",
       "</pre>\n"
      ],
      "text/plain": [
       "\u001b[31mArticle \u001b[0m\u001b[1;31m6\u001b[0m\u001b[31m \u001b[0m      \u001b[31mLuis Fernando Suárez\u001b[0m\n",
       "\u001b[31m \u001b[0m       \u001b[30mLuis Fernando Suárez Guzmán \u001b[0m\u001b[1;30m(\u001b[0m\u001b[30mborn \u001b[0m\u001b[1;30m23\u001b[0m\u001b[30m December \u001b[0m\u001b[1;30m1959\u001b[0m\u001b[1;30m)\u001b[0m\u001b[30m is a Colombian football manager and former player who \u001b[0m\n",
       "\u001b[30mplayed as a defender. He is the current manager\u001b[0m\u001b[30m...\u001b[0m\n",
       "\u001b[30m \u001b[0m       \u001b[1;37m8\u001b[0m\u001b[37m KB \u001b[0m\u001b[1;37m(\u001b[0m\u001b[1;37m314\u001b[0m\u001b[37m words\u001b[0m\u001b[1;37m)\u001b[0m\u001b[37m - \u001b[0m\u001b[1;37m21:00\u001b[0m\u001b[37m, \u001b[0m\u001b[1;37m1\u001b[0m\u001b[37m December \u001b[0m\u001b[1;37m2022\u001b[0m\n",
       "\n"
      ]
     },
     "metadata": {},
     "output_type": "display_data"
    },
    {
     "data": {
      "text/html": [
       "<pre style=\"white-space:pre;overflow-x:auto;line-height:normal;font-family:Menlo,'DejaVu Sans Mono',consolas,'Courier New',monospace\"><span style=\"color: #800000; text-decoration-color: #800000\">Article </span><span style=\"color: #800000; text-decoration-color: #800000; font-weight: bold\">7</span><span style=\"color: #800000; text-decoration-color: #800000\"> </span>      <span style=\"color: #800000; text-decoration-color: #800000\">Silvana Suárez</span>\n",
       "<span style=\"color: #800000; text-decoration-color: #800000\"> </span>       <span style=\"color: #000000; text-decoration-color: #000000\">Silvana Rosa Suárez Clarence </span><span style=\"color: #000000; text-decoration-color: #000000; font-weight: bold\">(</span><span style=\"color: #000000; text-decoration-color: #000000\">Spanish pronunciation: ; </span><span style=\"color: #000000; text-decoration-color: #000000; font-weight: bold\">29</span><span style=\"color: #000000; text-decoration-color: #000000\"> September </span><span style=\"color: #000000; text-decoration-color: #000000; font-weight: bold\">1958</span><span style=\"color: #000000; text-decoration-color: #000000\"> – </span><span style=\"color: #000000; text-decoration-color: #000000; font-weight: bold\">21</span><span style=\"color: #000000; text-decoration-color: #000000\"> October </span><span style=\"color: #000000; text-decoration-color: #000000; font-weight: bold\">2022</span><span style=\"color: #000000; text-decoration-color: #000000; font-weight: bold\">)</span><span style=\"color: #000000; text-decoration-color: #000000\"> was an </span>\n",
       "<span style=\"color: #000000; text-decoration-color: #000000\">Argentine model and beauty queen who...</span>\n",
       "<span style=\"color: #000000; text-decoration-color: #000000\"> </span>       <span style=\"color: #c0c0c0; text-decoration-color: #c0c0c0; font-weight: bold\">4</span><span style=\"color: #c0c0c0; text-decoration-color: #c0c0c0\"> KB </span><span style=\"color: #c0c0c0; text-decoration-color: #c0c0c0; font-weight: bold\">(</span><span style=\"color: #c0c0c0; text-decoration-color: #c0c0c0; font-weight: bold\">310</span><span style=\"color: #c0c0c0; text-decoration-color: #c0c0c0\"> words</span><span style=\"color: #c0c0c0; text-decoration-color: #c0c0c0; font-weight: bold\">)</span><span style=\"color: #c0c0c0; text-decoration-color: #c0c0c0\"> - </span><span style=\"color: #c0c0c0; text-decoration-color: #c0c0c0; font-weight: bold\">23:14</span><span style=\"color: #c0c0c0; text-decoration-color: #c0c0c0\">, </span><span style=\"color: #c0c0c0; text-decoration-color: #c0c0c0; font-weight: bold\">23</span><span style=\"color: #c0c0c0; text-decoration-color: #c0c0c0\"> October </span><span style=\"color: #c0c0c0; text-decoration-color: #c0c0c0; font-weight: bold\">2022</span>\n",
       "\n",
       "</pre>\n"
      ],
      "text/plain": [
       "\u001b[31mArticle \u001b[0m\u001b[1;31m7\u001b[0m\u001b[31m \u001b[0m      \u001b[31mSilvana Suárez\u001b[0m\n",
       "\u001b[31m \u001b[0m       \u001b[30mSilvana Rosa Suárez Clarence \u001b[0m\u001b[1;30m(\u001b[0m\u001b[30mSpanish pronunciation: \u001b[0m\u001b[30m; \u001b[0m\u001b[1;30m29\u001b[0m\u001b[30m September \u001b[0m\u001b[1;30m1958\u001b[0m\u001b[30m – \u001b[0m\u001b[1;30m21\u001b[0m\u001b[30m October \u001b[0m\u001b[1;30m2022\u001b[0m\u001b[1;30m)\u001b[0m\u001b[30m was an \u001b[0m\n",
       "\u001b[30mArgentine model and beauty queen who\u001b[0m\u001b[30m...\u001b[0m\n",
       "\u001b[30m \u001b[0m       \u001b[1;37m4\u001b[0m\u001b[37m KB \u001b[0m\u001b[1;37m(\u001b[0m\u001b[1;37m310\u001b[0m\u001b[37m words\u001b[0m\u001b[1;37m)\u001b[0m\u001b[37m - \u001b[0m\u001b[1;37m23:14\u001b[0m\u001b[37m, \u001b[0m\u001b[1;37m23\u001b[0m\u001b[37m October \u001b[0m\u001b[1;37m2022\u001b[0m\n",
       "\n"
      ]
     },
     "metadata": {},
     "output_type": "display_data"
    },
    {
     "data": {
      "text/html": [
       "<pre style=\"white-space:pre;overflow-x:auto;line-height:normal;font-family:Menlo,'DejaVu Sans Mono',consolas,'Courier New',monospace\"><span style=\"color: #800000; text-decoration-color: #800000\">Article </span><span style=\"color: #800000; text-decoration-color: #800000; font-weight: bold\">8</span><span style=\"color: #800000; text-decoration-color: #800000\"> </span>      <span style=\"color: #800000; text-decoration-color: #800000\">Claudio Suárez</span>\n",
       "<span style=\"color: #800000; text-decoration-color: #800000\"> </span>       <span style=\"color: #000000; text-decoration-color: #000000\">Claudio Suárez Sánchez </span><span style=\"color: #000000; text-decoration-color: #000000; font-weight: bold\">(</span><span style=\"color: #000000; text-decoration-color: #000000\">locally </span><span style=\"color: #000000; text-decoration-color: #000000; font-weight: bold\">[</span><span style=\"color: #000000; text-decoration-color: #000000\">ˈklawðjo ˈswaɾes ˈsantʃes</span><span style=\"color: #000000; text-decoration-color: #000000; font-weight: bold\">]</span><span style=\"color: #000000; text-decoration-color: #000000\">; born </span><span style=\"color: #000000; text-decoration-color: #000000; font-weight: bold\">17</span><span style=\"color: #000000; text-decoration-color: #000000\"> December </span><span style=\"color: #000000; text-decoration-color: #000000; font-weight: bold\">1968</span><span style=\"color: #000000; text-decoration-color: #000000; font-weight: bold\">)</span><span style=\"color: #000000; text-decoration-color: #000000\"> is a Mexican former </span>\n",
       "<span style=\"color: #000000; text-decoration-color: #000000\">professional footballer who played as a centre-back...</span>\n",
       "<span style=\"color: #000000; text-decoration-color: #000000\"> </span>       <span style=\"color: #c0c0c0; text-decoration-color: #c0c0c0; font-weight: bold\">16</span><span style=\"color: #c0c0c0; text-decoration-color: #c0c0c0\"> KB </span><span style=\"color: #c0c0c0; text-decoration-color: #c0c0c0; font-weight: bold\">(</span><span style=\"color: #c0c0c0; text-decoration-color: #c0c0c0; font-weight: bold\">759</span><span style=\"color: #c0c0c0; text-decoration-color: #c0c0c0\"> words</span><span style=\"color: #c0c0c0; text-decoration-color: #c0c0c0; font-weight: bold\">)</span><span style=\"color: #c0c0c0; text-decoration-color: #c0c0c0\"> - </span><span style=\"color: #c0c0c0; text-decoration-color: #c0c0c0; font-weight: bold\">09:10</span><span style=\"color: #c0c0c0; text-decoration-color: #c0c0c0\">, </span><span style=\"color: #c0c0c0; text-decoration-color: #c0c0c0; font-weight: bold\">24</span><span style=\"color: #c0c0c0; text-decoration-color: #c0c0c0\"> November </span><span style=\"color: #c0c0c0; text-decoration-color: #c0c0c0; font-weight: bold\">2022</span>\n",
       "\n",
       "</pre>\n"
      ],
      "text/plain": [
       "\u001b[31mArticle \u001b[0m\u001b[1;31m8\u001b[0m\u001b[31m \u001b[0m      \u001b[31mClaudio Suárez\u001b[0m\n",
       "\u001b[31m \u001b[0m       \u001b[30mClaudio Suárez Sánchez \u001b[0m\u001b[1;30m(\u001b[0m\u001b[30mlocally \u001b[0m\u001b[1;30m[\u001b[0m\u001b[30mˈklawðjo ˈswaɾes ˈsantʃes\u001b[0m\u001b[1;30m]\u001b[0m\u001b[30m; born \u001b[0m\u001b[1;30m17\u001b[0m\u001b[30m December \u001b[0m\u001b[1;30m1968\u001b[0m\u001b[1;30m)\u001b[0m\u001b[30m is a Mexican former \u001b[0m\n",
       "\u001b[30mprofessional footballer who played as a centre-back\u001b[0m\u001b[30m...\u001b[0m\n",
       "\u001b[30m \u001b[0m       \u001b[1;37m16\u001b[0m\u001b[37m KB \u001b[0m\u001b[1;37m(\u001b[0m\u001b[1;37m759\u001b[0m\u001b[37m words\u001b[0m\u001b[1;37m)\u001b[0m\u001b[37m - \u001b[0m\u001b[1;37m09:10\u001b[0m\u001b[37m, \u001b[0m\u001b[1;37m24\u001b[0m\u001b[37m November \u001b[0m\u001b[1;37m2022\u001b[0m\n",
       "\n"
      ]
     },
     "metadata": {},
     "output_type": "display_data"
    },
    {
     "data": {
      "text/html": [
       "<pre style=\"white-space:pre;overflow-x:auto;line-height:normal;font-family:Menlo,'DejaVu Sans Mono',consolas,'Courier New',monospace\"><span style=\"color: #800000; text-decoration-color: #800000\">Article </span><span style=\"color: #800000; text-decoration-color: #800000; font-weight: bold\">9</span><span style=\"color: #800000; text-decoration-color: #800000\"> </span>      <span style=\"color: #800000; text-decoration-color: #800000\">Arico Suárez</span>\n",
       "<span style=\"color: #800000; text-decoration-color: #800000\"> </span>       <span style=\"color: #000000; text-decoration-color: #000000\">Pedro Bonifacio Suárez Pérez, commonly known as Arico Suárez or Pedro Suárez </span><span style=\"color: #000000; text-decoration-color: #000000; font-weight: bold\">(</span><span style=\"color: #000000; text-decoration-color: #000000; font-weight: bold\">5</span><span style=\"color: #000000; text-decoration-color: #000000\"> June </span><span style=\"color: #000000; text-decoration-color: #000000; font-weight: bold\">1908</span><span style=\"color: #000000; text-decoration-color: #000000\">, in Gran Canaria,</span>\n",
       "<span style=\"color: #000000; text-decoration-color: #000000\">Spain – </span><span style=\"color: #000000; text-decoration-color: #000000; font-weight: bold\">18</span><span style=\"color: #000000; text-decoration-color: #000000\"> April </span><span style=\"color: #000000; text-decoration-color: #000000; font-weight: bold\">1979</span><span style=\"color: #000000; text-decoration-color: #000000\">, in Buenos Aires, Argentina</span><span style=\"color: #000000; text-decoration-color: #000000; font-weight: bold\">)</span><span style=\"color: #000000; text-decoration-color: #000000\">...</span>\n",
       "<span style=\"color: #000000; text-decoration-color: #000000\"> </span>       <span style=\"color: #c0c0c0; text-decoration-color: #c0c0c0; font-weight: bold\">5</span><span style=\"color: #c0c0c0; text-decoration-color: #c0c0c0\"> KB </span><span style=\"color: #c0c0c0; text-decoration-color: #c0c0c0; font-weight: bold\">(</span><span style=\"color: #c0c0c0; text-decoration-color: #c0c0c0; font-weight: bold\">271</span><span style=\"color: #c0c0c0; text-decoration-color: #c0c0c0\"> words</span><span style=\"color: #c0c0c0; text-decoration-color: #c0c0c0; font-weight: bold\">)</span><span style=\"color: #c0c0c0; text-decoration-color: #c0c0c0\"> - </span><span style=\"color: #c0c0c0; text-decoration-color: #c0c0c0; font-weight: bold\">06:20</span><span style=\"color: #c0c0c0; text-decoration-color: #c0c0c0\">, </span><span style=\"color: #c0c0c0; text-decoration-color: #c0c0c0; font-weight: bold\">23</span><span style=\"color: #c0c0c0; text-decoration-color: #c0c0c0\"> September </span><span style=\"color: #c0c0c0; text-decoration-color: #c0c0c0; font-weight: bold\">2022</span>\n",
       "\n",
       "</pre>\n"
      ],
      "text/plain": [
       "\u001b[31mArticle \u001b[0m\u001b[1;31m9\u001b[0m\u001b[31m \u001b[0m      \u001b[31mArico Suárez\u001b[0m\n",
       "\u001b[31m \u001b[0m       \u001b[30mPedro Bonifacio Suárez Pérez, commonly known as Arico Suárez or Pedro Suárez \u001b[0m\u001b[1;30m(\u001b[0m\u001b[1;30m5\u001b[0m\u001b[30m June \u001b[0m\u001b[1;30m1908\u001b[0m\u001b[30m, in Gran Canaria,\u001b[0m\n",
       "\u001b[30mSpain – \u001b[0m\u001b[1;30m18\u001b[0m\u001b[30m April \u001b[0m\u001b[1;30m1979\u001b[0m\u001b[30m, in Buenos Aires, Argentina\u001b[0m\u001b[1;30m)\u001b[0m\u001b[30m...\u001b[0m\n",
       "\u001b[30m \u001b[0m       \u001b[1;37m5\u001b[0m\u001b[37m KB \u001b[0m\u001b[1;37m(\u001b[0m\u001b[1;37m271\u001b[0m\u001b[37m words\u001b[0m\u001b[1;37m)\u001b[0m\u001b[37m - \u001b[0m\u001b[1;37m06:20\u001b[0m\u001b[37m, \u001b[0m\u001b[1;37m23\u001b[0m\u001b[37m September \u001b[0m\u001b[1;37m2022\u001b[0m\n",
       "\n"
      ]
     },
     "metadata": {},
     "output_type": "display_data"
    },
    {
     "data": {
      "text/html": [
       "<pre style=\"white-space:pre;overflow-x:auto;line-height:normal;font-family:Menlo,'DejaVu Sans Mono',consolas,'Courier New',monospace\"><span style=\"color: #800000; text-decoration-color: #800000\">Article </span><span style=\"color: #800000; text-decoration-color: #800000; font-weight: bold\">10</span><span style=\"color: #800000; text-decoration-color: #800000\"> </span>     <span style=\"color: #800000; text-decoration-color: #800000\">Joaquín Suárez</span>\n",
       "<span style=\"color: #800000; text-decoration-color: #800000\"> </span>       <span style=\"color: #000000; text-decoration-color: #000000\">Miguel Suárez de Rondelo </span><span style=\"color: #000000; text-decoration-color: #000000; font-weight: bold\">(</span><span style=\"color: #000000; text-decoration-color: #000000\">August </span><span style=\"color: #000000; text-decoration-color: #000000; font-weight: bold\">18</span><span style=\"color: #000000; text-decoration-color: #000000\">, </span><span style=\"color: #000000; text-decoration-color: #000000; font-weight: bold\">1781</span><span style=\"color: #000000; text-decoration-color: #000000\"> in Canelones – December </span><span style=\"color: #000000; text-decoration-color: #000000; font-weight: bold\">26</span><span style=\"color: #000000; text-decoration-color: #000000\">, </span><span style=\"color: #000000; text-decoration-color: #000000; font-weight: bold\">1868</span><span style=\"color: #000000; text-decoration-color: #000000\"> in Montevideo</span><span style=\"color: #000000; text-decoration-color: #000000; font-weight: bold\">)</span><span style=\"color: #000000; text-decoration-color: #000000\"> was a Uruguayan </span>\n",
       "<span style=\"color: #000000; text-decoration-color: #000000\">political figure. In December </span><span style=\"color: #000000; text-decoration-color: #000000; font-weight: bold\">1828</span><span style=\"color: #000000; text-decoration-color: #000000\">, Suárez served...</span>\n",
       "<span style=\"color: #000000; text-decoration-color: #000000\"> </span>       <span style=\"color: #c0c0c0; text-decoration-color: #c0c0c0; font-weight: bold\">3</span><span style=\"color: #c0c0c0; text-decoration-color: #c0c0c0\"> KB </span><span style=\"color: #c0c0c0; text-decoration-color: #c0c0c0; font-weight: bold\">(</span><span style=\"color: #c0c0c0; text-decoration-color: #c0c0c0; font-weight: bold\">215</span><span style=\"color: #c0c0c0; text-decoration-color: #c0c0c0\"> words</span><span style=\"color: #c0c0c0; text-decoration-color: #c0c0c0; font-weight: bold\">)</span><span style=\"color: #c0c0c0; text-decoration-color: #c0c0c0\"> - </span><span style=\"color: #c0c0c0; text-decoration-color: #c0c0c0; font-weight: bold\">21:36</span><span style=\"color: #c0c0c0; text-decoration-color: #c0c0c0\">, </span><span style=\"color: #c0c0c0; text-decoration-color: #c0c0c0; font-weight: bold\">4</span><span style=\"color: #c0c0c0; text-decoration-color: #c0c0c0\"> November </span><span style=\"color: #c0c0c0; text-decoration-color: #c0c0c0; font-weight: bold\">2022</span>\n",
       "\n",
       "</pre>\n"
      ],
      "text/plain": [
       "\u001b[31mArticle \u001b[0m\u001b[1;31m10\u001b[0m\u001b[31m \u001b[0m     \u001b[31mJoaquín Suárez\u001b[0m\n",
       "\u001b[31m \u001b[0m       \u001b[30mMiguel Suárez de Rondelo \u001b[0m\u001b[1;30m(\u001b[0m\u001b[30mAugust \u001b[0m\u001b[1;30m18\u001b[0m\u001b[30m, \u001b[0m\u001b[1;30m1781\u001b[0m\u001b[30m in Canelones – December \u001b[0m\u001b[1;30m26\u001b[0m\u001b[30m, \u001b[0m\u001b[1;30m1868\u001b[0m\u001b[30m in Montevideo\u001b[0m\u001b[1;30m)\u001b[0m\u001b[30m was a Uruguayan \u001b[0m\n",
       "\u001b[30mpolitical figure. In December \u001b[0m\u001b[1;30m1828\u001b[0m\u001b[30m, Suárez served\u001b[0m\u001b[30m...\u001b[0m\n",
       "\u001b[30m \u001b[0m       \u001b[1;37m3\u001b[0m\u001b[37m KB \u001b[0m\u001b[1;37m(\u001b[0m\u001b[1;37m215\u001b[0m\u001b[37m words\u001b[0m\u001b[1;37m)\u001b[0m\u001b[37m - \u001b[0m\u001b[1;37m21:36\u001b[0m\u001b[37m, \u001b[0m\u001b[1;37m4\u001b[0m\u001b[37m November \u001b[0m\u001b[1;37m2022\u001b[0m\n",
       "\n"
      ]
     },
     "metadata": {},
     "output_type": "display_data"
    },
    {
     "data": {
      "text/html": [
       "<pre style=\"white-space:pre;overflow-x:auto;line-height:normal;font-family:Menlo,'DejaVu Sans Mono',consolas,'Courier New',monospace\"><span style=\"color: #800000; text-decoration-color: #800000\">Article </span><span style=\"color: #800000; text-decoration-color: #800000; font-weight: bold\">11</span><span style=\"color: #800000; text-decoration-color: #800000\"> </span>     <span style=\"color: #800000; text-decoration-color: #800000\">Francis X. Suarez</span>\n",
       "<span style=\"color: #800000; text-decoration-color: #800000\"> </span>       <span style=\"color: #000000; text-decoration-color: #000000\">Francis Xavier Suarez </span><span style=\"color: #000000; text-decoration-color: #000000; font-weight: bold\">(</span><span style=\"color: #000000; text-decoration-color: #000000\">/swɑːˈrɛz/; born October </span><span style=\"color: #000000; text-decoration-color: #000000; font-weight: bold\">6</span><span style=\"color: #000000; text-decoration-color: #000000\">, </span><span style=\"color: #000000; text-decoration-color: #000000; font-weight: bold\">1977</span><span style=\"color: #000000; text-decoration-color: #000000; font-weight: bold\">)</span><span style=\"color: #000000; text-decoration-color: #000000\"> is an American lawyer and politician serving as </span>\n",
       "<span style=\"color: #000000; text-decoration-color: #000000\">the 43rd mayor of Miami. He was elected on November...</span>\n",
       "<span style=\"color: #000000; text-decoration-color: #000000\"> </span>       <span style=\"color: #c0c0c0; text-decoration-color: #c0c0c0; font-weight: bold\">17</span><span style=\"color: #c0c0c0; text-decoration-color: #c0c0c0\"> KB </span><span style=\"color: #c0c0c0; text-decoration-color: #c0c0c0; font-weight: bold\">(</span><span style=\"color: #c0c0c0; text-decoration-color: #c0c0c0; font-weight: bold\">1</span><span style=\"color: #c0c0c0; text-decoration-color: #c0c0c0\">,</span><span style=\"color: #c0c0c0; text-decoration-color: #c0c0c0; font-weight: bold\">591</span><span style=\"color: #c0c0c0; text-decoration-color: #c0c0c0\"> words</span><span style=\"color: #c0c0c0; text-decoration-color: #c0c0c0; font-weight: bold\">)</span><span style=\"color: #c0c0c0; text-decoration-color: #c0c0c0\"> - </span><span style=\"color: #c0c0c0; text-decoration-color: #c0c0c0; font-weight: bold\">22:15</span><span style=\"color: #c0c0c0; text-decoration-color: #c0c0c0\">, </span><span style=\"color: #c0c0c0; text-decoration-color: #c0c0c0; font-weight: bold\">30</span><span style=\"color: #c0c0c0; text-decoration-color: #c0c0c0\"> November </span><span style=\"color: #c0c0c0; text-decoration-color: #c0c0c0; font-weight: bold\">2022</span>\n",
       "\n",
       "</pre>\n"
      ],
      "text/plain": [
       "\u001b[31mArticle \u001b[0m\u001b[1;31m11\u001b[0m\u001b[31m \u001b[0m     \u001b[31mFrancis X. Suarez\u001b[0m\n",
       "\u001b[31m \u001b[0m       \u001b[30mFrancis Xavier Suarez \u001b[0m\u001b[1;30m(\u001b[0m\u001b[30m/swɑːˈrɛz/\u001b[0m\u001b[30m; born October \u001b[0m\u001b[1;30m6\u001b[0m\u001b[30m, \u001b[0m\u001b[1;30m1977\u001b[0m\u001b[1;30m)\u001b[0m\u001b[30m is an American lawyer and politician serving as \u001b[0m\n",
       "\u001b[30mthe 43rd mayor of Miami. He was elected on November\u001b[0m\u001b[30m...\u001b[0m\n",
       "\u001b[30m \u001b[0m       \u001b[1;37m17\u001b[0m\u001b[37m KB \u001b[0m\u001b[1;37m(\u001b[0m\u001b[1;37m1\u001b[0m\u001b[37m,\u001b[0m\u001b[1;37m591\u001b[0m\u001b[37m words\u001b[0m\u001b[1;37m)\u001b[0m\u001b[37m - \u001b[0m\u001b[1;37m22:15\u001b[0m\u001b[37m, \u001b[0m\u001b[1;37m30\u001b[0m\u001b[37m November \u001b[0m\u001b[1;37m2022\u001b[0m\n",
       "\n"
      ]
     },
     "metadata": {},
     "output_type": "display_data"
    },
    {
     "data": {
      "text/html": [
       "<pre style=\"white-space:pre;overflow-x:auto;line-height:normal;font-family:Menlo,'DejaVu Sans Mono',consolas,'Courier New',monospace\"><span style=\"color: #800000; text-decoration-color: #800000\">Article </span><span style=\"color: #800000; text-decoration-color: #800000; font-weight: bold\">12</span><span style=\"color: #800000; text-decoration-color: #800000\"> </span>     <span style=\"color: #800000; text-decoration-color: #800000\">Adolfo Suárez</span>\n",
       "<span style=\"color: #800000; text-decoration-color: #800000\"> </span>       <span style=\"color: #000000; text-decoration-color: #000000\">Adolfo Suárez González, 1st Duke of Suárez </span><span style=\"color: #000000; text-decoration-color: #000000; font-weight: bold\">(</span><span style=\"color: #000000; text-decoration-color: #000000\">Spanish pronunciation: ; </span><span style=\"color: #000000; text-decoration-color: #000000; font-weight: bold\">25</span><span style=\"color: #000000; text-decoration-color: #000000\"> September </span><span style=\"color: #000000; text-decoration-color: #000000; font-weight: bold\">1932</span><span style=\"color: #000000; text-decoration-color: #000000\"> – </span><span style=\"color: #000000; text-decoration-color: #000000; font-weight: bold\">23</span><span style=\"color: #000000; text-decoration-color: #000000\"> March </span><span style=\"color: #000000; text-decoration-color: #000000; font-weight: bold\">2014</span><span style=\"color: #000000; text-decoration-color: #000000; font-weight: bold\">)</span><span style=\"color: #000000; text-decoration-color: #000000\"> was</span>\n",
       "<span style=\"color: #000000; text-decoration-color: #000000\">a Spanish lawyer and politician...</span>\n",
       "<span style=\"color: #000000; text-decoration-color: #000000\"> </span>       <span style=\"color: #c0c0c0; text-decoration-color: #c0c0c0; font-weight: bold\">34</span><span style=\"color: #c0c0c0; text-decoration-color: #c0c0c0\"> KB </span><span style=\"color: #c0c0c0; text-decoration-color: #c0c0c0; font-weight: bold\">(</span><span style=\"color: #c0c0c0; text-decoration-color: #c0c0c0; font-weight: bold\">2</span><span style=\"color: #c0c0c0; text-decoration-color: #c0c0c0\">,</span><span style=\"color: #c0c0c0; text-decoration-color: #c0c0c0; font-weight: bold\">600</span><span style=\"color: #c0c0c0; text-decoration-color: #c0c0c0\"> words</span><span style=\"color: #c0c0c0; text-decoration-color: #c0c0c0; font-weight: bold\">)</span><span style=\"color: #c0c0c0; text-decoration-color: #c0c0c0\"> - </span><span style=\"color: #c0c0c0; text-decoration-color: #c0c0c0; font-weight: bold\">09:05</span><span style=\"color: #c0c0c0; text-decoration-color: #c0c0c0\">, </span><span style=\"color: #c0c0c0; text-decoration-color: #c0c0c0; font-weight: bold\">24</span><span style=\"color: #c0c0c0; text-decoration-color: #c0c0c0\"> November </span><span style=\"color: #c0c0c0; text-decoration-color: #c0c0c0; font-weight: bold\">2022</span>\n",
       "\n",
       "</pre>\n"
      ],
      "text/plain": [
       "\u001b[31mArticle \u001b[0m\u001b[1;31m12\u001b[0m\u001b[31m \u001b[0m     \u001b[31mAdolfo Suárez\u001b[0m\n",
       "\u001b[31m \u001b[0m       \u001b[30mAdolfo Suárez González, 1st Duke of Suárez \u001b[0m\u001b[1;30m(\u001b[0m\u001b[30mSpanish pronunciation: \u001b[0m\u001b[30m; \u001b[0m\u001b[1;30m25\u001b[0m\u001b[30m September \u001b[0m\u001b[1;30m1932\u001b[0m\u001b[30m – \u001b[0m\u001b[1;30m23\u001b[0m\u001b[30m March \u001b[0m\u001b[1;30m2014\u001b[0m\u001b[1;30m)\u001b[0m\u001b[30m was\u001b[0m\n",
       "\u001b[30ma Spanish lawyer and politician\u001b[0m\u001b[30m...\u001b[0m\n",
       "\u001b[30m \u001b[0m       \u001b[1;37m34\u001b[0m\u001b[37m KB \u001b[0m\u001b[1;37m(\u001b[0m\u001b[1;37m2\u001b[0m\u001b[37m,\u001b[0m\u001b[1;37m600\u001b[0m\u001b[37m words\u001b[0m\u001b[1;37m)\u001b[0m\u001b[37m - \u001b[0m\u001b[1;37m09:05\u001b[0m\u001b[37m, \u001b[0m\u001b[1;37m24\u001b[0m\u001b[37m November \u001b[0m\u001b[1;37m2022\u001b[0m\n",
       "\n"
      ]
     },
     "metadata": {},
     "output_type": "display_data"
    },
    {
     "data": {
      "text/html": [
       "<pre style=\"white-space:pre;overflow-x:auto;line-height:normal;font-family:Menlo,'DejaVu Sans Mono',consolas,'Courier New',monospace\"><span style=\"color: #800000; text-decoration-color: #800000\">Article </span><span style=\"color: #800000; text-decoration-color: #800000; font-weight: bold\">13</span><span style=\"color: #800000; text-decoration-color: #800000\"> </span>     <span style=\"color: #800000; text-decoration-color: #800000\">Damián Suárez</span>\n",
       "<span style=\"color: #800000; text-decoration-color: #800000\"> </span>       <span style=\"color: #000000; text-decoration-color: #000000\">Damián Nicolás Suárez Suárez </span><span style=\"color: #000000; text-decoration-color: #000000; font-weight: bold\">(</span><span style=\"color: #000000; text-decoration-color: #000000\">born </span><span style=\"color: #000000; text-decoration-color: #000000; font-weight: bold\">27</span><span style=\"color: #000000; text-decoration-color: #000000\"> April </span><span style=\"color: #000000; text-decoration-color: #000000; font-weight: bold\">1988</span><span style=\"color: #000000; text-decoration-color: #000000; font-weight: bold\">)</span><span style=\"color: #000000; text-decoration-color: #000000\"> is a Uruguayan professional footballer who plays as a </span>\n",
       "<span style=\"color: #000000; text-decoration-color: #000000\">right-back for La Liga club Getafe and the Uruguay...</span>\n",
       "<span style=\"color: #000000; text-decoration-color: #000000\"> </span>       <span style=\"color: #c0c0c0; text-decoration-color: #c0c0c0; font-weight: bold\">15</span><span style=\"color: #c0c0c0; text-decoration-color: #c0c0c0\"> KB </span><span style=\"color: #c0c0c0; text-decoration-color: #c0c0c0; font-weight: bold\">(</span><span style=\"color: #c0c0c0; text-decoration-color: #c0c0c0; font-weight: bold\">922</span><span style=\"color: #c0c0c0; text-decoration-color: #c0c0c0\"> words</span><span style=\"color: #c0c0c0; text-decoration-color: #c0c0c0; font-weight: bold\">)</span><span style=\"color: #c0c0c0; text-decoration-color: #c0c0c0\"> - </span><span style=\"color: #c0c0c0; text-decoration-color: #c0c0c0; font-weight: bold\">13:49</span><span style=\"color: #c0c0c0; text-decoration-color: #c0c0c0\">, </span><span style=\"color: #c0c0c0; text-decoration-color: #c0c0c0; font-weight: bold\">18</span><span style=\"color: #c0c0c0; text-decoration-color: #c0c0c0\"> November </span><span style=\"color: #c0c0c0; text-decoration-color: #c0c0c0; font-weight: bold\">2022</span>\n",
       "\n",
       "</pre>\n"
      ],
      "text/plain": [
       "\u001b[31mArticle \u001b[0m\u001b[1;31m13\u001b[0m\u001b[31m \u001b[0m     \u001b[31mDamián Suárez\u001b[0m\n",
       "\u001b[31m \u001b[0m       \u001b[30mDamián Nicolás Suárez Suárez \u001b[0m\u001b[1;30m(\u001b[0m\u001b[30mborn \u001b[0m\u001b[1;30m27\u001b[0m\u001b[30m April \u001b[0m\u001b[1;30m1988\u001b[0m\u001b[1;30m)\u001b[0m\u001b[30m is a Uruguayan professional footballer who plays as a \u001b[0m\n",
       "\u001b[30mright-back for La Liga club Getafe and the Uruguay\u001b[0m\u001b[30m...\u001b[0m\n",
       "\u001b[30m \u001b[0m       \u001b[1;37m15\u001b[0m\u001b[37m KB \u001b[0m\u001b[1;37m(\u001b[0m\u001b[1;37m922\u001b[0m\u001b[37m words\u001b[0m\u001b[1;37m)\u001b[0m\u001b[37m - \u001b[0m\u001b[1;37m13:49\u001b[0m\u001b[37m, \u001b[0m\u001b[1;37m18\u001b[0m\u001b[37m November \u001b[0m\u001b[1;37m2022\u001b[0m\n",
       "\n"
      ]
     },
     "metadata": {},
     "output_type": "display_data"
    },
    {
     "data": {
      "text/html": [
       "<pre style=\"white-space:pre;overflow-x:auto;line-height:normal;font-family:Menlo,'DejaVu Sans Mono',consolas,'Courier New',monospace\"><span style=\"color: #800000; text-decoration-color: #800000\">Article </span><span style=\"color: #800000; text-decoration-color: #800000; font-weight: bold\">14</span><span style=\"color: #800000; text-decoration-color: #800000\"> </span>     <span style=\"color: #800000; text-decoration-color: #800000\">Héctor Suárez Gomís</span>\n",
       "<span style=\"color: #800000; text-decoration-color: #800000\"> </span>       <span style=\"color: #000000; text-decoration-color: #000000\">Héctor Suárez Gomís </span><span style=\"color: #000000; text-decoration-color: #000000; font-weight: bold\">(</span><span style=\"color: #000000; text-decoration-color: #000000\">born December </span><span style=\"color: #000000; text-decoration-color: #000000; font-weight: bold\">6</span><span style=\"color: #000000; text-decoration-color: #000000\">, </span><span style=\"color: #000000; text-decoration-color: #000000; font-weight: bold\">1968</span><span style=\"color: #000000; text-decoration-color: #000000; font-weight: bold\">)</span><span style=\"color: #000000; text-decoration-color: #000000\"> is a Mexican actor and former singer. Formerly known as Héctor </span>\n",
       "<span style=\"color: #000000; text-decoration-color: #000000\">Suárez Jr. and Héctor Suárez hijo, he is the...</span>\n",
       "<span style=\"color: #000000; text-decoration-color: #000000\"> </span>       <span style=\"color: #c0c0c0; text-decoration-color: #c0c0c0; font-weight: bold\">4</span><span style=\"color: #c0c0c0; text-decoration-color: #c0c0c0\"> KB </span><span style=\"color: #c0c0c0; text-decoration-color: #c0c0c0; font-weight: bold\">(</span><span style=\"color: #c0c0c0; text-decoration-color: #c0c0c0; font-weight: bold\">368</span><span style=\"color: #c0c0c0; text-decoration-color: #c0c0c0\"> words</span><span style=\"color: #c0c0c0; text-decoration-color: #c0c0c0; font-weight: bold\">)</span><span style=\"color: #c0c0c0; text-decoration-color: #c0c0c0\"> - </span><span style=\"color: #c0c0c0; text-decoration-color: #c0c0c0; font-weight: bold\">22:20</span><span style=\"color: #c0c0c0; text-decoration-color: #c0c0c0\">, </span><span style=\"color: #c0c0c0; text-decoration-color: #c0c0c0; font-weight: bold\">23</span><span style=\"color: #c0c0c0; text-decoration-color: #c0c0c0\"> June </span><span style=\"color: #c0c0c0; text-decoration-color: #c0c0c0; font-weight: bold\">2022</span>\n",
       "\n",
       "</pre>\n"
      ],
      "text/plain": [
       "\u001b[31mArticle \u001b[0m\u001b[1;31m14\u001b[0m\u001b[31m \u001b[0m     \u001b[31mHéctor Suárez Gomís\u001b[0m\n",
       "\u001b[31m \u001b[0m       \u001b[30mHéctor Suárez Gomís \u001b[0m\u001b[1;30m(\u001b[0m\u001b[30mborn December \u001b[0m\u001b[1;30m6\u001b[0m\u001b[30m, \u001b[0m\u001b[1;30m1968\u001b[0m\u001b[1;30m)\u001b[0m\u001b[30m is a Mexican actor and former singer. Formerly known as Héctor \u001b[0m\n",
       "\u001b[30mSuárez Jr. and Héctor Suárez hijo, he is the\u001b[0m\u001b[30m...\u001b[0m\n",
       "\u001b[30m \u001b[0m       \u001b[1;37m4\u001b[0m\u001b[37m KB \u001b[0m\u001b[1;37m(\u001b[0m\u001b[1;37m368\u001b[0m\u001b[37m words\u001b[0m\u001b[1;37m)\u001b[0m\u001b[37m - \u001b[0m\u001b[1;37m22:20\u001b[0m\u001b[37m, \u001b[0m\u001b[1;37m23\u001b[0m\u001b[37m June \u001b[0m\u001b[1;37m2022\u001b[0m\n",
       "\n"
      ]
     },
     "metadata": {},
     "output_type": "display_data"
    },
    {
     "data": {
      "text/html": [
       "<pre style=\"white-space:pre;overflow-x:auto;line-height:normal;font-family:Menlo,'DejaVu Sans Mono',consolas,'Courier New',monospace\"><span style=\"color: #800000; text-decoration-color: #800000\">Article </span><span style=\"color: #800000; text-decoration-color: #800000; font-weight: bold\">15</span><span style=\"color: #800000; text-decoration-color: #800000\"> </span>     <span style=\"color: #800000; text-decoration-color: #800000\">Matías Suárez</span>\n",
       "<span style=\"color: #800000; text-decoration-color: #800000\"> </span>       <span style=\"color: #000000; text-decoration-color: #000000\">Matías Ezequiel Suárez </span><span style=\"color: #000000; text-decoration-color: #000000; font-weight: bold\">(</span><span style=\"color: #000000; text-decoration-color: #000000\">Spanish pronunciation: ; born </span><span style=\"color: #000000; text-decoration-color: #000000; font-weight: bold\">9</span><span style=\"color: #000000; text-decoration-color: #000000\"> May </span><span style=\"color: #000000; text-decoration-color: #000000; font-weight: bold\">1988</span><span style=\"color: #000000; text-decoration-color: #000000; font-weight: bold\">)</span><span style=\"color: #000000; text-decoration-color: #000000\"> is an Argentine professional footballer </span>\n",
       "<span style=\"color: #000000; text-decoration-color: #000000\">who plays for River Plate as...</span>\n",
       "<span style=\"color: #000000; text-decoration-color: #000000\"> </span>       <span style=\"color: #c0c0c0; text-decoration-color: #c0c0c0; font-weight: bold\">12</span><span style=\"color: #c0c0c0; text-decoration-color: #c0c0c0\"> KB </span><span style=\"color: #c0c0c0; text-decoration-color: #c0c0c0; font-weight: bold\">(</span><span style=\"color: #c0c0c0; text-decoration-color: #c0c0c0; font-weight: bold\">754</span><span style=\"color: #c0c0c0; text-decoration-color: #c0c0c0\"> words</span><span style=\"color: #c0c0c0; text-decoration-color: #c0c0c0; font-weight: bold\">)</span><span style=\"color: #c0c0c0; text-decoration-color: #c0c0c0\"> - </span><span style=\"color: #c0c0c0; text-decoration-color: #c0c0c0; font-weight: bold\">09:54</span><span style=\"color: #c0c0c0; text-decoration-color: #c0c0c0\">, </span><span style=\"color: #c0c0c0; text-decoration-color: #c0c0c0; font-weight: bold\">27</span><span style=\"color: #c0c0c0; text-decoration-color: #c0c0c0\"> July </span><span style=\"color: #c0c0c0; text-decoration-color: #c0c0c0; font-weight: bold\">2022</span>\n",
       "\n",
       "</pre>\n"
      ],
      "text/plain": [
       "\u001b[31mArticle \u001b[0m\u001b[1;31m15\u001b[0m\u001b[31m \u001b[0m     \u001b[31mMatías Suárez\u001b[0m\n",
       "\u001b[31m \u001b[0m       \u001b[30mMatías Ezequiel Suárez \u001b[0m\u001b[1;30m(\u001b[0m\u001b[30mSpanish pronunciation: \u001b[0m\u001b[30m; born \u001b[0m\u001b[1;30m9\u001b[0m\u001b[30m May \u001b[0m\u001b[1;30m1988\u001b[0m\u001b[1;30m)\u001b[0m\u001b[30m is an Argentine professional footballer \u001b[0m\n",
       "\u001b[30mwho plays for River Plate as\u001b[0m\u001b[30m...\u001b[0m\n",
       "\u001b[30m \u001b[0m       \u001b[1;37m12\u001b[0m\u001b[37m KB \u001b[0m\u001b[1;37m(\u001b[0m\u001b[1;37m754\u001b[0m\u001b[37m words\u001b[0m\u001b[1;37m)\u001b[0m\u001b[37m - \u001b[0m\u001b[1;37m09:54\u001b[0m\u001b[37m, \u001b[0m\u001b[1;37m27\u001b[0m\u001b[37m July \u001b[0m\u001b[1;37m2022\u001b[0m\n",
       "\n"
      ]
     },
     "metadata": {},
     "output_type": "display_data"
    },
    {
     "data": {
      "text/html": [
       "<pre style=\"white-space:pre;overflow-x:auto;line-height:normal;font-family:Menlo,'DejaVu Sans Mono',consolas,'Courier New',monospace\"><span style=\"color: #800000; text-decoration-color: #800000\">Article </span><span style=\"color: #800000; text-decoration-color: #800000; font-weight: bold\">16</span><span style=\"color: #800000; text-decoration-color: #800000\"> </span>     <span style=\"color: #800000; text-decoration-color: #800000\">Danay Suárez</span>\n",
       "<span style=\"color: #800000; text-decoration-color: #800000\"> </span>       <span style=\"color: #000000; text-decoration-color: #000000\">Danay Suárez </span><span style=\"color: #000000; text-decoration-color: #000000; font-weight: bold\">(</span><span style=\"color: #000000; text-decoration-color: #000000\">born Danay Suárez Fernández c. </span><span style=\"color: #000000; text-decoration-color: #000000; font-weight: bold\">1985</span><span style=\"color: #000000; text-decoration-color: #000000; font-weight: bold\">)</span><span style=\"color: #000000; text-decoration-color: #000000\"> is a Cuban R&amp;B and rap singer. She has gained attention </span>\n",
       "<span style=\"color: #000000; text-decoration-color: #000000\">in Europe, mainly in France. Danay was born...</span>\n",
       "<span style=\"color: #000000; text-decoration-color: #000000\"> </span>       <span style=\"color: #c0c0c0; text-decoration-color: #c0c0c0; font-weight: bold\">4</span><span style=\"color: #c0c0c0; text-decoration-color: #c0c0c0\"> KB </span><span style=\"color: #c0c0c0; text-decoration-color: #c0c0c0; font-weight: bold\">(</span><span style=\"color: #c0c0c0; text-decoration-color: #c0c0c0; font-weight: bold\">331</span><span style=\"color: #c0c0c0; text-decoration-color: #c0c0c0\"> words</span><span style=\"color: #c0c0c0; text-decoration-color: #c0c0c0; font-weight: bold\">)</span><span style=\"color: #c0c0c0; text-decoration-color: #c0c0c0\"> - </span><span style=\"color: #c0c0c0; text-decoration-color: #c0c0c0; font-weight: bold\">15:13</span><span style=\"color: #c0c0c0; text-decoration-color: #c0c0c0\">, </span><span style=\"color: #c0c0c0; text-decoration-color: #c0c0c0; font-weight: bold\">20</span><span style=\"color: #c0c0c0; text-decoration-color: #c0c0c0\"> January </span><span style=\"color: #c0c0c0; text-decoration-color: #c0c0c0; font-weight: bold\">2022</span>\n",
       "\n",
       "</pre>\n"
      ],
      "text/plain": [
       "\u001b[31mArticle \u001b[0m\u001b[1;31m16\u001b[0m\u001b[31m \u001b[0m     \u001b[31mDanay Suárez\u001b[0m\n",
       "\u001b[31m \u001b[0m       \u001b[30mDanay Suárez \u001b[0m\u001b[1;30m(\u001b[0m\u001b[30mborn Danay Suárez Fernández c. \u001b[0m\u001b[1;30m1985\u001b[0m\u001b[1;30m)\u001b[0m\u001b[30m is a Cuban R&B and rap singer. She has gained attention \u001b[0m\n",
       "\u001b[30min Europe, mainly in France. Danay was born\u001b[0m\u001b[30m...\u001b[0m\n",
       "\u001b[30m \u001b[0m       \u001b[1;37m4\u001b[0m\u001b[37m KB \u001b[0m\u001b[1;37m(\u001b[0m\u001b[1;37m331\u001b[0m\u001b[37m words\u001b[0m\u001b[1;37m)\u001b[0m\u001b[37m - \u001b[0m\u001b[1;37m15:13\u001b[0m\u001b[37m, \u001b[0m\u001b[1;37m20\u001b[0m\u001b[37m January \u001b[0m\u001b[1;37m2022\u001b[0m\n",
       "\n"
      ]
     },
     "metadata": {},
     "output_type": "display_data"
    },
    {
     "data": {
      "text/html": [
       "<pre style=\"white-space:pre;overflow-x:auto;line-height:normal;font-family:Menlo,'DejaVu Sans Mono',consolas,'Courier New',monospace\"><span style=\"color: #800000; text-decoration-color: #800000\">Article </span><span style=\"color: #800000; text-decoration-color: #800000; font-weight: bold\">17</span><span style=\"color: #800000; text-decoration-color: #800000\"> </span>     <span style=\"color: #800000; text-decoration-color: #800000\">Paolo SuÃ¡rez</span>\n",
       "<span style=\"color: #800000; text-decoration-color: #800000\"> </span>       <span style=\"color: #000000; text-decoration-color: #000000\">Rodolfo Paolo SuÃ¡rez DÃ­az </span><span style=\"color: #000000; text-decoration-color: #000000; font-weight: bold\">(</span><span style=\"color: #000000; text-decoration-color: #000000\">born </span><span style=\"color: #000000; text-decoration-color: #000000; font-weight: bold\">6</span><span style=\"color: #000000; text-decoration-color: #000000\"> Jun </span><span style=\"color: #000000; text-decoration-color: #000000; font-weight: bold\">1980</span><span style=\"color: #000000; text-decoration-color: #000000\"> in Montevideo</span><span style=\"color: #000000; text-decoration-color: #000000; font-weight: bold\">)</span><span style=\"color: #000000; text-decoration-color: #000000\"> is a Uruguayan-Salvadoran professional football</span>\n",
       "<span style=\"color: #000000; text-decoration-color: #000000\">player who plays as a midfielder. He is the eldest...</span>\n",
       "<span style=\"color: #000000; text-decoration-color: #000000\"> </span>       <span style=\"color: #c0c0c0; text-decoration-color: #c0c0c0; font-weight: bold\">9</span><span style=\"color: #c0c0c0; text-decoration-color: #c0c0c0\"> KB </span><span style=\"color: #c0c0c0; text-decoration-color: #c0c0c0; font-weight: bold\">(</span><span style=\"color: #c0c0c0; text-decoration-color: #c0c0c0; font-weight: bold\">455</span><span style=\"color: #c0c0c0; text-decoration-color: #c0c0c0\"> words</span><span style=\"color: #c0c0c0; text-decoration-color: #c0c0c0; font-weight: bold\">)</span><span style=\"color: #c0c0c0; text-decoration-color: #c0c0c0\"> - </span><span style=\"color: #c0c0c0; text-decoration-color: #c0c0c0; font-weight: bold\">13:05</span><span style=\"color: #c0c0c0; text-decoration-color: #c0c0c0\">, </span><span style=\"color: #c0c0c0; text-decoration-color: #c0c0c0; font-weight: bold\">18</span><span style=\"color: #c0c0c0; text-decoration-color: #c0c0c0\"> October </span><span style=\"color: #c0c0c0; text-decoration-color: #c0c0c0; font-weight: bold\">2022</span>\n",
       "\n",
       "</pre>\n"
      ],
      "text/plain": [
       "\u001b[31mArticle \u001b[0m\u001b[1;31m17\u001b[0m\u001b[31m \u001b[0m     \u001b[31mPaolo SuÃ¡rez\u001b[0m\n",
       "\u001b[31m \u001b[0m       \u001b[30mRodolfo Paolo SuÃ¡rez DÃ­az \u001b[0m\u001b[1;30m(\u001b[0m\u001b[30mborn \u001b[0m\u001b[1;30m6\u001b[0m\u001b[30m Jun \u001b[0m\u001b[1;30m1980\u001b[0m\u001b[30m in Montevideo\u001b[0m\u001b[1;30m)\u001b[0m\u001b[30m is a Uruguayan-Salvadoran professional football\u001b[0m\n",
       "\u001b[30mplayer who plays as a midfielder. He is the eldest\u001b[0m\u001b[30m...\u001b[0m\n",
       "\u001b[30m \u001b[0m       \u001b[1;37m9\u001b[0m\u001b[37m KB \u001b[0m\u001b[1;37m(\u001b[0m\u001b[1;37m455\u001b[0m\u001b[37m words\u001b[0m\u001b[1;37m)\u001b[0m\u001b[37m - \u001b[0m\u001b[1;37m13:05\u001b[0m\u001b[37m, \u001b[0m\u001b[1;37m18\u001b[0m\u001b[37m October \u001b[0m\u001b[1;37m2022\u001b[0m\n",
       "\n"
      ]
     },
     "metadata": {},
     "output_type": "display_data"
    },
    {
     "data": {
      "text/html": [
       "<pre style=\"white-space:pre;overflow-x:auto;line-height:normal;font-family:Menlo,'DejaVu Sans Mono',consolas,'Courier New',monospace\"><span style=\"color: #800000; text-decoration-color: #800000\">Article </span><span style=\"color: #800000; text-decoration-color: #800000; font-weight: bold\">18</span><span style=\"color: #800000; text-decoration-color: #800000\"> </span>     <span style=\"color: #800000; text-decoration-color: #800000\">Manuel Suárez y Suárez</span>\n",
       "<span style=\"color: #800000; text-decoration-color: #800000\"> </span>       <span style=\"color: #000000; text-decoration-color: #000000\">Manuel Suárez y Suárez </span><span style=\"color: #000000; text-decoration-color: #000000; font-weight: bold\">(</span><span style=\"color: #000000; text-decoration-color: #000000; font-weight: bold\">23</span><span style=\"color: #000000; text-decoration-color: #000000\"> March </span><span style=\"color: #000000; text-decoration-color: #000000; font-weight: bold\">1896</span><span style=\"color: #000000; text-decoration-color: #000000\"> – </span><span style=\"color: #000000; text-decoration-color: #000000; font-weight: bold\">23</span><span style=\"color: #000000; text-decoration-color: #000000\"> July </span><span style=\"color: #000000; text-decoration-color: #000000; font-weight: bold\">1987</span><span style=\"color: #000000; text-decoration-color: #000000; font-weight: bold\">)</span><span style=\"color: #000000; text-decoration-color: #000000\"> was a Spanish immigrant to Mexico who became a </span>\n",
       "<span style=\"color: #000000; text-decoration-color: #000000\">successful entrepreneur and patron of the arts. He...</span>\n",
       "<span style=\"color: #000000; text-decoration-color: #000000\"> </span>       <span style=\"color: #c0c0c0; text-decoration-color: #c0c0c0; font-weight: bold\">17</span><span style=\"color: #c0c0c0; text-decoration-color: #c0c0c0\"> KB </span><span style=\"color: #c0c0c0; text-decoration-color: #c0c0c0; font-weight: bold\">(</span><span style=\"color: #c0c0c0; text-decoration-color: #c0c0c0; font-weight: bold\">2</span><span style=\"color: #c0c0c0; text-decoration-color: #c0c0c0\">,</span><span style=\"color: #c0c0c0; text-decoration-color: #c0c0c0; font-weight: bold\">034</span><span style=\"color: #c0c0c0; text-decoration-color: #c0c0c0\"> words</span><span style=\"color: #c0c0c0; text-decoration-color: #c0c0c0; font-weight: bold\">)</span><span style=\"color: #c0c0c0; text-decoration-color: #c0c0c0\"> - </span><span style=\"color: #c0c0c0; text-decoration-color: #c0c0c0; font-weight: bold\">12:11</span><span style=\"color: #c0c0c0; text-decoration-color: #c0c0c0\">, </span><span style=\"color: #c0c0c0; text-decoration-color: #c0c0c0; font-weight: bold\">20</span><span style=\"color: #c0c0c0; text-decoration-color: #c0c0c0\"> May </span><span style=\"color: #c0c0c0; text-decoration-color: #c0c0c0; font-weight: bold\">2022</span>\n",
       "\n",
       "</pre>\n"
      ],
      "text/plain": [
       "\u001b[31mArticle \u001b[0m\u001b[1;31m18\u001b[0m\u001b[31m \u001b[0m     \u001b[31mManuel Suárez y Suárez\u001b[0m\n",
       "\u001b[31m \u001b[0m       \u001b[30mManuel Suárez y Suárez \u001b[0m\u001b[1;30m(\u001b[0m\u001b[1;30m23\u001b[0m\u001b[30m March \u001b[0m\u001b[1;30m1896\u001b[0m\u001b[30m – \u001b[0m\u001b[1;30m23\u001b[0m\u001b[30m July \u001b[0m\u001b[1;30m1987\u001b[0m\u001b[1;30m)\u001b[0m\u001b[30m was a Spanish immigrant to Mexico who became a \u001b[0m\n",
       "\u001b[30msuccessful entrepreneur and patron of the arts. He\u001b[0m\u001b[30m...\u001b[0m\n",
       "\u001b[30m \u001b[0m       \u001b[1;37m17\u001b[0m\u001b[37m KB \u001b[0m\u001b[1;37m(\u001b[0m\u001b[1;37m2\u001b[0m\u001b[37m,\u001b[0m\u001b[1;37m034\u001b[0m\u001b[37m words\u001b[0m\u001b[1;37m)\u001b[0m\u001b[37m - \u001b[0m\u001b[1;37m12:11\u001b[0m\u001b[37m, \u001b[0m\u001b[1;37m20\u001b[0m\u001b[37m May \u001b[0m\u001b[1;37m2022\u001b[0m\n",
       "\n"
      ]
     },
     "metadata": {},
     "output_type": "display_data"
    },
    {
     "data": {
      "text/html": [
       "<pre style=\"white-space:pre;overflow-x:auto;line-height:normal;font-family:Menlo,'DejaVu Sans Mono',consolas,'Courier New',monospace\"><span style=\"color: #800000; text-decoration-color: #800000\">Article </span><span style=\"color: #800000; text-decoration-color: #800000; font-weight: bold\">19</span><span style=\"color: #800000; text-decoration-color: #800000\"> </span>     <span style=\"color: #800000; text-decoration-color: #800000\">JosÃ© SuÃ¡rez</span>\n",
       "<span style=\"color: #800000; text-decoration-color: #800000\"> </span>       <span style=\"color: #000000; text-decoration-color: #000000\">SuÃ¡rez may refer to: JosÃ© SuÃ¡rez </span><span style=\"color: #000000; text-decoration-color: #000000; font-weight: bold\">(</span><span style=\"color: #000000; text-decoration-color: #000000\">actor</span><span style=\"color: #000000; text-decoration-color: #000000; font-weight: bold\">)</span><span style=\"color: #000000; text-decoration-color: #000000\"> </span><span style=\"color: #000000; text-decoration-color: #000000; font-weight: bold\">(</span><span style=\"color: #000000; text-decoration-color: #000000\">1919â</span><span style=\"color: #000000; text-decoration-color: #000000; font-weight: bold\">1981</span><span style=\"color: #000000; text-decoration-color: #000000; font-weight: bold\">)</span><span style=\"color: #000000; text-decoration-color: #000000\">, Spanish film actor JosÃ© SuÃ¡rez </span><span style=\"color: #000000; text-decoration-color: #000000; font-weight: bold\">(</span><span style=\"color: #000000; text-decoration-color: #000000\">baseball, born</span>\n",
       "<span style=\"color: #000000; text-decoration-color: #000000; font-weight: bold\">1891</span><span style=\"color: #000000; text-decoration-color: #000000; font-weight: bold\">)</span><span style=\"color: #000000; text-decoration-color: #000000\">, Negro league baseball player JosÃ© SuÃ¡rez </span><span style=\"color: #000000; text-decoration-color: #000000; font-weight: bold\">(</span><span style=\"color: #000000; text-decoration-color: #000000\">baseball...</span>\n",
       "<span style=\"color: #000000; text-decoration-color: #000000\"> </span>       <span style=\"color: #c0c0c0; text-decoration-color: #c0c0c0; font-weight: bold\">338</span><span style=\"color: #c0c0c0; text-decoration-color: #c0c0c0\"> bytes </span><span style=\"color: #c0c0c0; text-decoration-color: #c0c0c0; font-weight: bold\">(</span><span style=\"color: #c0c0c0; text-decoration-color: #c0c0c0; font-weight: bold\">70</span><span style=\"color: #c0c0c0; text-decoration-color: #c0c0c0\"> words</span><span style=\"color: #c0c0c0; text-decoration-color: #c0c0c0; font-weight: bold\">)</span><span style=\"color: #c0c0c0; text-decoration-color: #c0c0c0\"> - </span><span style=\"color: #c0c0c0; text-decoration-color: #c0c0c0; font-weight: bold\">10:12</span><span style=\"color: #c0c0c0; text-decoration-color: #c0c0c0\">, </span><span style=\"color: #c0c0c0; text-decoration-color: #c0c0c0; font-weight: bold\">7</span><span style=\"color: #c0c0c0; text-decoration-color: #c0c0c0\"> June </span><span style=\"color: #c0c0c0; text-decoration-color: #c0c0c0; font-weight: bold\">2019</span>\n",
       "\n",
       "</pre>\n"
      ],
      "text/plain": [
       "\u001b[31mArticle \u001b[0m\u001b[1;31m19\u001b[0m\u001b[31m \u001b[0m     \u001b[31mJosÃ© SuÃ¡rez\u001b[0m\n",
       "\u001b[31m \u001b[0m       \u001b[30mSuÃ¡rez may refer to: JosÃ© SuÃ¡rez \u001b[0m\u001b[1;30m(\u001b[0m\u001b[30mactor\u001b[0m\u001b[1;30m)\u001b[0m\u001b[30m \u001b[0m\u001b[1;30m(\u001b[0m\u001b[30m1919â\u001b[0m\u001b[1;30m1981\u001b[0m\u001b[1;30m)\u001b[0m\u001b[30m, Spanish film actor JosÃ© SuÃ¡rez \u001b[0m\u001b[1;30m(\u001b[0m\u001b[30mbaseball, born\u001b[0m\n",
       "\u001b[1;30m1891\u001b[0m\u001b[1;30m)\u001b[0m\u001b[30m, Negro league baseball player JosÃ© SuÃ¡rez \u001b[0m\u001b[1;30m(\u001b[0m\u001b[30mbaseball\u001b[0m\u001b[30m...\u001b[0m\n",
       "\u001b[30m \u001b[0m       \u001b[1;37m338\u001b[0m\u001b[37m bytes \u001b[0m\u001b[1;37m(\u001b[0m\u001b[1;37m70\u001b[0m\u001b[37m words\u001b[0m\u001b[1;37m)\u001b[0m\u001b[37m - \u001b[0m\u001b[1;37m10:12\u001b[0m\u001b[37m, \u001b[0m\u001b[1;37m7\u001b[0m\u001b[37m June \u001b[0m\u001b[1;37m2019\u001b[0m\n",
       "\n"
      ]
     },
     "metadata": {},
     "output_type": "display_data"
    },
    {
     "data": {
      "text/html": [
       "<pre style=\"white-space:pre;overflow-x:auto;line-height:normal;font-family:Menlo,'DejaVu Sans Mono',consolas,'Courier New',monospace\"><span style=\"color: #800000; text-decoration-color: #800000\">Article </span><span style=\"color: #800000; text-decoration-color: #800000; font-weight: bold\">20</span><span style=\"color: #800000; text-decoration-color: #800000\"> </span>     <span style=\"color: #800000; text-decoration-color: #800000\">Uruguay national football team</span>\n",
       "<span style=\"color: #800000; text-decoration-color: #800000\"> </span>       <span style=\"color: #000000; text-decoration-color: #000000\">sides had their chances at extra time but SuÃ¡rez blocked the ball with his hand in the penalty area, </span>\n",
       "<span style=\"color: #000000; text-decoration-color: #000000\">earning SuÃ¡rez a red card and earning Uruguay universal...</span>\n",
       "<span style=\"color: #000000; text-decoration-color: #000000\"> </span>       <span style=\"color: #c0c0c0; text-decoration-color: #c0c0c0; font-weight: bold\">113</span><span style=\"color: #c0c0c0; text-decoration-color: #c0c0c0\"> KB </span><span style=\"color: #c0c0c0; text-decoration-color: #c0c0c0; font-weight: bold\">(</span><span style=\"color: #c0c0c0; text-decoration-color: #c0c0c0; font-weight: bold\">3</span><span style=\"color: #c0c0c0; text-decoration-color: #c0c0c0\">,</span><span style=\"color: #c0c0c0; text-decoration-color: #c0c0c0; font-weight: bold\">642</span><span style=\"color: #c0c0c0; text-decoration-color: #c0c0c0\"> words</span><span style=\"color: #c0c0c0; text-decoration-color: #c0c0c0; font-weight: bold\">)</span><span style=\"color: #c0c0c0; text-decoration-color: #c0c0c0\"> - </span><span style=\"color: #c0c0c0; text-decoration-color: #c0c0c0; font-weight: bold\">17:54</span><span style=\"color: #c0c0c0; text-decoration-color: #c0c0c0\">, </span><span style=\"color: #c0c0c0; text-decoration-color: #c0c0c0; font-weight: bold\">2</span><span style=\"color: #c0c0c0; text-decoration-color: #c0c0c0\"> December </span><span style=\"color: #c0c0c0; text-decoration-color: #c0c0c0; font-weight: bold\">2022</span>\n",
       "\n",
       "</pre>\n"
      ],
      "text/plain": [
       "\u001b[31mArticle \u001b[0m\u001b[1;31m20\u001b[0m\u001b[31m \u001b[0m     \u001b[31mUruguay national football team\u001b[0m\n",
       "\u001b[31m \u001b[0m       \u001b[30msides had their chances at extra time but SuÃ¡rez blocked the ball with his hand in the penalty area, \u001b[0m\n",
       "\u001b[30mearning SuÃ¡rez a red card and earning Uruguay universal\u001b[0m\u001b[30m...\u001b[0m\n",
       "\u001b[30m \u001b[0m       \u001b[1;37m113\u001b[0m\u001b[37m KB \u001b[0m\u001b[1;37m(\u001b[0m\u001b[1;37m3\u001b[0m\u001b[37m,\u001b[0m\u001b[1;37m642\u001b[0m\u001b[37m words\u001b[0m\u001b[1;37m)\u001b[0m\u001b[37m - \u001b[0m\u001b[1;37m17:54\u001b[0m\u001b[37m, \u001b[0m\u001b[1;37m2\u001b[0m\u001b[37m December \u001b[0m\u001b[1;37m2022\u001b[0m\n",
       "\n"
      ]
     },
     "metadata": {},
     "output_type": "display_data"
    }
   ],
   "source": [
    "for number,resT in enumerate(results):\n",
    "    articleTitle = resT.find('.mw-search-result-heading', first=True).text\n",
    "    articleSummary = resT.find('.searchresult', first=True).text\n",
    "    articleData = resT.find('.mw-search-result-data', first=True).text\n",
    "    urls.append(resT.find('.mw-search-result-heading', first=True).absolute_links.pop())\n",
    "    console.print(f'[red]Article {number+1}\\t{articleTitle}\\n\\t[black]{articleSummary}\\n\\t[white]{articleData}\\n')"
   ]
  },
  {
   "cell_type": "markdown",
   "id": "095f1298",
   "metadata": {},
   "source": [
    "We prompt the user to input an integer, specifying the index of the article they want to access (starting with 1, and so on)"
   ]
  },
  {
   "cell_type": "code",
   "execution_count": 4,
   "id": "c2e5cf90",
   "metadata": {},
   "outputs": [
    {
     "data": {
      "text/html": [
       "<pre style=\"white-space:pre;overflow-x:auto;line-height:normal;font-family:Menlo,'DejaVu Sans Mono',consolas,'Courier New',monospace\">Enter the number of the article you want to explore: </pre>\n"
      ],
      "text/plain": [
       "Enter the number of the article you want to explore: "
      ]
     },
     "metadata": {},
     "output_type": "display_data"
    },
    {
     "name": "stdout",
     "output_type": "stream",
     "text": [
      "3\n"
     ]
    },
    {
     "data": {
      "text/plain": [
       "True"
      ]
     },
     "execution_count": 4,
     "metadata": {},
     "output_type": "execute_result"
    }
   ],
   "source": [
    "selected_item = int(console.input(\"Enter the number of the article you want to explore: \"))\n",
    "webbrowser.open(urls[selected_item])"
   ]
  }
 ],
 "metadata": {
  "kernelspec": {
   "display_name": "Python 3 (ipykernel)",
   "language": "python",
   "name": "python3"
  },
  "language_info": {
   "codemirror_mode": {
    "name": "ipython",
    "version": 3
   },
   "file_extension": ".py",
   "mimetype": "text/x-python",
   "name": "python",
   "nbconvert_exporter": "python",
   "pygments_lexer": "ipython3",
   "version": "3.9.12"
  }
 },
 "nbformat": 4,
 "nbformat_minor": 5
}
