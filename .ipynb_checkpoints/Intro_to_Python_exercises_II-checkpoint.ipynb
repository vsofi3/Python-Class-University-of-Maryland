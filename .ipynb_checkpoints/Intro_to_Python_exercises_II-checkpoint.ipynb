{
 "cells": [
  {
   "cell_type": "markdown",
   "metadata": {
    "pycharm": {
     "name": "#%% md\n"
    }
   },
   "source": [
    "## EXERCISE 1.5 \n",
    "### 1. Replace list elements (2 points)\n",
    "\n",
    "#### Instructions\n",
    "\n",
    "- Update the area of the bathroom area to be 10.50 square meters instead of 9.50.\n",
    "- Make the `areas` list more trendy! Change `\"living room\"` to `\"chill zone\"`."
   ]
  },
  {
   "cell_type": "code",
   "execution_count": 1,
   "metadata": {
    "pycharm": {
     "name": "#%%\n"
    }
   },
   "outputs": [
    {
     "name": "stdout",
     "output_type": "stream",
     "text": [
      "['hallway', 11.25, 'kitchen', 18.0, 'chill zone', 20.0, 'bedroom', 10.75, 'bathroom', 10.5]\n"
     ]
    }
   ],
   "source": [
    "# Create the areas list\n",
    "areas = [\"hallway\", 11.25, \"kitchen\", 18.0, \"living room\", 20.0, \"bedroom\", 10.75, \"bathroom\", 9.50]\n",
    "\n",
    "# Correct the bathroom area\n",
    "areas[9] = 10.50\n",
    "\n",
    "# Change \"living room\" to \"chill zone\"\n",
    "areas[4] = \"chill zone\"\n",
    "\n",
    "# Print the changed areas\n",
    "print(areas)"
   ]
  },
  {
   "cell_type": "markdown",
   "metadata": {
    "pycharm": {
     "name": "#%% md\n"
    }
   },
   "source": [
    "### 2. Extend a list (2 points)\n",
    "\n",
    "#### Instructions\n",
    "\n",
    "- Use the `+` operator to paste the list `[\"poolhouse\", 24.5]` to the end of the `areas` list. Store the resulting list as `areas_1`.\n",
    "- Further extend `areas_1` by adding data on your garage. Add the string `\"garage\"` and float `15.45`. Name the resulting list `areas_2`."
   ]
  },
  {
   "cell_type": "code",
   "execution_count": 2,
   "metadata": {
    "pycharm": {
     "name": "#%%\n"
    }
   },
   "outputs": [
    {
     "name": "stdout",
     "output_type": "stream",
     "text": [
      "['hallway', 11.25, 'kitchen', 18.0, 'chill zone', 20.0, 'bedroom', 10.75, 'bathroom', 10.5, 'poolhouse', 24.5]\n",
      "['hallway', 11.25, 'kitchen', 18.0, 'chill zone', 20.0, 'bedroom', 10.75, 'bathroom', 10.5, 'poolhouse', 24.5, 'garage', 15.45]\n"
     ]
    }
   ],
   "source": [
    "# Create the areas list and make some changes\n",
    "areas = [\"hallway\", 11.25, \"kitchen\", 18.0, \"chill zone\", 20.0,\n",
    "         \"bedroom\", 10.75, \"bathroom\", 10.50]\n",
    "\n",
    "# Add poolhouse data (including its name and area) to areas, new list is areas_1\n",
    "areas_1 = areas + [\"poolhouse\", 24.5]\n",
    "print(areas_1)\n",
    "\n",
    "# Add garage data (including its name and area) to areas_1, new list is areas_2\n",
    "areas_2 = areas_1 + [\"garage\", 15.45]\n",
    "print(areas_2)"
   ]
  },
  {
   "cell_type": "markdown",
   "metadata": {
    "pycharm": {
     "name": "#%% md\n"
    }
   },
   "source": [
    "### 3. Inner workings of lists (1 point)\n",
    "The Python code in the script already creates a list with the name `areas` and a copy named `areas_copy`. Next, the first element in the `areas_copy` list is changed and the `areas` list is printed out. If you hit **Run Code** you'll see that, although you've changed `areas_copy`, the change also takes effect in the `areas` list. That's because `areas` and `areas_copy` point to the same list.\n",
    "\n",
    "If you want to prevent changes in `areas_copy` from also taking effect in `areas`, you'll have to do a more explicit copy of the `areas` list. You can do this with [`list()`](https://docs.python.org/3/library/functions.html#func-list) or by using `[:]`.\n",
    "\n",
    "\n",
    "#### Instructions\n",
    "Change the second command, that creates the variable `areas_copy`, such that `areas_copy` is an explicit copy of `areas`. Use Python function `list()` to do this. After your edit, changes made to `areas_copy` shouldn't affect `areas`. Run code to check this."
   ]
  },
  {
   "cell_type": "code",
   "execution_count": 4,
   "metadata": {
    "pycharm": {
     "name": "#%%\n"
    }
   },
   "outputs": [
    {
     "name": "stdout",
     "output_type": "stream",
     "text": [
      "[11.25, 18.0, 20.0, 10.75, 9.5]\n"
     ]
    }
   ],
   "source": [
    "# Create list areas\n",
    "areas = [11.25, 18.0, 20.0, 10.75, 9.50]\n",
    "\n",
    "# Create areas_copy\n",
    "areas_copy = list(areas)\n",
    "\n",
    "# Change areas_copy\n",
    "areas_copy[0] = 5.0\n",
    "\n",
    "# Print areas\n",
    "print(areas)"
   ]
  },
  {
   "cell_type": "markdown",
   "metadata": {
    "pycharm": {
     "name": "#%% md\n"
    }
   },
   "source": [
    "## EXERCISE 1.6\n",
    "### 1. Built-in functions (3 points)\n",
    "\n",
    "#### Instructions\n",
    "\n",
    "- Use `print()` in combination with `type()` to print out the type of `var1`.\n",
    "- Use `len()` to get the length of the list `var1`. Wrap it in a `print()` call to directly print it out.\n",
    "- Use `int()` to convert `var2` to an integer. Store the output as `out2`."
   ]
  },
  {
   "cell_type": "code",
   "execution_count": 5,
   "metadata": {
    "pycharm": {
     "name": "#%%\n"
    }
   },
   "outputs": [
    {
     "name": "stdout",
     "output_type": "stream",
     "text": [
      "<class 'list'>\n",
      "4\n",
      "1\n"
     ]
    }
   ],
   "source": [
    "# Create variables var1 and var2\n",
    "var1 = [1, 2, 3, 4]\n",
    "var2 = True\n",
    "\n",
    "# Print out the type of var1\n",
    "print(type(var1))\n",
    "\n",
    "# Print out the length of var1\n",
    "print(len(var1))\n",
    "\n",
    "# Convert var2 to an integer: store the result in out2\n",
    "out2 = int(var2)\n",
    "print(out2)"
   ]
  },
  {
   "cell_type": "markdown",
   "metadata": {
    "pycharm": {
     "name": "#%% md\n"
    }
   },
   "source": [
    "### 2. Multiple arguments (2 points)\n",
    "One way to sort the elements in a list is to use the Python built-in function [`sorted()`](https://docs.python.org/3/library/functions.html#sorted). Have a look at the documentation of sorted() by typing `help(sorted)` in the IPython Shell.\n",
    "\n",
    "You'll see that sorted() takes three arguments: `iterable`, `key`, and `reverse`.\n",
    "\n",
    "key=None means that if you don't specify the key argument, it will be None. reverse=False means that if you don't specify the reverse argument, it will be False, by default.\n",
    "\n",
    "In this exercise, you'll only have to specify `iterable` and `reverse`, not `key`. The first input you pass to [`sorted()`](https://docs.python.org/3/library/functions.html#sorted) will be matched to the `iterable` argument, but what about the second input? To tell Python you want to specify `reverse` without changing anything about `key`, you can use `=` to assign it a new value:\n",
    "\n",
    "```python\n",
    "sorted(____, reverse=____)\n",
    "\n",
    "```\n",
    "#### Instructions\n",
    "\n",
    "- Use `+` to merge the contents of `first` and `second` into a new list: `full`.\n",
    "- Call `sorted()` on `full` and specify the `reverse` argument to be `True`. Save the sorted list as `full_sorted`.\n",
    "- Finish off by printing out `full_sorted`."
   ]
  },
  {
   "cell_type": "code",
   "execution_count": 6,
   "metadata": {
    "pycharm": {
     "name": "#%%\n"
    }
   },
   "outputs": [
    {
     "name": "stdout",
     "output_type": "stream",
     "text": [
      "[20.0, 18.0, 11.25, 10.75, 9.5]\n"
     ]
    }
   ],
   "source": [
    "# Create lists first and second\n",
    "first = [11.25, 18.0, 20.0]\n",
    "second = [10.75, 9.50]\n",
    "\n",
    "# Paste together first and second: save the result in full\n",
    "full = first + second\n",
    "\n",
    "# Sort full in descending order: save the result in full_sorted\n",
    "full_sorted = sorted(full, reverse=True)\n",
    "\n",
    "# Print out full_sorted\n",
    "print(full_sorted)"
   ]
  },
  {
   "cell_type": "markdown",
   "metadata": {
    "pycharm": {
     "name": "#%% md\n"
    }
   },
   "source": [
    "## EXERCISE 1.7\n",
    "### 1. String Methods (3 points)\n",
    "\n",
    "\n",
    "#### Instructions\n",
    "\n",
    "- Use the `upper()` method on `place` and store the result in `place_up`. Use the syntax for calling methods that you learned in the class.\n",
    "- Print out `place` and `place_up`. Did both change?\n",
    "- Print out the number of o's on the variable `place` by calling `count()` on `place` and passing the letter `'o'` as an input to the method. We're talking about the variable `place`, not the word `\"place\"`!"
   ]
  },
  {
   "cell_type": "code",
   "execution_count": 9,
   "metadata": {
    "pycharm": {
     "name": "#%%\n"
    }
   },
   "outputs": [
    {
     "name": "stdout",
     "output_type": "stream",
     "text": [
      "poolhouse\n",
      "POOLHOUSE\n",
      "3\n"
     ]
    }
   ],
   "source": [
    "# string to experiment with: place\n",
    "place = \"poolhouse\"\n",
    "\n",
    "# Use upper() on place: save the result in place_up\n",
    "place_up = place.upper()\n",
    "\n",
    "# Print out place and place_up\n",
    "print(place)\n",
    "print(place_up)\n",
    "\n",
    "# Print out the number of o's in place\n",
    "print(place.count('o'))"
   ]
  },
  {
   "cell_type": "markdown",
   "metadata": {
    "pycharm": {
     "name": "#%% md\n"
    }
   },
   "source": [
    "### 2. List Methods (1) (2 points)\n",
    "\n",
    "Strings are not the only Python types that have methods associated with them. Lists, floats, integers and booleans are also types that come packaged with a bunch of useful methods. In this exercise, you'll be experimenting with:\n",
    "\n",
    "- `index()`, to get the index of the first element of a list that matches its input and\n",
    "- `count()`, to get the number of times an element appears in a list.\n",
    "\n",
    "You'll be working on the list with the area of different parts of a house: `areas`.\n",
    "\n",
    "#### Instructions\n",
    "\n",
    "- Use the `index()` method to get the index of the element in `areas` that is equal to `20.0`. Print out this index.\n",
    "- Call `count()` on `areas` to find out how many times `9.50` appears in the list. Again, simply print out this number."
   ]
  },
  {
   "cell_type": "code",
   "execution_count": 10,
   "metadata": {
    "pycharm": {
     "name": "#%%\n"
    }
   },
   "outputs": [
    {
     "name": "stdout",
     "output_type": "stream",
     "text": [
      "2\n",
      "1\n"
     ]
    }
   ],
   "source": [
    "# Create list areas\n",
    "areas = [11.25, 18.0, 20.0, 10.75, 9.50]\n",
    "\n",
    "# Print out the index of the element 20.0\n",
    "print(areas.index(20.0))\n",
    "\n",
    "# Print out how often 9.50 appears in areas\n",
    "print(areas.count(9.50))"
   ]
  },
  {
   "cell_type": "markdown",
   "metadata": {
    "pycharm": {
     "name": "#%% md\n"
    }
   },
   "source": [
    "### 3. List Methods (2) (2 points)\n",
    "\n",
    "Most list methods will change the list they're called on. Examples are:\n",
    "\n",
    "- `append()`, that adds an element to the list it is called on,\n",
    "- `reverse()`, that reverses the order of the elements in the list it is called on.\n",
    "\n",
    "You'll be working on the list with the area of different parts of the house: `areas`.\n",
    "\n",
    "#### Instructions\n",
    "\n",
    "- Use `append()` twice to add the size of the poolhouse and the garage again: `24.5` and `15.45`, respectively. Make sure to add them in this order.\n",
    "- Print out `areas`\n",
    "- Use the `reverse()` method to reverse the order of the elements in `areas`.\n",
    "- Print out `areas` once more."
   ]
  },
  {
   "cell_type": "code",
   "execution_count": 11,
   "metadata": {
    "pycharm": {
     "name": "#%%\n"
    }
   },
   "outputs": [
    {
     "name": "stdout",
     "output_type": "stream",
     "text": [
      "[11.25, 18.0, 20.0, 10.75, 9.5, 24.5, 15.45]\n",
      "[24.5, 20.0, 18.0, 15.45, 11.25, 10.75, 9.5]\n"
     ]
    }
   ],
   "source": [
    "# Create list areas\n",
    "areas = [11.25, 18.0, 20.0, 10.75, 9.50]\n",
    "\n",
    "# Use append twice to add poolhouse and garage size\n",
    "areas.append(24.5)\n",
    "areas.append(15.45)\n",
    "\n",
    "# Print out areas\n",
    "print(areas)\n",
    "\n",
    "# Reverse the orders of the elements in areas\n",
    "# reversing in descending order\n",
    "areas = sorted(areas, reverse=True)\n",
    "\n",
    "# Print out areas\n",
    "print(areas)"
   ]
  },
  {
   "cell_type": "markdown",
   "metadata": {
    "pycharm": {
     "name": "#%% md\n"
    }
   },
   "source": [
    "## EXERCISE 1.8\n",
    "### 1. Import package (3 points)\n",
    "\n",
    "As a data scientist, some notions of geometry never hurt. Let's refresh some of the basics.\n",
    "\n",
    "For a fancy clustering algorithm, you want to find the circumference, **C**, and area, **A**, of a circle. When the radius of the circle is `r`, you can calculate **C** and **A** as:\n",
    "\n",
    "$ C=2πr $\n",
    "\n",
    "$ A=πr^{2} $\n",
    "\n",
    "To use the constant `pi`, you'll need the `math` package. A variable `r` is already coded in the script. Fill in the code to calculate `C` and `A` and see how the `print()` functions create some nice printouts.\n",
    "\n",
    "#### Instructions\n",
    "\n",
    "- Import the `math` package. Now you can access the constant `pi` with `math.pi`.\n",
    "- Calculate the circumference of the circle and store it in `C`.\n",
    "- Calculate the area of the circle and store it in `A`."
   ]
  },
  {
   "cell_type": "code",
   "execution_count": 12,
   "metadata": {
    "pycharm": {
     "is_executing": true,
     "name": "#%%\n"
    }
   },
   "outputs": [
    {
     "name": "stdout",
     "output_type": "stream",
     "text": [
      "Circumference: 2.701769682087222\n",
      "Area: 0.5808804816487527\n"
     ]
    }
   ],
   "source": [
    "# Definition of radius\n",
    "r = 0.43\n",
    "\n",
    "# Import the math package\n",
    "import math\n",
    "\n",
    "# Calculate C\n",
    "C = (2 * math.pi * r)\n",
    "\n",
    "# Calculate A\n",
    "A = (math.pi * (r**2))\n",
    "\n",
    "# Build printout\n",
    "print(\"Circumference: \" + str(C))\n",
    "print(\"Area: \" + str(A))"
   ]
  }
 ],
 "metadata": {
  "kernelspec": {
   "display_name": "Python 3 (ipykernel)",
   "language": "python",
   "name": "python3"
  },
  "language_info": {
   "codemirror_mode": {
    "name": "ipython",
    "version": 3
   },
   "file_extension": ".py",
   "mimetype": "text/x-python",
   "name": "python",
   "nbconvert_exporter": "python",
   "pygments_lexer": "ipython3",
   "version": "3.9.12"
  },
  "vscode": {
   "interpreter": {
    "hash": "3d597f4c481aa0f25dceb95d2a0067e73c0966dcbd003d741d821a7208527ecf"
   }
  }
 },
 "nbformat": 4,
 "nbformat_minor": 2
}
