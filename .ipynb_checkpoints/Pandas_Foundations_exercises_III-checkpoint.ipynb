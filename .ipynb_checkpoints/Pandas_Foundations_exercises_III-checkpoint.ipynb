{
 "cells": [
  {
   "cell_type": "markdown",
   "metadata": {
    "pycharm": {
     "name": "#%% md\n"
    }
   },
   "source": [
    "## Exercise 5.6\n",
    "### 1. Customizing your pandas import\n",
    "\n",
    "The `pandas` package is also great at dealing with many of the issues you will encounter when importing data as a data scientist, such as comments occurring in flat files, empty lines and missing values. In this exercise, you're going to import a slightly corrupted copy of the Titanic dataset `titanic_corrupt.txt`, which is tab-delimited.\n",
    "\n",
    "#### Instructions\n",
    "\n",
    "- Run the cell below to see the result of importing the file without customization. Do you see the problems?"
   ]
  },
  {
   "cell_type": "code",
   "execution_count": 1,
   "metadata": {
    "pycharm": {
     "name": "#%%\n"
    }
   },
   "outputs": [
    {
     "name": "stdout",
     "output_type": "stream",
     "text": [
      "  PassengerId\\tSurvived\\tPclass\\tSex\\tAge\\tSibSp\\tParch\\tTicket\\tFare\\tCabin\\tEmbarked\n",
      "0  1\\t0\\t3\\tmale\\t22.0\\t1\\t0\\tA/5 21171\\t7.25\\tB2...                                  \n",
      "1  2\\t1\\t1\\tfemale\\t38.0\\t1\\t0\\tPC 17599\\t71.2833...                                  \n",
      "2  3\\t1\\t3\\tfemale\\t26.0\\t0\\t0\\tSTON/O2. 3101282\\...                                  \n",
      "3  4\\t1\\t1\\tfemale\\t35.0\\t1\\t0\\t113803\\t53.1\\tC12...                                  \n",
      "4    5\\t0\\t3\\tmale\\t35.0\\t0\\t0\\t373450\\t8.05\\tD55\\tS                                  \n",
      "5  6\\t0\\t3\\tmale\\t-1\\t0\\t0\\t330877\\t8.4583\\tUnkno...                                  \n",
      "6  7\\t0\\t1\\tmale\\t54.0\\t0\\t0\\t17463\\t51.8625\\tE46\\tS                                  \n",
      "7   8\\t0\\t3\\tmale\\t2.0\\t3\\t1\\t349909\\t21.075\\tA32\\tS                                  \n",
      "8  9\\t1\\t3\\tfemale\\t27.0\\t0\\t2\\t347742\\t11.1333\\t...                                  \n",
      "9  10\\t1\\t2\\tfemale\\t14.0\\t1\\t0\\t237736\\t30.0708\\...                                  \n"
     ]
    }
   ],
   "source": [
    "import pandas as pd\n",
    "# Assign filename: file\n",
    "file = 'https://github.com/huangpen77/BUDT704/raw/main/Chapter06/titanic_corrupt.txt'\n",
    "# Import file: data\n",
    "data = pd.read_csv(file)\n",
    "# Print the head of the DataFrame\n",
    "print(data.head(10))\n",
    "\n",
    "#no column headers, data representation incovenient"
   ]
  },
  {
   "cell_type": "markdown",
   "metadata": {
    "pycharm": {
     "name": "#%% md\n"
    }
   },
   "source": [
    "#### Instructions (1 point)\n",
    "\n",
    "- Complete the `sep` argument of `pd.read_csv()` so that tab is used as delimiter. Tab is represented as `'\\t'` in Python."
   ]
  },
  {
   "cell_type": "code",
   "execution_count": 2,
   "metadata": {
    "pycharm": {
     "name": "#%%\n"
    }
   },
   "outputs": [
    {
     "name": "stdout",
     "output_type": "stream",
     "text": [
      "   PassengerId  Survived  Pclass     Sex   Age  SibSp  Parch  \\\n",
      "0            1         0       3    male  22.0      1      0   \n",
      "1            2         1       1  female  38.0      1      0   \n",
      "2            3         1       3  female  26.0      0      0   \n",
      "3            4         1       1  female  35.0      1      0   \n",
      "4            5         0       3    male  35.0      0      0   \n",
      "5            6         0       3    male  -1.0      0      0   \n",
      "6            7         0       1    male  54.0      0      0   \n",
      "7            8         0       3    male   2.0      3      1   \n",
      "8            9         1       3  female  27.0      0      2   \n",
      "9           10         1       2  female  14.0      1      0   \n",
      "\n",
      "             Ticket     Fare    Cabin Embarked  \n",
      "0         A/5 21171   7.2500      B26        S  \n",
      "1          PC 17599  71.2833      C85        C  \n",
      "2  STON/O2. 3101282   7.9250      C34        S  \n",
      "3            113803  53.1000     C123        S  \n",
      "4            373450   8.0500      D55        S  \n",
      "5            330877   8.4583  Unknown        Q  \n",
      "6             17463  51.8625      E46        S  \n",
      "7            349909  21.0750      A32        S  \n",
      "8            347742  11.1333  Unknown        S  \n",
      "9            237736  30.0708      E21        C  \n"
     ]
    }
   ],
   "source": [
    "# Import file: data, specify the delimiter as tab \n",
    "data = pd.read_csv(file, sep='\\t')\n",
    "# Print the head of the DataFrame\n",
    "print(data.head(10))"
   ]
  },
  {
   "cell_type": "markdown",
   "metadata": {
    "pycharm": {
     "name": "#%% md\n"
    }
   },
   "source": [
    "#### Instructions (1 point)\n",
    "\n",
    "- Complete the `index_col` argument of `pd.read_csv()` so that `PassengerId` is used as index."
   ]
  },
  {
   "cell_type": "code",
   "execution_count": 5,
   "metadata": {
    "pycharm": {
     "name": "#%%\n"
    }
   },
   "outputs": [
    {
     "name": "stdout",
     "output_type": "stream",
     "text": [
      "             Survived  Pclass     Sex   Age  SibSp  Parch            Ticket  \\\n",
      "PassengerId                                                                   \n",
      "1                   0       3    male  22.0      1      0         A/5 21171   \n",
      "2                   1       1  female  38.0      1      0          PC 17599   \n",
      "3                   1       3  female  26.0      0      0  STON/O2. 3101282   \n",
      "4                   1       1  female  35.0      1      0            113803   \n",
      "5                   0       3    male  35.0      0      0            373450   \n",
      "6                   0       3    male  -1.0      0      0            330877   \n",
      "7                   0       1    male  54.0      0      0             17463   \n",
      "8                   0       3    male   2.0      3      1            349909   \n",
      "9                   1       3  female  27.0      0      2            347742   \n",
      "10                  1       2  female  14.0      1      0            237736   \n",
      "\n",
      "                Fare    Cabin Embarked  \n",
      "PassengerId                             \n",
      "1             7.2500      B26        S  \n",
      "2            71.2833      C85        C  \n",
      "3             7.9250      C34        S  \n",
      "4            53.1000     C123        S  \n",
      "5             8.0500      D55        S  \n",
      "6             8.4583  Unknown        Q  \n",
      "7            51.8625      E46        S  \n",
      "8            21.0750      A32        S  \n",
      "9            11.1333  Unknown        S  \n",
      "10           30.0708      E21        C  \n"
     ]
    }
   ],
   "source": [
    "# Import file: data, specify the index column as 'PassengerID'\n",
    "data = pd.read_csv(file, sep='\\t', index_col='PassengerId')\n",
    "# Print the head of the DataFrame\n",
    "print(data.head(10))"
   ]
  },
  {
   "cell_type": "markdown",
   "metadata": {
    "pycharm": {
     "name": "#%% md\n"
    }
   },
   "source": [
    "#### Instructions (2 points)\n",
    "You may have noticed that the column `Cabin` has values `'Unknown'` in some rows. In addition, column `Age` has value `-1` in some rows. They represent missing values.\n",
    "\n",
    "- Complete the `na_values` arguments of `pd.read_csv()` so that `'Unknown'` will be treated as missing value for column `Cabin`, and `-1` will be treated as missing value for column `Age`. Using a dictionary as the argument."
   ]
  },
  {
   "cell_type": "code",
   "execution_count": 15,
   "metadata": {
    "pycharm": {
     "name": "#%%\n"
    }
   },
   "outputs": [
    {
     "name": "stdout",
     "output_type": "stream",
     "text": [
      "             Survived  Pclass     Sex   Age  SibSp  Parch            Ticket  \\\n",
      "PassengerId                                                                   \n",
      "1                   0       3    male  22.0      1      0         A/5 21171   \n",
      "2                   1       1  female  38.0      1      0          PC 17599   \n",
      "3                   1       3  female  26.0      0      0  STON/O2. 3101282   \n",
      "4                   1       1  female  35.0      1      0            113803   \n",
      "5                   0       3    male  35.0      0      0            373450   \n",
      "6                   0       3    male   NaN      0      0            330877   \n",
      "7                   0       1    male  54.0      0      0             17463   \n",
      "8                   0       3    male   2.0      3      1            349909   \n",
      "9                   1       3  female  27.0      0      2            347742   \n",
      "10                  1       2  female  14.0      1      0            237736   \n",
      "\n",
      "                Fare Cabin Embarked  \n",
      "PassengerId                          \n",
      "1             7.2500   B26        S  \n",
      "2            71.2833   C85        C  \n",
      "3             7.9250   C34        S  \n",
      "4            53.1000  C123        S  \n",
      "5             8.0500   D55        S  \n",
      "6             8.4583   NaN        Q  \n",
      "7            51.8625   E46        S  \n",
      "8            21.0750   A32        S  \n",
      "9            11.1333   NaN        S  \n",
      "10           30.0708   E21        C  \n"
     ]
    }
   ],
   "source": [
    "# Import file: data, specify 'Nothing' as the null value\n",
    "data = pd.read_csv(file, sep='\\t', index_col='PassengerId', na_values={'Cabin':['Unknown'], 'Age':['-1']})\n",
    "\n",
    "# Print the head of the DataFrame\n",
    "print(data.head(10))"
   ]
  },
  {
   "cell_type": "markdown",
   "metadata": {
    "pycharm": {
     "name": "#%% md\n"
    }
   },
   "source": [
    "## Exercise 5.7\n",
    "### 1. pandas line plots\n",
    "\n",
    "The ```.plot()``` method will place the Index values on the x-axis by default. In this exercise, you'll practice making line plots with specific columns on the x and y axes.\n",
    "\n",
    "You will work with a dataset consisting of monthly stock prices in 2015 for AAPL, GOOG, and IBM. The stock prices were obtained from [Yahoo Finance](#http://finance.yahoo.com/```). Your job is to plot the 'Month' column on the x-axis and the AAPL and IBM prices on the y-axis using a list of column names.\n",
    "\n",
    "All necessary modules have been imported for you, and the DataFrame is available in the workspace as df. Explore it using methods such as ```.head()```, ```.info()```, and ```.describe()``` to see the column names.\n",
    "#### Instructions \n",
    "\n",
    "* Run the following cell to see the dataset"
   ]
  },
  {
   "cell_type": "code",
   "execution_count": 16,
   "metadata": {
    "pycharm": {
     "name": "#%%\n"
    }
   },
   "outputs": [
    {
     "name": "stdout",
     "output_type": "stream",
     "text": [
      "           AAPL        GOOG         IBM\n",
      "Jan  117.160004  534.522445  153.309998\n",
      "Feb  128.460007  558.402511  161.940002\n",
      "Mar  124.430000  548.002468  160.500000\n",
      "Apr  125.150002  537.340027  171.289993\n",
      "May  130.279999  532.109985  169.649994 \n",
      "\n",
      "<class 'pandas.core.frame.DataFrame'>\n",
      "Index: 12 entries, Jan to Dec\n",
      "Data columns (total 3 columns):\n",
      " #   Column  Non-Null Count  Dtype  \n",
      "---  ------  --------------  -----  \n",
      " 0   AAPL    12 non-null     float64\n",
      " 1   GOOG    12 non-null     float64\n",
      " 2   IBM     12 non-null     float64\n",
      "dtypes: float64(3)\n",
      "memory usage: 384.0+ bytes\n",
      "None\n"
     ]
    }
   ],
   "source": [
    "import numpy as np\n",
    "import pandas as pd\n",
    "import matplotlib.pyplot as plt\n",
    "\n",
    "values = {'Jan': [117.160004, 534.5224450000002, 153.309998],\n",
    "          'Feb': [128.46000700000002, 558.402511, 161.940002],\n",
    "          'Mar': [124.43, 548.002468, 160.5],\n",
    "          'Apr': [125.150002, 537.340027, 171.28999299999995],\n",
    "          'May': [130.279999, 532.1099849999998, 169.649994],\n",
    "          'Jun': [125.43, 520.51001, 162.660004],\n",
    "          'Jul': [121.300003, 625.6099849999998, 161.990005],\n",
    "          'Aug': [112.760002, 618.25, 147.889999],\n",
    "          'Sep': [110.300003, 608.419983, 144.970001],\n",
    "          'Oct': [119.5, 710.8099980000002, 140.080002],\n",
    "          'Nov': [118.300003, 742.599976, 139.419998],\n",
    "          'Dec': [105.260002, 758.880005, 137.619995]}\n",
    "\n",
    "stocks_df = pd.DataFrame.from_dict(values, orient='index')\n",
    "cols = ['AAPL', 'GOOG', 'IBM']\n",
    "stocks_df.columns = cols\n",
    "print(stocks_df.head(), '\\n')\n",
    "print(stocks_df.info())"
   ]
  },
  {
   "cell_type": "markdown",
   "metadata": {
    "pycharm": {
     "name": "#%% md\n"
    }
   },
   "source": [
    "#### Instructions (3 points)\n",
    "\n",
    "* Create a list of y-axis column names called `y_columns` consisting of `'AAPL'` and `'IBM'`.\n",
    "* Generate a line plot with `y=y_columns` as inputs. We are using the index as x values, so use option `use_index=True` in the `plot()` method\n",
    "* Give the plot a title of `'Monthly stock prices'`.\n",
    "* Specify the y-axis label as `'Price ($US)'`.\n",
    "* Display the plot."
   ]
  },
  {
   "cell_type": "code",
   "execution_count": 17,
   "metadata": {
    "pycharm": {
     "name": "#%%\n"
    }
   },
   "outputs": [
    {
     "data": {
      "image/png": "[encoded data removed]",
      "text/plain": [
       "<Figure size 640x480 with 1 Axes>"
      ]
     },
     "metadata": {},
     "output_type": "display_data"
    }
   ],
   "source": [
    "# Create a list of y-axis column names: y_columns consisting of 'AAPL' and 'IBM'\n",
    "y_columns = ['AAPL', 'IBM']\n",
    "\n",
    "# Generate a line plot. We are using the index as x values, so use option 'use_index=True' in the plot() method\n",
    "stocks_df.plot(y=y_columns, use_index=True)\n",
    "\n",
    "# Add the title 'Monthly stock prices'\n",
    "plt.title('Monthly stock prices')\n",
    "\n",
    "# Add the y-axis label 'Price ($US)'\n",
    "plt.ylabel('Price ($US)')\n",
    "\n",
    "# Display the plot\n",
    "plt.show()"
   ]
  },
  {
   "cell_type": "markdown",
   "metadata": {
    "pycharm": {
     "name": "#%% md\n"
    }
   },
   "source": [
    "### 2. pandas scatter plots\n",
    "\n",
    "Pandas scatter plots are generated using the ```kind='scatter'``` keyword argument. Scatter plots require that the x and y columns be chosen by specifying the ```x``` and ```y``` parameters inside ```.plot()```. Scatter plots can also take an ```s``` keyword argument to provide the radius of each circle to plot in pixels.\n",
    "\n",
    "In this exercise, you're going to plot fuel efficiency (miles-per-gallon) versus horse-power for 392 automobiles manufactured from 1970 to 1982 from the [UCI Machine Learning Repository](#https://archive.ics.uci.edu/ml/datasets/Auto+MPG).\n",
    "\n",
    "All necessary modules have been imported and the DataFrame is available in the workspace as `auto_df`.\n",
    "\n",
    "### Instructions\n",
    "\n",
    "* run the following cell to see the dataset"
   ]
  },
  {
   "cell_type": "code",
   "execution_count": 18,
   "metadata": {
    "pycharm": {
     "name": "#%%\n"
    }
   },
   "outputs": [
    {
     "name": "stdout",
     "output_type": "stream",
     "text": [
      "    mpg  cyl  displ   hp  weight  accel  yr origin                       name\n",
      "0  18.0    8  307.0  130    3504   12.0  70     US  chevrolet chevelle malibu\n",
      "1  15.0    8  350.0  165    3693   11.5  70     US          buick skylark 320\n",
      "2  18.0    8  318.0  150    3436   11.0  70     US         plymouth satellite\n",
      "3  16.0    8  304.0  150    3433   12.0  70     US              amc rebel sst\n",
      "4  17.0    8  302.0  140    3449   10.5  70     US                ford torino \n",
      "\n",
      "<class 'pandas.core.frame.DataFrame'>\n",
      "RangeIndex: 392 entries, 0 to 391\n",
      "Data columns (total 9 columns):\n",
      " #   Column  Non-Null Count  Dtype  \n",
      "---  ------  --------------  -----  \n",
      " 0   mpg     392 non-null    float64\n",
      " 1   cyl     392 non-null    int64  \n",
      " 2   displ   392 non-null    float64\n",
      " 3   hp      392 non-null    int64  \n",
      " 4   weight  392 non-null    int64  \n",
      " 5   accel   392 non-null    float64\n",
      " 6   yr      392 non-null    int64  \n",
      " 7   origin  392 non-null    object \n",
      " 8   name    392 non-null    object \n",
      "dtypes: float64(3), int64(4), object(2)\n",
      "memory usage: 27.7+ KB\n",
      "None \n",
      "\n"
     ]
    }
   ],
   "source": [
    "data_file = 'https://github.com/huangpen77/BUDT704/raw/main/Chapter06/auto-mpg.csv'\n",
    "auto_df = pd.read_csv(data_file)\n",
    "print(auto_df.head(), '\\n')\n",
    "print(auto_df.info(), '\\n')"
   ]
  },
  {
   "cell_type": "markdown",
   "metadata": {},
   "source": [
    "### Instructions (3 points)\n",
    "\n",
    "* Generate a scatter plot with `'hp'` on the x-axis and `'mpg'` on the y-axis.\n",
    "* Add a title to the plot.\n",
    "* Specify the x-axis and y-axis labels."
   ]
  },
  {
   "cell_type": "code",
   "execution_count": 19,
   "metadata": {
    "pycharm": {
     "name": "#%%\n"
    }
   },
   "outputs": [
    {
     "data": {
      "image/png": "[encoded data removed]",
      "text/plain": [
       "<Figure size 640x480 with 1 Axes>"
      ]
     },
     "metadata": {},
     "output_type": "display_data"
    }
   ],
   "source": [
    "\n",
    "import matplotlib.pyplot as plt\n",
    "\n",
    "# Generate a scatter plot with 'hp'on the x-axis and 'mpg' on the y-axis. \n",
    "auto_df.plot(kind='scatter', x='hp', y='mpg')\n",
    "\n",
    "# Add the title 'Fuel efficiency vs Horse-power'\n",
    "plt.title('Fuel efficiency vs Horse-power')\n",
    "\n",
    "# Add the x-axis label\n",
    "plt.xlabel('Horse-power')\n",
    "\n",
    "# Add the y-axis label\n",
    "plt.ylabel('Fuel efficiency (mpg)')\n",
    "\n",
    "# Display the plot\n",
    "plt.show()"
   ]
  },
  {
   "cell_type": "markdown",
   "metadata": {
    "pycharm": {
     "name": "#%% md\n"
    }
   },
   "source": [
    "### 3 pandas box plots\n",
    "\n",
    "While pandas can plot multiple columns of data in a single figure, making plots that share the same x and y axes, there are cases where two columns cannot be plotted together because their units do not match. The ```.plot()``` method can generate subplots for each column being plotted. Here, each plot will be scaled independently.\n",
    "\n",
    "In this exercise your job is to generate box plots for `fuel efficiency (mpg)` and `weight` from the automobiles data set. To do this in a single figure, you'll specify ```subplots=True``` inside ```.plot()``` to generate two separate plots.\n",
    "\n",
    "All necessary modules have been imported and the automobiles dataset is available in the workspace as ```auto_df```.\n",
    "\n",
    "#### Instructions (2 points)\n",
    "\n",
    "* Make a list called `cols` of the column names to be plotted: `'weight'` and `'mpg'`.\n",
    "* Call plot on `auto_df[cols]` to generate a box plot of the two columns in a single figure. To do this, specify `subplots=True`."
   ]
  },
  {
   "cell_type": "code",
   "execution_count": 20,
   "metadata": {
    "pycharm": {
     "name": "#%%\n"
    }
   },
   "outputs": [
    {
     "data": {
      "image/png": "[encoded data removed]",
      "text/plain": [
       "<Figure size 640x480 with 2 Axes>"
      ]
     },
     "metadata": {},
     "output_type": "display_data"
    }
   ],
   "source": [
    "# Make a list of the column names to be plotted: cols\n",
    "cols = ['weight', 'mpg']\n",
    "\n",
    "# Generate the box plots, specify 'subplots=True'\n",
    "auto_df[cols].plot(kind='box', subplots=True)\n",
    "\n",
    "# Display the plot\n",
    "plt.show()"
   ]
  },
  {
   "cell_type": "markdown",
   "metadata": {
    "pycharm": {
     "name": "#%% md\n"
    }
   },
   "source": [
    "## Exercise 5.8\n",
    "### 1. Bachelor's degrees awarded to women\n",
    "In this exercise, you will investigate statistics of the percentage of Bachelor's degrees awarded to women from 1970 to 2011. Data is recorded every year for 17 different fields. This data set was obtained from the [Digest of Education Statistics](http://nces.ed.gov/programs/digest/2013menu_tables.asp).\n",
    "\n",
    "Your job is to compute the minimum and maximum values of the ```'Engineering'``` column and generate a line plot of the mean value of all 17 academic fields per year. To perform this step, you'll use the ```.mean()``` method with the keyword argument ```axis='columns'```. This computes the mean across all columns per row.\n",
    "\n",
    "The DataFrame has been pre-loaded for you as ```df``` with the index set to ```'Year'```."
   ]
  },
  {
   "cell_type": "code",
   "execution_count": 4,
   "metadata": {
    "pycharm": {
     "name": "#%%\n"
    }
   },
   "outputs": [
    {
     "data": {
      "text/html": [
       "<div>\n",
       "<style scoped>\n",
       "    .dataframe tbody tr th:only-of-type {\n",
       "        vertical-align: middle;\n",
       "    }\n",
       "\n",
       "    .dataframe tbody tr th {\n",
       "        vertical-align: top;\n",
       "    }\n",
       "\n",
       "    .dataframe thead th {\n",
       "        text-align: right;\n",
       "    }\n",
       "</style>\n",
       "<table border=\"1\" class=\"dataframe\">\n",
       "  <thead>\n",
       "    <tr style=\"text-align: right;\">\n",
       "      <th></th>\n",
       "      <th>Agriculture</th>\n",
       "      <th>Architecture</th>\n",
       "      <th>Art and Performance</th>\n",
       "      <th>Biology</th>\n",
       "      <th>Business</th>\n",
       "      <th>Communications and Journalism</th>\n",
       "      <th>Computer Science</th>\n",
       "      <th>Education</th>\n",
       "      <th>Engineering</th>\n",
       "      <th>English</th>\n",
       "      <th>Foreign Languages</th>\n",
       "      <th>Health Professions</th>\n",
       "      <th>Math and Statistics</th>\n",
       "      <th>Physical Sciences</th>\n",
       "      <th>Psychology</th>\n",
       "      <th>Public Administration</th>\n",
       "      <th>Social Sciences and History</th>\n",
       "    </tr>\n",
       "    <tr>\n",
       "      <th>Year</th>\n",
       "      <th></th>\n",
       "      <th></th>\n",
       "      <th></th>\n",
       "      <th></th>\n",
       "      <th></th>\n",
       "      <th></th>\n",
       "      <th></th>\n",
       "      <th></th>\n",
       "      <th></th>\n",
       "      <th></th>\n",
       "      <th></th>\n",
       "      <th></th>\n",
       "      <th></th>\n",
       "      <th></th>\n",
       "      <th></th>\n",
       "      <th></th>\n",
       "      <th></th>\n",
       "    </tr>\n",
       "  </thead>\n",
       "  <tbody>\n",
       "    <tr>\n",
       "      <th>1970</th>\n",
       "      <td>4.229798</td>\n",
       "      <td>11.921005</td>\n",
       "      <td>59.7</td>\n",
       "      <td>29.088363</td>\n",
       "      <td>9.064439</td>\n",
       "      <td>35.3</td>\n",
       "      <td>13.6</td>\n",
       "      <td>74.535328</td>\n",
       "      <td>0.8</td>\n",
       "      <td>65.570923</td>\n",
       "      <td>73.8</td>\n",
       "      <td>77.1</td>\n",
       "      <td>38.0</td>\n",
       "      <td>13.8</td>\n",
       "      <td>44.4</td>\n",
       "      <td>68.4</td>\n",
       "      <td>36.8</td>\n",
       "    </tr>\n",
       "    <tr>\n",
       "      <th>1971</th>\n",
       "      <td>5.452797</td>\n",
       "      <td>12.003106</td>\n",
       "      <td>59.9</td>\n",
       "      <td>29.394403</td>\n",
       "      <td>9.503187</td>\n",
       "      <td>35.5</td>\n",
       "      <td>13.6</td>\n",
       "      <td>74.149204</td>\n",
       "      <td>1.0</td>\n",
       "      <td>64.556485</td>\n",
       "      <td>73.9</td>\n",
       "      <td>75.5</td>\n",
       "      <td>39.0</td>\n",
       "      <td>14.9</td>\n",
       "      <td>46.2</td>\n",
       "      <td>65.5</td>\n",
       "      <td>36.2</td>\n",
       "    </tr>\n",
       "    <tr>\n",
       "      <th>1972</th>\n",
       "      <td>7.420710</td>\n",
       "      <td>13.214594</td>\n",
       "      <td>60.4</td>\n",
       "      <td>29.810221</td>\n",
       "      <td>10.558962</td>\n",
       "      <td>36.6</td>\n",
       "      <td>14.9</td>\n",
       "      <td>73.554520</td>\n",
       "      <td>1.2</td>\n",
       "      <td>63.664263</td>\n",
       "      <td>74.6</td>\n",
       "      <td>76.9</td>\n",
       "      <td>40.2</td>\n",
       "      <td>14.8</td>\n",
       "      <td>47.6</td>\n",
       "      <td>62.6</td>\n",
       "      <td>36.1</td>\n",
       "    </tr>\n",
       "    <tr>\n",
       "      <th>1973</th>\n",
       "      <td>9.653602</td>\n",
       "      <td>14.791613</td>\n",
       "      <td>60.2</td>\n",
       "      <td>31.147915</td>\n",
       "      <td>12.804602</td>\n",
       "      <td>38.4</td>\n",
       "      <td>16.4</td>\n",
       "      <td>73.501814</td>\n",
       "      <td>1.6</td>\n",
       "      <td>62.941502</td>\n",
       "      <td>74.9</td>\n",
       "      <td>77.4</td>\n",
       "      <td>40.9</td>\n",
       "      <td>16.5</td>\n",
       "      <td>50.4</td>\n",
       "      <td>64.3</td>\n",
       "      <td>36.4</td>\n",
       "    </tr>\n",
       "    <tr>\n",
       "      <th>1974</th>\n",
       "      <td>14.074623</td>\n",
       "      <td>17.444688</td>\n",
       "      <td>61.9</td>\n",
       "      <td>32.996183</td>\n",
       "      <td>16.204850</td>\n",
       "      <td>40.5</td>\n",
       "      <td>18.9</td>\n",
       "      <td>73.336811</td>\n",
       "      <td>2.2</td>\n",
       "      <td>62.413412</td>\n",
       "      <td>75.3</td>\n",
       "      <td>77.9</td>\n",
       "      <td>41.8</td>\n",
       "      <td>18.2</td>\n",
       "      <td>52.6</td>\n",
       "      <td>66.1</td>\n",
       "      <td>37.3</td>\n",
       "    </tr>\n",
       "  </tbody>\n",
       "</table>\n",
       "</div>"
      ],
      "text/plain": [
       "      Agriculture  Architecture  Art and Performance    Biology   Business  \\\n",
       "Year                                                                         \n",
       "1970     4.229798     11.921005                 59.7  29.088363   9.064439   \n",
       "1971     5.452797     12.003106                 59.9  29.394403   9.503187   \n",
       "1972     7.420710     13.214594                 60.4  29.810221  10.558962   \n",
       "1973     9.653602     14.791613                 60.2  31.147915  12.804602   \n",
       "1974    14.074623     17.444688                 61.9  32.996183  16.204850   \n",
       "\n",
       "      Communications and Journalism  Computer Science  Education  Engineering  \\\n",
       "Year                                                                            \n",
       "1970                           35.3              13.6  74.535328          0.8   \n",
       "1971                           35.5              13.6  74.149204          1.0   \n",
       "1972                           36.6              14.9  73.554520          1.2   \n",
       "1973                           38.4              16.4  73.501814          1.6   \n",
       "1974                           40.5              18.9  73.336811          2.2   \n",
       "\n",
       "        English  Foreign Languages  Health Professions  Math and Statistics  \\\n",
       "Year                                                                          \n",
       "1970  65.570923               73.8                77.1                 38.0   \n",
       "1971  64.556485               73.9                75.5                 39.0   \n",
       "1972  63.664263               74.6                76.9                 40.2   \n",
       "1973  62.941502               74.9                77.4                 40.9   \n",
       "1974  62.413412               75.3                77.9                 41.8   \n",
       "\n",
       "      Physical Sciences  Psychology  Public Administration  \\\n",
       "Year                                                         \n",
       "1970               13.8        44.4                   68.4   \n",
       "1971               14.9        46.2                   65.5   \n",
       "1972               14.8        47.6                   62.6   \n",
       "1973               16.5        50.4                   64.3   \n",
       "1974               18.2        52.6                   66.1   \n",
       "\n",
       "      Social Sciences and History  \n",
       "Year                               \n",
       "1970                         36.8  \n",
       "1971                         36.2  \n",
       "1972                         36.1  \n",
       "1973                         36.4  \n",
       "1974                         37.3  "
      ]
     },
     "execution_count": 4,
     "metadata": {},
     "output_type": "execute_result"
    }
   ],
   "source": [
    "import pandas as pd\n",
    "data_file = 'https://github.com/huangpen77/BUDT704/raw/main/Chapter06/percent-bachelors-degrees-women-usa.csv'\n",
    "df = pd.read_csv(data_file, index_col='Year')\n",
    "df.head()"
   ]
  },
  {
   "cell_type": "markdown",
   "metadata": {},
   "source": [
    "#### Instructions (4 points)\n",
    "\n",
    "* Print the minimum value of the `'Engineering'` column. Note: `df.Engineering` and `df['Engineering']` are equivalent.\n",
    "* Print the maximum value of the `'Engineering'` column.\n",
    "* Construct the mean percentage of each column `.mean()`, and sort the result in ascending order.\n",
    "* Construct the mean percentage per year with `.mean(axis=1)`. Assign the result to `yearly_mean`."
   ]
  },
  {
   "cell_type": "code",
   "execution_count": 22,
   "metadata": {
    "pycharm": {
     "name": "#%%\n"
    }
   },
   "outputs": [
    {
     "data": {
      "text/plain": [
       "0.8"
      ]
     },
     "execution_count": 22,
     "metadata": {},
     "output_type": "execute_result"
    }
   ],
   "source": [
    "# Print the minimum value of the Engineering column. Note: df.Engineering and df['Engineering'] are equivalent.\n",
    "df.Engineering.min()"
   ]
  },
  {
   "cell_type": "code",
   "execution_count": 23,
   "metadata": {
    "pycharm": {
     "name": "#%%\n"
    }
   },
   "outputs": [
    {
     "data": {
      "text/plain": [
       "19.0"
      ]
     },
     "execution_count": 23,
     "metadata": {},
     "output_type": "execute_result"
    }
   ],
   "source": [
    "# Print the maximum value of the Engineering column\n",
    "df.Engineering.max()"
   ]
  },
  {
   "cell_type": "code",
   "execution_count": 28,
   "metadata": {},
   "outputs": [
    {
     "data": {
      "text/plain": [
       "Year\n",
       "1970    38.594697\n",
       "1971    38.603481\n",
       "1972    39.066075\n",
       "1973    40.131826\n",
       "1974    41.715916\n",
       "1975    42.373672\n",
       "1976    44.015581\n",
       "1977    45.673823\n",
       "1978    47.308670\n",
       "1979    48.811798\n",
       "1980    49.980583\n",
       "1981    50.974090\n",
       "1982    52.009448\n",
       "1983    52.187399\n",
       "1984    52.474007\n",
       "1985    52.399548\n",
       "1986    52.752830\n",
       "1987    53.169798\n",
       "1988    53.130635\n",
       "1989    53.305542\n",
       "1990    53.737364\n",
       "1991    53.471622\n",
       "1992    53.262399\n",
       "1993    53.199202\n",
       "1994    53.238427\n",
       "1995    53.508401\n",
       "1996    53.941559\n",
       "1997    54.446953\n",
       "1998    55.227195\n",
       "1999    55.971538\n",
       "2000    56.501939\n",
       "2001    56.946913\n",
       "2002    57.181722\n",
       "2003    57.367542\n",
       "2004    57.019094\n",
       "2005    56.723782\n",
       "2006    56.262194\n",
       "2007    56.053781\n",
       "2008    55.903924\n",
       "2009    56.026406\n",
       "2010    55.883043\n",
       "2011    55.999587\n",
       "dtype: float64"
      ]
     },
     "execution_count": 28,
     "metadata": {},
     "output_type": "execute_result"
    }
   ],
   "source": [
    "# Construct the mean percentage of each column, and sort the result in ascending order.\n",
    "df.mean(axis='columns')"
   ]
  },
  {
   "cell_type": "code",
   "execution_count": 30,
   "metadata": {
    "pycharm": {
     "name": "#%%\n"
    }
   },
   "outputs": [
    {
     "data": {
      "text/plain": [
       "Year\n",
       "1970    38.594697\n",
       "1971    38.603481\n",
       "1972    39.066075\n",
       "1973    40.131826\n",
       "1974    41.715916\n",
       "dtype: float64"
      ]
     },
     "execution_count": 30,
     "metadata": {},
     "output_type": "execute_result"
    }
   ],
   "source": [
    "# Construct the mean percentage per year: yearly_mean\n",
    "yearly_mean = df.mean(axis=1)\n",
    "yearly_mean.head()"
   ]
  },
  {
   "cell_type": "markdown",
   "metadata": {
    "pycharm": {
     "name": "#%% md\n"
    }
   },
   "source": [
    "### 2. Titanic ticket fare\n",
    "\n",
    "In many data sets, there can be large differences in the mean and median value due to the presence of outliers.\n",
    "\n",
    "In this exercise, you'll investigate the mean, median, and max fare prices paid by passengers on the Titanic and generate a box plot of the fare prices. This data set was obtained from [Vanderbilt University](#http://biostat.mc.vanderbilt.edu/wiki/pub/Main/DataSets/titanic.html).\n",
    "\n",
    "All necessary modules have been imported and the DataFrame is available in the workspace as ```df```.\n",
    "\n",
    "#### Instructions (2 points)\n",
    "\n",
    "* Print summary statistics of the `fare` column of `df` with `.describe()` and `print()`. Note: `df.fare` and `df['fare']` are equivalent.\n",
    "* Generate a box plot of the `fare` column."
   ]
  },
  {
   "cell_type": "code",
   "execution_count": 5,
   "metadata": {
    "pycharm": {
     "name": "#%%\n"
    }
   },
   "outputs": [
    {
     "data": {
      "text/html": [
       "<div>\n",
       "<style scoped>\n",
       "    .dataframe tbody tr th:only-of-type {\n",
       "        vertical-align: middle;\n",
       "    }\n",
       "\n",
       "    .dataframe tbody tr th {\n",
       "        vertical-align: top;\n",
       "    }\n",
       "\n",
       "    .dataframe thead th {\n",
       "        text-align: right;\n",
       "    }\n",
       "</style>\n",
       "<table border=\"1\" class=\"dataframe\">\n",
       "  <thead>\n",
       "    <tr style=\"text-align: right;\">\n",
       "      <th></th>\n",
       "      <th>pclass</th>\n",
       "      <th>survived</th>\n",
       "      <th>name</th>\n",
       "      <th>sex</th>\n",
       "      <th>age</th>\n",
       "      <th>sibsp</th>\n",
       "      <th>parch</th>\n",
       "      <th>ticket</th>\n",
       "      <th>fare</th>\n",
       "      <th>cabin</th>\n",
       "      <th>embarked</th>\n",
       "      <th>boat</th>\n",
       "      <th>body</th>\n",
       "      <th>home.dest</th>\n",
       "    </tr>\n",
       "  </thead>\n",
       "  <tbody>\n",
       "    <tr>\n",
       "      <th>0</th>\n",
       "      <td>1</td>\n",
       "      <td>1</td>\n",
       "      <td>Allen, Miss. Elisabeth Walton</td>\n",
       "      <td>female</td>\n",
       "      <td>29.00</td>\n",
       "      <td>0</td>\n",
       "      <td>0</td>\n",
       "      <td>24160</td>\n",
       "      <td>211.3375</td>\n",
       "      <td>B5</td>\n",
       "      <td>S</td>\n",
       "      <td>2</td>\n",
       "      <td>NaN</td>\n",
       "      <td>St Louis, MO</td>\n",
       "    </tr>\n",
       "    <tr>\n",
       "      <th>1</th>\n",
       "      <td>1</td>\n",
       "      <td>1</td>\n",
       "      <td>Allison, Master. Hudson Trevor</td>\n",
       "      <td>male</td>\n",
       "      <td>0.92</td>\n",
       "      <td>1</td>\n",
       "      <td>2</td>\n",
       "      <td>113781</td>\n",
       "      <td>151.5500</td>\n",
       "      <td>C22 C26</td>\n",
       "      <td>S</td>\n",
       "      <td>11</td>\n",
       "      <td>NaN</td>\n",
       "      <td>Montreal, PQ / Chesterville, ON</td>\n",
       "    </tr>\n",
       "    <tr>\n",
       "      <th>2</th>\n",
       "      <td>1</td>\n",
       "      <td>0</td>\n",
       "      <td>Allison, Miss. Helen Loraine</td>\n",
       "      <td>female</td>\n",
       "      <td>2.00</td>\n",
       "      <td>1</td>\n",
       "      <td>2</td>\n",
       "      <td>113781</td>\n",
       "      <td>151.5500</td>\n",
       "      <td>C22 C26</td>\n",
       "      <td>S</td>\n",
       "      <td>NaN</td>\n",
       "      <td>NaN</td>\n",
       "      <td>Montreal, PQ / Chesterville, ON</td>\n",
       "    </tr>\n",
       "    <tr>\n",
       "      <th>3</th>\n",
       "      <td>1</td>\n",
       "      <td>0</td>\n",
       "      <td>Allison, Mr. Hudson Joshua Creighton</td>\n",
       "      <td>male</td>\n",
       "      <td>30.00</td>\n",
       "      <td>1</td>\n",
       "      <td>2</td>\n",
       "      <td>113781</td>\n",
       "      <td>151.5500</td>\n",
       "      <td>C22 C26</td>\n",
       "      <td>S</td>\n",
       "      <td>NaN</td>\n",
       "      <td>135.0</td>\n",
       "      <td>Montreal, PQ / Chesterville, ON</td>\n",
       "    </tr>\n",
       "    <tr>\n",
       "      <th>4</th>\n",
       "      <td>1</td>\n",
       "      <td>0</td>\n",
       "      <td>Allison, Mrs. Hudson J C (Bessie Waldo Daniels)</td>\n",
       "      <td>female</td>\n",
       "      <td>25.00</td>\n",
       "      <td>1</td>\n",
       "      <td>2</td>\n",
       "      <td>113781</td>\n",
       "      <td>151.5500</td>\n",
       "      <td>C22 C26</td>\n",
       "      <td>S</td>\n",
       "      <td>NaN</td>\n",
       "      <td>NaN</td>\n",
       "      <td>Montreal, PQ / Chesterville, ON</td>\n",
       "    </tr>\n",
       "  </tbody>\n",
       "</table>\n",
       "</div>"
      ],
      "text/plain": [
       "   pclass  survived                                             name     sex  \\\n",
       "0       1         1                    Allen, Miss. Elisabeth Walton  female   \n",
       "1       1         1                   Allison, Master. Hudson Trevor    male   \n",
       "2       1         0                     Allison, Miss. Helen Loraine  female   \n",
       "3       1         0             Allison, Mr. Hudson Joshua Creighton    male   \n",
       "4       1         0  Allison, Mrs. Hudson J C (Bessie Waldo Daniels)  female   \n",
       "\n",
       "     age  sibsp  parch  ticket      fare    cabin embarked boat   body  \\\n",
       "0  29.00      0      0   24160  211.3375       B5        S    2    NaN   \n",
       "1   0.92      1      2  113781  151.5500  C22 C26        S   11    NaN   \n",
       "2   2.00      1      2  113781  151.5500  C22 C26        S  NaN    NaN   \n",
       "3  30.00      1      2  113781  151.5500  C22 C26        S  NaN  135.0   \n",
       "4  25.00      1      2  113781  151.5500  C22 C26        S  NaN    NaN   \n",
       "\n",
       "                         home.dest  \n",
       "0                     St Louis, MO  \n",
       "1  Montreal, PQ / Chesterville, ON  \n",
       "2  Montreal, PQ / Chesterville, ON  \n",
       "3  Montreal, PQ / Chesterville, ON  \n",
       "4  Montreal, PQ / Chesterville, ON  "
      ]
     },
     "execution_count": 5,
     "metadata": {},
     "output_type": "execute_result"
    }
   ],
   "source": [
    "data_file = 'https://github.com/huangpen77/BUDT704/raw/main/Chapter06/titanic.csv'\n",
    "df = pd.read_csv(data_file)\n",
    "df.head()"
   ]
  },
  {
   "cell_type": "code",
   "execution_count": 6,
   "metadata": {
    "pycharm": {
     "name": "#%%\n"
    }
   },
   "outputs": [
    {
     "name": "stdout",
     "output_type": "stream",
     "text": [
      "count    1308.000000\n",
      "mean       33.295479\n",
      "std        51.758668\n",
      "min         0.000000\n",
      "25%         7.895800\n",
      "50%        14.454200\n",
      "75%        31.275000\n",
      "max       512.329200\n",
      "Name: fare, dtype: float64\n"
     ]
    }
   ],
   "source": [
    "# Print summary statistics of the 'fare' column of df with .describe().\n",
    "print(df.fare.describe())"
   ]
  },
  {
   "cell_type": "code",
   "execution_count": 9,
   "metadata": {
    "pycharm": {
     "name": "#%%\n"
    }
   },
   "outputs": [
    {
     "data": {
      "text/plain": [
       "<AxesSubplot: >"
      ]
     },
     "execution_count": 9,
     "metadata": {},
     "output_type": "execute_result"
    },
    {
     "data": {
      "image/png": "[encoded data removed]",
      "text/plain": [
       "<Figure size 640x480 with 1 Axes>"
      ]
     },
     "metadata": {},
     "output_type": "display_data"
    }
   ],
   "source": [
    "# Generate a box plot of the 'fare'column.\n",
    "df.fare.plot(kind='box')"
   ]
  },
  {
   "cell_type": "markdown",
   "metadata": {
    "pycharm": {
     "name": "#%% md\n"
    }
   },
   "source": [
    "### 3. Standard deviation of temperature\n",
    "\n",
    "Let's use the mean and standard deviation to explore differences in temperature distributions in Pittsburgh in 2013. The data has been obtained from [Weather Underground](#https://www.wunderground.com/history/).\n",
    "\n",
    "In this exercise, you're going to compare the distribution of daily temperatures in January and March. You'll compute the mean and standard deviation for these two months. You will notice that while the mean values are similar, the standard deviations are quite different, meaning that one month had a larger fluctuation in temperature than the other.\n",
    "\n",
    "The DataFrames have been pre-loaded for you as ```january```, which contains the January data.\n",
    "\n",
    "#### Instructions (2 points)\n",
    "\n",
    "* Compute and print the means of the January data using the `.mean()` method.\n",
    "* Compute and print the standard deviations of the January data using the `.std()` method."
   ]
  },
  {
   "cell_type": "code",
   "execution_count": 11,
   "metadata": {},
   "outputs": [
    {
     "data": {
      "text/html": [
       "<div>\n",
       "<style scoped>\n",
       "    .dataframe tbody tr th:only-of-type {\n",
       "        vertical-align: middle;\n",
       "    }\n",
       "\n",
       "    .dataframe tbody tr th {\n",
       "        vertical-align: top;\n",
       "    }\n",
       "\n",
       "    .dataframe thead th {\n",
       "        text-align: right;\n",
       "    }\n",
       "</style>\n",
       "<table border=\"1\" class=\"dataframe\">\n",
       "  <thead>\n",
       "    <tr style=\"text-align: right;\">\n",
       "      <th></th>\n",
       "      <th>Date</th>\n",
       "      <th>Temperature</th>\n",
       "    </tr>\n",
       "  </thead>\n",
       "  <tbody>\n",
       "    <tr>\n",
       "      <th>0</th>\n",
       "      <td>2013-01-01</td>\n",
       "      <td>28</td>\n",
       "    </tr>\n",
       "    <tr>\n",
       "      <th>1</th>\n",
       "      <td>2013-01-02</td>\n",
       "      <td>21</td>\n",
       "    </tr>\n",
       "    <tr>\n",
       "      <th>2</th>\n",
       "      <td>2013-01-03</td>\n",
       "      <td>24</td>\n",
       "    </tr>\n",
       "    <tr>\n",
       "      <th>3</th>\n",
       "      <td>2013-01-04</td>\n",
       "      <td>28</td>\n",
       "    </tr>\n",
       "    <tr>\n",
       "      <th>4</th>\n",
       "      <td>2013-01-05</td>\n",
       "      <td>30</td>\n",
       "    </tr>\n",
       "  </tbody>\n",
       "</table>\n",
       "</div>"
      ],
      "text/plain": [
       "         Date  Temperature\n",
       "0  2013-01-01           28\n",
       "1  2013-01-02           21\n",
       "2  2013-01-03           24\n",
       "3  2013-01-04           28\n",
       "4  2013-01-05           30"
      ]
     },
     "execution_count": 11,
     "metadata": {},
     "output_type": "execute_result"
    }
   ],
   "source": [
    "january = pd.read_csv('https://github.com/huangpen77/BUDT704/raw/main/Chapter06/january.csv')\n",
    "january.head()"
   ]
  },
  {
   "cell_type": "code",
   "execution_count": 12,
   "metadata": {
    "pycharm": {
     "name": "#%%\n"
    }
   },
   "outputs": [
    {
     "data": {
      "text/plain": [
       "32.354838709677416"
      ]
     },
     "execution_count": 12,
     "metadata": {},
     "output_type": "execute_result"
    }
   ],
   "source": [
    "# Print the mean of the January data\n",
    "january.Temperature.mean()"
   ]
  },
  {
   "cell_type": "code",
   "execution_count": 13,
   "metadata": {
    "pycharm": {
     "name": "#%%\n"
    }
   },
   "outputs": [
    {
     "data": {
      "text/plain": [
       "13.583196450263523"
      ]
     },
     "execution_count": 13,
     "metadata": {},
     "output_type": "execute_result"
    }
   ],
   "source": [
    "# Print the standard deviation of the January data\n",
    "january.Temperature.std()"
   ]
  }
 ],
 "metadata": {
  "kernelspec": {
   "display_name": "Python 3 (ipykernel)",
   "language": "python",
   "name": "python3"
  },
  "language_info": {
   "codemirror_mode": {
    "name": "ipython",
    "version": 3
   },
   "file_extension": ".py",
   "mimetype": "text/x-python",
   "name": "python",
   "nbconvert_exporter": "python",
   "pygments_lexer": "ipython3",
   "version": "3.9.12"
  },
  "vscode": {
   "interpreter": {
    "hash": "225ebaf34ab10a2d155624e96c3881b51b6c8abb9886d1096d80b3981ba9ef83"
   }
  }
 },
 "nbformat": 4,
 "nbformat_minor": 2
}
